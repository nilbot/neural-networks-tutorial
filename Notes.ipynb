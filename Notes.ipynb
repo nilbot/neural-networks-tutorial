{
 "cells": [
  {
   "cell_type": "markdown",
   "metadata": {
    "deletable": true,
    "editable": true
   },
   "source": [
    "# Preface\n",
    "My occupation is wizard: I wave my magic wand and shit happens. \n",
    "> We are about to talk about study the idea of a computational process. Computational processes are abstract beings that inhabit computers. As they evolve, processes manipulate other abstract things called data. The evolution of a process is directed by a pattern of rules called a program. People create programs to direct processes. In effect, we conjure the spirits of the computer with our spells.\n",
    "\n",
    "One of the factions in Hogwarts pushes the agenda of embracing computational process that emulates human brain and saught to obtain the oracle of solving complex problems which other factions struggled to solve. The protagonist faction in this book calls themselves Connectionists, and this is the story of connectionsm."
   ]
  },
  {
   "cell_type": "code",
   "execution_count": 1,
   "metadata": {
    "collapsed": true,
    "deletable": true,
    "editable": true
   },
   "outputs": [],
   "source": [
    "import matplotlib\n",
    "import matplotlib.pyplot as plt\n",
    "matplotlib.style.use('ggplot')\n",
    "%matplotlib inline\n",
    "import numpy as np\n",
    "\n",
    "# source file mlp.py\n",
    "import mlp"
   ]
  },
  {
   "cell_type": "markdown",
   "metadata": {
    "deletable": true,
    "editable": true
   },
   "source": [
    "## Multi-layer perceptrons\n",
    "\n",
    "- 3 layer architecture\n",
    "- feed forward\n",
    "- backpropagate for gradient descent\n",
    "- update _once_ every epoch, not during sample loop\n",
    "- training testing split, testing set untouchable\n",
    "- mini batch gradient descent for hand-written letter\n"
   ]
  },
  {
   "cell_type": "code",
   "execution_count": 2,
   "metadata": {
    "collapsed": true,
    "deletable": true,
    "editable": true
   },
   "outputs": [],
   "source": [
    "xor_X,xor_y = mlp.get_Xor_data()"
   ]
  },
  {
   "cell_type": "code",
   "execution_count": 3,
   "metadata": {
    "collapsed": false,
    "deletable": true,
    "editable": true
   },
   "outputs": [
    {
     "data": {
      "text/plain": [
       "<matplotlib.collections.PathCollection at 0x1060e7860>"
      ]
     },
     "execution_count": 3,
     "metadata": {},
     "output_type": "execute_result"
    },
    {
     "data": {
      "image/png": "[encoded data removed]",
      "text/plain": [
       "<matplotlib.figure.Figure at 0x106058358>"
      ]
     },
     "metadata": {},
     "output_type": "display_data"
    }
   ],
   "source": [
    "plt.scatter(xor_X[:,0],xor_X[:,1], c=xor_y[:,1], cmap=plt.cm.Spectral)"
   ]
  },
  {
   "cell_type": "code",
   "execution_count": 4,
   "metadata": {
    "collapsed": false,
    "deletable": true,
    "editable": true
   },
   "outputs": [],
   "source": [
    "# 2 hidden unit MLP for XOR demonstration\n",
    "xor_mlp_2 = mlp.MLP(xor_X, xor_y, 2)"
   ]
  },
  {
   "cell_type": "code",
   "execution_count": 5,
   "metadata": {
    "collapsed": false,
    "deletable": true,
    "editable": true
   },
   "outputs": [
    {
     "name": "stdout",
     "output_type": "stream",
     "text": [
      "Data loss (cross entropy) after epoch 0: 0.6861598242933123\n",
      "Data loss (cross entropy) after epoch 2000: 0.5028045648406304\n",
      "Data loss (cross entropy) after epoch 4000: 0.4788524896088624\n",
      "Data loss (cross entropy) after epoch 6000: 0.030596319443061536\n",
      "Data loss (cross entropy) after epoch 8000: 0.012764644071794779\n",
      "Data loss (cross entropy) after epoch 10000: 0.007943765071568059\n",
      "Data loss (cross entropy) after epoch 12000: 0.005736992837964628\n",
      "Data loss (cross entropy) after epoch 14000: 0.004479064073832158\n",
      "Data loss (cross entropy) after epoch 16000: 0.003668658218050916\n",
      "Data loss (cross entropy) after epoch 18000: 0.0031039719089720483\n",
      "Data loss (cross entropy) after epoch 20000: 0.0026884077996359853\n",
      "Data loss (cross entropy) after epoch 22000: 0.0023700195106840447\n",
      "Data loss (cross entropy) after epoch 24000: 0.002118422822539804\n",
      "Data loss (cross entropy) after epoch 26000: 0.0019146763676030475\n",
      "Data loss (cross entropy) after epoch 28000: 0.0017463663143026439\n",
      "Data loss (cross entropy) after epoch 30000: 0.0016050216432716734\n",
      "Data loss (cross entropy) after epoch 32000: 0.00148466620112545\n",
      "Data loss (cross entropy) after epoch 34000: 0.0013809645266173176\n",
      "Data loss (cross entropy) after epoch 36000: 0.0012906957642745307\n",
      "Data loss (cross entropy) after epoch 38000: 0.0012114176017549538\n",
      "Data loss (cross entropy) after epoch 40000: 0.0011412447617366755\n",
      "Data loss (cross entropy) after epoch 42000: 0.0010786989748629188\n",
      "Data loss (cross entropy) after epoch 44000: 0.001022604915620199\n",
      "Data loss (cross entropy) after epoch 46000: 0.0009720164829701144\n",
      "Data loss (cross entropy) after epoch 48000: 0.0009261635884878748\n",
      "Data loss (cross entropy) after epoch 50000: 0.0008844130960264844\n",
      "Data loss (cross entropy) after epoch 52000: 0.0008462397115604136\n",
      "Data loss (cross entropy) after epoch 54000: 0.0008112039885691914\n",
      "Data loss (cross entropy) after epoch 56000: 0.0007789355006264122\n",
      "Data loss (cross entropy) after epoch 58000: 0.0007491198192702147\n",
      "Data loss (cross entropy) after epoch 60000: 0.0007214883303672462\n",
      "Data loss (cross entropy) after epoch 62000: 0.0006958101929182116\n",
      "Data loss (cross entropy) after epoch 64000: 0.0006718859326152524\n",
      "Data loss (cross entropy) after epoch 66000: 0.0006495422953810919\n",
      "Data loss (cross entropy) after epoch 68000: 0.000628628081146681\n",
      "Data loss (cross entropy) after epoch 70000: 0.0006090107468857211\n",
      "Data loss (cross entropy) after epoch 72000: 0.0005905736182488503\n",
      "Data loss (cross entropy) after epoch 74000: 0.0005732135863576629\n",
      "Data loss (cross entropy) after epoch 76000: 0.0005568391941085794\n",
      "Data loss (cross entropy) after epoch 78000: 0.0005413690372909601\n",
      "Data loss (cross entropy) after epoch 80000: 0.0005267304217483582\n",
      "Data loss (cross entropy) after epoch 82000: 0.0005128582300176961\n",
      "Data loss (cross entropy) after epoch 84000: 0.0004996939603124389\n",
      "Data loss (cross entropy) after epoch 86000: 0.00048718490804815315\n",
      "Data loss (cross entropy) after epoch 88000: 0.00047528346585292797\n",
      "Data loss (cross entropy) after epoch 90000: 0.0004639465225354385\n",
      "Data loss (cross entropy) after epoch 92000: 0.000453134945074419\n",
      "Data loss (cross entropy) after epoch 94000: 0.0004428131305588575\n",
      "Data loss (cross entropy) after epoch 96000: 0.0004329486173075407\n",
      "Data loss (cross entropy) after epoch 98000: 0.0004235117462505019\n",
      "Data loss (cross entropy) after epoch 100000: 0.00041447536515751195\n",
      "Data loss (cross entropy) after epoch 102000: 0.00040581456952187064\n",
      "Data loss (cross entropy) after epoch 104000: 0.00039750647491128207\n",
      "Data loss (cross entropy) after epoch 106000: 0.0003895300164163779\n",
      "Data loss (cross entropy) after epoch 108000: 0.0003818657715108656\n",
      "Data loss (cross entropy) after epoch 110000: 0.0003744958031964685\n",
      "Data loss (cross entropy) after epoch 112000: 0.00036740352077493433\n",
      "Data loss (cross entropy) after epoch 114000: 0.00036057355597964074\n",
      "Data loss (cross entropy) after epoch 116000: 0.00035399165252754774\n",
      "Data loss (cross entropy) after epoch 118000: 0.0003476445674247638\n",
      "Data loss (cross entropy) after epoch 120000: 0.0003415199825936488\n",
      "Data loss (cross entropy) after epoch 122000: 0.00033560642558390385\n",
      "Data loss (cross entropy) after epoch 124000: 0.0003298931982974565\n",
      "Data loss (cross entropy) after epoch 126000: 0.00032437031279799566\n",
      "Data loss (cross entropy) after epoch 128000: 0.00031902843339762124\n",
      "Data loss (cross entropy) after epoch 130000: 0.0003138588243162192\n",
      "Data loss (cross entropy) after epoch 132000: 0.00030885330229830335\n",
      "Data loss (cross entropy) after epoch 134000: 0.0003040041936476826\n",
      "Data loss (cross entropy) after epoch 136000: 0.00029930429520817065\n",
      "Data loss (cross entropy) after epoch 138000: 0.00029474683887290297\n",
      "Data loss (cross entropy) after epoch 140000: 0.00029032545925611574\n",
      "Data loss (cross entropy) after epoch 142000: 0.0002860341642044324\n",
      "Data loss (cross entropy) after epoch 144000: 0.00028186730785890405\n",
      "Data loss (cross entropy) after epoch 146000: 0.0002778195660169252\n",
      "Data loss (cross entropy) after epoch 148000: 0.0002738859135659195\n",
      "Data loss (cross entropy) after epoch 150000: 0.00027006160378989985\n",
      "Data loss (cross entropy) after epoch 152000: 0.0002663421493691823\n",
      "Data loss (cross entropy) after epoch 154000: 0.00026272330491472\n",
      "Data loss (cross entropy) after epoch 156000: 0.00025920105089413323\n",
      "Data loss (cross entropy) after epoch 158000: 0.0002557715788208078\n",
      "Data loss (cross entropy) after epoch 160000: 0.00025243127759393293\n",
      "Data loss (cross entropy) after epoch 162000: 0.00024917672088458313\n",
      "Data loss (cross entropy) after epoch 164000: 0.00024600465547625685\n",
      "Data loss (cross entropy) after epoch 166000: 0.00024291199047751086\n",
      "Data loss (cross entropy) after epoch 168000: 0.00023989578732983567\n",
      "Data loss (cross entropy) after epoch 170000: 0.00023695325054505587\n",
      "Data loss (cross entropy) after epoch 172000: 0.0002340817191095451\n",
      "Data loss (cross entropy) after epoch 174000: 0.00023127865850115656\n",
      "Data loss (cross entropy) after epoch 176000: 0.0002285416532664132\n",
      "Data loss (cross entropy) after epoch 178000: 0.00022586840011605585\n",
      "Data loss (cross entropy) after epoch 180000: 0.00022325670149333086\n",
      "Data loss (cross entropy) after epoch 182000: 0.00022070445958100737\n",
      "Data loss (cross entropy) after epoch 184000: 0.00021820967071036835\n",
      "Data loss (cross entropy) after epoch 186000: 0.00021577042014222467\n",
      "Data loss (cross entropy) after epoch 188000: 0.00021338487719097454\n",
      "Data loss (cross entropy) after epoch 190000: 0.0002110512906662595\n",
      "Data loss (cross entropy) after epoch 192000: 0.00020876798460718629\n",
      "Data loss (cross entropy) after epoch 194000: 0.00020653335428863782\n",
      "Data loss (cross entropy) after epoch 196000: 0.0002043458624791436\n",
      "Data loss (cross entropy) after epoch 198000: 0.0002022040359323347\n",
      "Data loss (cross entropy) after epoch 200000: 0.0002001064620937877\n",
      "Data loss (cross entropy) after epoch 202000: 0.00019805178601061535\n",
      "Data loss (cross entropy) after epoch 204000: 0.00019603870742674844\n",
      "Data loss (cross entropy) after epoch 206000: 0.000194065978052741\n",
      "Data loss (cross entropy) after epoch 208000: 0.00019213239899695827\n",
      "Data loss (cross entropy) after epoch 210000: 0.0001902368183479802\n",
      "Data loss (cross entropy) after epoch 212000: 0.0001883781288973037\n",
      "Data loss (cross entropy) after epoch 214000: 0.00018655526599317609\n",
      "Data loss (cross entropy) after epoch 216000: 0.00018476720551692026\n",
      "Data loss (cross entropy) after epoch 218000: 0.00018301296197372364\n",
      "Data loss (cross entropy) after epoch 220000: 0.0001812915866897526\n",
      "Data loss (cross entropy) after epoch 222000: 0.0001796021661097296\n",
      "Data loss (cross entropy) after epoch 224000: 0.00017794382018827983\n",
      "Data loss (cross entropy) after epoch 226000: 0.0001763157008679911\n",
      "Data loss (cross entropy) after epoch 228000: 0.00017471699064046517\n",
      "Data loss (cross entropy) after epoch 230000: 0.0001731469011839711\n",
      "Data loss (cross entropy) after epoch 232000: 0.0001716046720733681\n",
      "Data loss (cross entropy) after epoch 234000: 0.00017008956955743656\n",
      "Data loss (cross entropy) after epoch 236000: 0.00016860088540097788\n",
      "Data loss (cross entropy) after epoch 238000: 0.00016713793578537918\n",
      "Data loss (cross entropy) after epoch 240000: 0.0001657000602662526\n",
      "Data loss (cross entropy) after epoch 242000: 0.00016428662078434448\n",
      "Data loss (cross entropy) after epoch 244000: 0.00016289700072488192\n",
      "Data loss (cross entropy) after epoch 246000: 0.0001615306040256609\n",
      "Data loss (cross entropy) after epoch 248000: 0.00016018685432779453\n"
     ]
    }
   ],
   "source": [
    "_,losslog =xor_mlp_2.train(print_loss=True)\n"
   ]
  },
  {
   "cell_type": "code",
   "execution_count": 6,
   "metadata": {
    "collapsed": false
   },
   "outputs": [
    {
     "data": {
      "text/plain": [
       "<matplotlib.text.Text at 0x1061f4a90>"
      ]
     },
     "execution_count": 6,
     "metadata": {},
     "output_type": "execute_result"
    },
    {
     "data": {
      "image/png": "[encoded data removed]",
      "text/plain": [
       "<matplotlib.figure.Figure at 0x106149d68>"
      ]
     },
     "metadata": {},
     "output_type": "display_data"
    }
   ],
   "source": [
    "plt.plot([i[0] for i in losslog],[i[1] for i in losslog])\n",
    "plt.title(\"Data Loss ~ Epoch [XOR] HU size {0}\".format(2))"
   ]
  },
  {
   "cell_type": "code",
   "execution_count": 7,
   "metadata": {
    "collapsed": true,
    "deletable": true,
    "editable": true
   },
   "outputs": [],
   "source": [
    "def plot_xor_decision_boundary(pred_func):\n",
    "    # Set min and max values and give it some padding\n",
    "    x_min, x_max = xor_X[:, 0].min() - .5, xor_X[:, 0].max() + .5\n",
    "    y_min, y_max = xor_X[:, 1].min() - .5, xor_X[:, 1].max() + .5\n",
    "    h = 0.01\n",
    "    # Generate a grid of points with distance h between them\n",
    "    xx, yy = np.meshgrid(np.arange(x_min, x_max, h), np.arange(y_min, y_max, h))\n",
    "    # Predict the function value for the whole gid\n",
    "    Z = pred_func(np.c_[xx.ravel(), yy.ravel()])\n",
    "    Z = Z.reshape(xx.shape)\n",
    "    # Plot the contour and training examples\n",
    "    plt.contourf(xx, yy, Z, cmap=plt.cm.Spectral)\n",
    "    plt.scatter(xor_X[:,0],xor_X[:,1], c=xor_y[:,1], cmap=plt.cm.Spectral)"
   ]
  },
  {
   "cell_type": "code",
   "execution_count": 8,
   "metadata": {
    "collapsed": false,
    "deletable": true,
    "editable": true
   },
   "outputs": [
    {
     "data": {
      "text/plain": [
       "<matplotlib.text.Text at 0x10657e630>"
      ]
     },
     "execution_count": 8,
     "metadata": {},
     "output_type": "execute_result"
    },
    {
     "data": {
      "image/png": "[encoded data removed]",
      "text/plain": [
       "<matplotlib.figure.Figure at 0x1061e5860>"
      ]
     },
     "metadata": {},
     "output_type": "display_data"
    }
   ],
   "source": [
    "plot_xor_decision_boundary(lambda x: xor_mlp_2.predict(x))\n",
    "plt.title(\"XOR decision boundary for HU size {0}\".format(2))"
   ]
  },
  {
   "cell_type": "code",
   "execution_count": 9,
   "metadata": {
    "collapsed": false,
    "deletable": true,
    "editable": true
   },
   "outputs": [
    {
     "data": {
      "text/plain": [
       "<matplotlib.text.Text at 0x10ad3f6a0>"
      ]
     },
     "execution_count": 9,
     "metadata": {},
     "output_type": "execute_result"
    },
    {
     "data": {
      "image/png": "[encoded data removed]",
      "text/plain": [
       "<matplotlib.figure.Figure at 0x1065e4860>"
      ]
     },
     "metadata": {},
     "output_type": "display_data"
    }
   ],
   "source": [
    "xor_mlp_3 = mlp.MLP(xor_X, xor_y, 3)\n",
    "xor_mlp_3.train()\n",
    "plot_xor_decision_boundary(lambda x: xor_mlp_3.predict(x))\n",
    "plt.title(\"XOR decision boundary for HU size {0}\".format(3))"
   ]
  },
  {
   "cell_type": "markdown",
   "metadata": {
    "deletable": true,
    "editable": true
   },
   "source": [
    "## Exceptional :)\n",
    "- 16 attribute\n",
    "- A-Z as classes\n",
    "- 20000 samples\n",
    "- 80% split (recommended)\n",
    "- 10 hidden units (recommended)"
   ]
  },
  {
   "cell_type": "code",
   "execution_count": 10,
   "metadata": {
    "collapsed": false,
    "deletable": true,
    "editable": true
   },
   "outputs": [
    {
     "name": "stdout",
     "output_type": "stream",
     "text": [
      "shape (20000, 17)\n"
     ]
    },
    {
     "data": {
      "text/html": [
       "<div>\n",
       "<table border=\"1\" class=\"dataframe\">\n",
       "  <thead>\n",
       "    <tr style=\"text-align: right;\">\n",
       "      <th></th>\n",
       "      <th>0</th>\n",
       "      <th>1</th>\n",
       "      <th>2</th>\n",
       "      <th>3</th>\n",
       "      <th>4</th>\n",
       "      <th>5</th>\n",
       "      <th>6</th>\n",
       "      <th>7</th>\n",
       "      <th>8</th>\n",
       "      <th>9</th>\n",
       "      <th>10</th>\n",
       "      <th>11</th>\n",
       "      <th>12</th>\n",
       "      <th>13</th>\n",
       "      <th>14</th>\n",
       "      <th>15</th>\n",
       "      <th>16</th>\n",
       "    </tr>\n",
       "  </thead>\n",
       "  <tbody>\n",
       "    <tr>\n",
       "      <th>0</th>\n",
       "      <td>T</td>\n",
       "      <td>2</td>\n",
       "      <td>8</td>\n",
       "      <td>3</td>\n",
       "      <td>5</td>\n",
       "      <td>1</td>\n",
       "      <td>8</td>\n",
       "      <td>13</td>\n",
       "      <td>0</td>\n",
       "      <td>6</td>\n",
       "      <td>6</td>\n",
       "      <td>10</td>\n",
       "      <td>8</td>\n",
       "      <td>0</td>\n",
       "      <td>8</td>\n",
       "      <td>0</td>\n",
       "      <td>8</td>\n",
       "    </tr>\n",
       "    <tr>\n",
       "      <th>1</th>\n",
       "      <td>I</td>\n",
       "      <td>5</td>\n",
       "      <td>12</td>\n",
       "      <td>3</td>\n",
       "      <td>7</td>\n",
       "      <td>2</td>\n",
       "      <td>10</td>\n",
       "      <td>5</td>\n",
       "      <td>5</td>\n",
       "      <td>4</td>\n",
       "      <td>13</td>\n",
       "      <td>3</td>\n",
       "      <td>9</td>\n",
       "      <td>2</td>\n",
       "      <td>8</td>\n",
       "      <td>4</td>\n",
       "      <td>10</td>\n",
       "    </tr>\n",
       "    <tr>\n",
       "      <th>2</th>\n",
       "      <td>D</td>\n",
       "      <td>4</td>\n",
       "      <td>11</td>\n",
       "      <td>6</td>\n",
       "      <td>8</td>\n",
       "      <td>6</td>\n",
       "      <td>10</td>\n",
       "      <td>6</td>\n",
       "      <td>2</td>\n",
       "      <td>6</td>\n",
       "      <td>10</td>\n",
       "      <td>3</td>\n",
       "      <td>7</td>\n",
       "      <td>3</td>\n",
       "      <td>7</td>\n",
       "      <td>3</td>\n",
       "      <td>9</td>\n",
       "    </tr>\n",
       "    <tr>\n",
       "      <th>3</th>\n",
       "      <td>N</td>\n",
       "      <td>7</td>\n",
       "      <td>11</td>\n",
       "      <td>6</td>\n",
       "      <td>6</td>\n",
       "      <td>3</td>\n",
       "      <td>5</td>\n",
       "      <td>9</td>\n",
       "      <td>4</td>\n",
       "      <td>6</td>\n",
       "      <td>4</td>\n",
       "      <td>4</td>\n",
       "      <td>10</td>\n",
       "      <td>6</td>\n",
       "      <td>10</td>\n",
       "      <td>2</td>\n",
       "      <td>8</td>\n",
       "    </tr>\n",
       "    <tr>\n",
       "      <th>4</th>\n",
       "      <td>G</td>\n",
       "      <td>2</td>\n",
       "      <td>1</td>\n",
       "      <td>3</td>\n",
       "      <td>1</td>\n",
       "      <td>1</td>\n",
       "      <td>8</td>\n",
       "      <td>6</td>\n",
       "      <td>6</td>\n",
       "      <td>6</td>\n",
       "      <td>6</td>\n",
       "      <td>5</td>\n",
       "      <td>9</td>\n",
       "      <td>1</td>\n",
       "      <td>7</td>\n",
       "      <td>5</td>\n",
       "      <td>10</td>\n",
       "    </tr>\n",
       "  </tbody>\n",
       "</table>\n",
       "</div>"
      ],
      "text/plain": [
       "  0   1   2   3   4   5   6   7   8   9   10  11  12  13  14  15  16\n",
       "0  T   2   8   3   5   1   8  13   0   6   6  10   8   0   8   0   8\n",
       "1  I   5  12   3   7   2  10   5   5   4  13   3   9   2   8   4  10\n",
       "2  D   4  11   6   8   6  10   6   2   6  10   3   7   3   7   3   9\n",
       "3  N   7  11   6   6   3   5   9   4   6   4   4  10   6  10   2   8\n",
       "4  G   2   1   3   1   1   8   6   6   6   6   5   9   1   7   5  10"
      ]
     },
     "execution_count": 10,
     "metadata": {},
     "output_type": "execute_result"
    }
   ],
   "source": [
    "import pandas as pd # only for csv reading, no other usage, i swear :)\n",
    "dataset = pd.read_csv('letter-recognition.data',delimiter=',',header=None)\n",
    "print(\"shape {0}\".format(dataset.shape))\n",
    "dataset.head()"
   ]
  },
  {
   "cell_type": "code",
   "execution_count": 11,
   "metadata": {
    "collapsed": false,
    "deletable": true,
    "editable": true
   },
   "outputs": [],
   "source": [
    "hwl_X, hwl_y= mlp.get_Hwl_data()"
   ]
  },
  {
   "cell_type": "code",
   "execution_count": 12,
   "metadata": {
    "collapsed": true,
    "deletable": true,
    "editable": true
   },
   "outputs": [],
   "source": [
    "training_X, training_y, testing_X, testing_y = mlp.get_data_split(hwl_X, hwl_y, 0.8)"
   ]
  },
  {
   "cell_type": "code",
   "execution_count": 13,
   "metadata": {
    "collapsed": false,
    "deletable": true,
    "editable": true
   },
   "outputs": [
    {
     "data": {
      "text/plain": [
       "16000"
      ]
     },
     "execution_count": 13,
     "metadata": {},
     "output_type": "execute_result"
    }
   ],
   "source": [
    "training_X.shape[0]"
   ]
  },
  {
   "cell_type": "code",
   "execution_count": 14,
   "metadata": {
    "collapsed": false,
    "deletable": true,
    "editable": true
   },
   "outputs": [
    {
     "name": "stdout",
     "output_type": "stream",
     "text": [
      "Data loss (cross entropy) after epoch 0: 3.2542734590535165\n",
      "Accuracy after epoch 0: 0.051\n",
      "Data loss (cross entropy) after epoch 2000: 1.6103839750405673\n",
      "Accuracy after epoch 2000: 0.483\n",
      "Data loss (cross entropy) after epoch 4000: 1.471010063430903\n",
      "Accuracy after epoch 4000: 0.527\n",
      "Data loss (cross entropy) after epoch 6000: 1.4792146931678554\n",
      "Accuracy after epoch 6000: 0.53525\n",
      "Data loss (cross entropy) after epoch 8000: 1.3254175787896127\n",
      "Accuracy after epoch 8000: 0.58675\n",
      "Data loss (cross entropy) after epoch 10000: 1.3493392199404723\n",
      "Accuracy after epoch 10000: 0.572\n",
      "Data loss (cross entropy) after epoch 12000: 1.3390274606386323\n",
      "Accuracy after epoch 12000: 0.5805\n",
      "Data loss (cross entropy) after epoch 14000: 1.2647288542189252\n",
      "Accuracy after epoch 14000: 0.6115\n",
      "Data loss (cross entropy) after epoch 16000: 1.3279290201037357\n",
      "Accuracy after epoch 16000: 0.59725\n",
      "Data loss (cross entropy) after epoch 18000: 1.2606577415059308\n",
      "Accuracy after epoch 18000: 0.6305\n",
      "Data loss (cross entropy) after epoch 20000: 1.3253146428867475\n",
      "Accuracy after epoch 20000: 0.617\n",
      "Data loss (cross entropy) after epoch 22000: 1.271813611973354\n",
      "Accuracy after epoch 22000: 0.63775\n",
      "Data loss (cross entropy) after epoch 24000: 1.2503528377581208\n",
      "Accuracy after epoch 24000: 0.62675\n",
      "Data loss (cross entropy) after epoch 26000: 1.3352878058562085\n",
      "Accuracy after epoch 26000: 0.594\n",
      "Data loss (cross entropy) after epoch 28000: 1.185487375059267\n",
      "Accuracy after epoch 28000: 0.651\n",
      "Data loss (cross entropy) after epoch 30000: 1.2990476618516755\n",
      "Accuracy after epoch 30000: 0.596\n",
      "Data loss (cross entropy) after epoch 32000: 1.2283413463358899\n",
      "Accuracy after epoch 32000: 0.6195\n",
      "Data loss (cross entropy) after epoch 34000: 1.2471482047620794\n",
      "Accuracy after epoch 34000: 0.63575\n",
      "Data loss (cross entropy) after epoch 36000: 1.3360767006331837\n",
      "Accuracy after epoch 36000: 0.6035\n",
      "Data loss (cross entropy) after epoch 38000: 1.202592416414057\n",
      "Accuracy after epoch 38000: 0.65875\n",
      "Data loss (cross entropy) after epoch 40000: 1.3134083108097865\n",
      "Accuracy after epoch 40000: 0.60675\n",
      "Data loss (cross entropy) after epoch 42000: 1.2751867390867724\n",
      "Accuracy after epoch 42000: 0.615\n",
      "Data loss (cross entropy) after epoch 44000: 1.251753469449042\n",
      "Accuracy after epoch 44000: 0.61725\n",
      "Data loss (cross entropy) after epoch 46000: 1.2079598599634442\n",
      "Accuracy after epoch 46000: 0.64475\n",
      "Data loss (cross entropy) after epoch 48000: 1.169428196966679\n",
      "Accuracy after epoch 48000: 0.64625\n",
      "Data loss (cross entropy) after epoch 50000: 1.3091036373136422\n",
      "Accuracy after epoch 50000: 0.61475\n",
      "Data loss (cross entropy) after epoch 52000: 1.2736951245313832\n",
      "Accuracy after epoch 52000: 0.62975\n",
      "Data loss (cross entropy) after epoch 54000: 1.3245746168410477\n",
      "Accuracy after epoch 54000: 0.60175\n",
      "Data loss (cross entropy) after epoch 56000: 1.2036966379667715\n",
      "Accuracy after epoch 56000: 0.6415\n",
      "Data loss (cross entropy) after epoch 58000: 1.2312823485660807\n",
      "Accuracy after epoch 58000: 0.61725\n",
      "Data loss (cross entropy) after epoch 60000: 1.248297997234398\n",
      "Accuracy after epoch 60000: 0.63925\n",
      "Data loss (cross entropy) after epoch 62000: 1.3340336170306564\n",
      "Accuracy after epoch 62000: 0.59675\n",
      "Data loss (cross entropy) after epoch 64000: 1.1576246636903391\n",
      "Accuracy after epoch 64000: 0.656\n",
      "Data loss (cross entropy) after epoch 66000: 1.2705841213416948\n",
      "Accuracy after epoch 66000: 0.6185\n",
      "Data loss (cross entropy) after epoch 68000: 1.1782425400256222\n",
      "Accuracy after epoch 68000: 0.6315\n",
      "Data loss (cross entropy) after epoch 70000: 1.2346623955773004\n",
      "Accuracy after epoch 70000: 0.645\n",
      "Data loss (cross entropy) after epoch 72000: 1.2690686266291038\n",
      "Accuracy after epoch 72000: 0.6245\n",
      "Data loss (cross entropy) after epoch 74000: 1.1718474461868817\n",
      "Accuracy after epoch 74000: 0.65\n",
      "Data loss (cross entropy) after epoch 76000: 1.2628793052391816\n",
      "Accuracy after epoch 76000: 0.611\n",
      "Data loss (cross entropy) after epoch 78000: 1.1872493645107516\n",
      "Accuracy after epoch 78000: 0.6395\n",
      "Data loss (cross entropy) after epoch 80000: 1.2021108796207045\n",
      "Accuracy after epoch 80000: 0.64275\n",
      "Data loss (cross entropy) after epoch 82000: 1.1789303919141987\n",
      "Accuracy after epoch 82000: 0.64825\n",
      "Data loss (cross entropy) after epoch 84000: 1.1838929724207738\n",
      "Accuracy after epoch 84000: 0.6365\n",
      "Data loss (cross entropy) after epoch 86000: 1.2251859184860139\n",
      "Accuracy after epoch 86000: 0.62775\n",
      "Data loss (cross entropy) after epoch 88000: 1.163436760054153\n",
      "Accuracy after epoch 88000: 0.65\n",
      "Data loss (cross entropy) after epoch 90000: 1.1741348140355796\n",
      "Accuracy after epoch 90000: 0.654\n",
      "Data loss (cross entropy) after epoch 92000: 1.26352513205252\n",
      "Accuracy after epoch 92000: 0.62975\n",
      "Data loss (cross entropy) after epoch 94000: 1.2854634321729865\n",
      "Accuracy after epoch 94000: 0.62375\n",
      "Data loss (cross entropy) after epoch 96000: 1.2834574696459138\n",
      "Accuracy after epoch 96000: 0.61375\n",
      "Data loss (cross entropy) after epoch 98000: 1.172078884595576\n",
      "Accuracy after epoch 98000: 0.6525\n",
      "Data loss (cross entropy) after epoch 100000: 1.1684102220700827\n",
      "Accuracy after epoch 100000: 0.6505\n",
      "Data loss (cross entropy) after epoch 102000: 1.237760426867857\n",
      "Accuracy after epoch 102000: 0.638\n",
      "Data loss (cross entropy) after epoch 104000: 1.2204395553814393\n",
      "Accuracy after epoch 104000: 0.6445\n",
      "Data loss (cross entropy) after epoch 106000: 1.22521180468071\n",
      "Accuracy after epoch 106000: 0.629\n",
      "Data loss (cross entropy) after epoch 108000: 1.1620964451630313\n",
      "Accuracy after epoch 108000: 0.659\n",
      "Data loss (cross entropy) after epoch 110000: 1.209656912424347\n",
      "Accuracy after epoch 110000: 0.65\n",
      "Data loss (cross entropy) after epoch 112000: 1.1810360670120092\n",
      "Accuracy after epoch 112000: 0.6475\n",
      "Data loss (cross entropy) after epoch 114000: 1.211751377281528\n",
      "Accuracy after epoch 114000: 0.63425\n",
      "Data loss (cross entropy) after epoch 116000: 1.2020937251128745\n",
      "Accuracy after epoch 116000: 0.64425\n",
      "Data loss (cross entropy) after epoch 118000: 1.2362427487622991\n",
      "Accuracy after epoch 118000: 0.62875\n",
      "Data loss (cross entropy) after epoch 120000: 1.2324052553393854\n",
      "Accuracy after epoch 120000: 0.63975\n",
      "Data loss (cross entropy) after epoch 122000: 1.182620714047913\n",
      "Accuracy after epoch 122000: 0.64475\n",
      "Data loss (cross entropy) after epoch 124000: 1.2052455449189885\n",
      "Accuracy after epoch 124000: 0.63875\n",
      "Data loss (cross entropy) after epoch 126000: 1.163126089076287\n",
      "Accuracy after epoch 126000: 0.6565\n",
      "Data loss (cross entropy) after epoch 128000: 1.1696061303665837\n",
      "Accuracy after epoch 128000: 0.644\n",
      "Data loss (cross entropy) after epoch 130000: 1.1832675312320542\n",
      "Accuracy after epoch 130000: 0.65025\n",
      "Data loss (cross entropy) after epoch 132000: 1.165084426977875\n",
      "Accuracy after epoch 132000: 0.6405\n",
      "Data loss (cross entropy) after epoch 134000: 1.1482696822998122\n",
      "Accuracy after epoch 134000: 0.653\n",
      "Data loss (cross entropy) after epoch 136000: 1.1582146424539352\n",
      "Accuracy after epoch 136000: 0.64975\n",
      "Data loss (cross entropy) after epoch 138000: 1.1934250035812939\n",
      "Accuracy after epoch 138000: 0.632\n",
      "Data loss (cross entropy) after epoch 140000: 1.2051546949579524\n",
      "Accuracy after epoch 140000: 0.639\n",
      "Data loss (cross entropy) after epoch 142000: 1.1568708304441908\n",
      "Accuracy after epoch 142000: 0.653\n",
      "Data loss (cross entropy) after epoch 144000: 1.2121372787339495\n",
      "Accuracy after epoch 144000: 0.6425\n",
      "Data loss (cross entropy) after epoch 146000: 1.1421317672602431\n",
      "Accuracy after epoch 146000: 0.654\n",
      "Data loss (cross entropy) after epoch 148000: 1.2359348811253816\n",
      "Accuracy after epoch 148000: 0.624\n",
      "Data loss (cross entropy) after epoch 150000: 1.2172745953751438\n",
      "Accuracy after epoch 150000: 0.62425\n",
      "Data loss (cross entropy) after epoch 152000: 1.1712239741280834\n",
      "Accuracy after epoch 152000: 0.649\n",
      "Data loss (cross entropy) after epoch 154000: 1.2416215743467998\n",
      "Accuracy after epoch 154000: 0.636\n",
      "Data loss (cross entropy) after epoch 156000: 1.168312201621484\n",
      "Accuracy after epoch 156000: 0.63925\n",
      "Data loss (cross entropy) after epoch 158000: 1.1858426453495334\n",
      "Accuracy after epoch 158000: 0.66\n",
      "Data loss (cross entropy) after epoch 160000: 1.193122211721931\n",
      "Accuracy after epoch 160000: 0.64575\n",
      "Data loss (cross entropy) after epoch 162000: 1.2176117716385984\n",
      "Accuracy after epoch 162000: 0.64225\n",
      "Data loss (cross entropy) after epoch 164000: 1.1382117821448139\n",
      "Accuracy after epoch 164000: 0.6575\n",
      "Data loss (cross entropy) after epoch 166000: 1.1550729425874031\n",
      "Accuracy after epoch 166000: 0.66725\n",
      "Data loss (cross entropy) after epoch 168000: 1.1771798765294235\n",
      "Accuracy after epoch 168000: 0.6575\n",
      "Data loss (cross entropy) after epoch 170000: 1.2170211976877439\n",
      "Accuracy after epoch 170000: 0.6375\n",
      "Data loss (cross entropy) after epoch 172000: 1.1835650317490685\n",
      "Accuracy after epoch 172000: 0.6615\n",
      "Data loss (cross entropy) after epoch 174000: 1.1795442334513\n",
      "Accuracy after epoch 174000: 0.641\n",
      "Data loss (cross entropy) after epoch 176000: 1.1757407717522226\n",
      "Accuracy after epoch 176000: 0.6535\n",
      "Data loss (cross entropy) after epoch 178000: 1.1667219695559607\n",
      "Accuracy after epoch 178000: 0.658\n",
      "Data loss (cross entropy) after epoch 180000: 1.1939234307459985\n",
      "Accuracy after epoch 180000: 0.643\n",
      "Data loss (cross entropy) after epoch 182000: 1.1474450242410281\n",
      "Accuracy after epoch 182000: 0.65925\n",
      "Data loss (cross entropy) after epoch 184000: 1.1490159407642164\n",
      "Accuracy after epoch 184000: 0.65275\n",
      "Data loss (cross entropy) after epoch 186000: 1.1479145193501454\n",
      "Accuracy after epoch 186000: 0.6565\n",
      "Data loss (cross entropy) after epoch 188000: 1.20130731048428\n",
      "Accuracy after epoch 188000: 0.64725\n",
      "Data loss (cross entropy) after epoch 190000: 1.1886538129866464\n",
      "Accuracy after epoch 190000: 0.6325\n",
      "Data loss (cross entropy) after epoch 192000: 1.129542818715828\n",
      "Accuracy after epoch 192000: 0.66775\n",
      "Data loss (cross entropy) after epoch 194000: 1.1370498023727107\n",
      "Accuracy after epoch 194000: 0.66025\n",
      "Data loss (cross entropy) after epoch 196000: 1.151032977328063\n",
      "Accuracy after epoch 196000: 0.64775\n",
      "Data loss (cross entropy) after epoch 198000: 1.153212342051508\n",
      "Accuracy after epoch 198000: 0.66125\n",
      "Data loss (cross entropy) after epoch 200000: 1.2488543774845131\n",
      "Accuracy after epoch 200000: 0.631\n",
      "Data loss (cross entropy) after epoch 202000: 1.1580411462222575\n",
      "Accuracy after epoch 202000: 0.6515\n",
      "Data loss (cross entropy) after epoch 204000: 1.1790996370607445\n",
      "Accuracy after epoch 204000: 0.64475\n",
      "Data loss (cross entropy) after epoch 206000: 1.193573789463112\n",
      "Accuracy after epoch 206000: 0.63775\n",
      "Data loss (cross entropy) after epoch 208000: 1.1797957889576658\n",
      "Accuracy after epoch 208000: 0.6595\n",
      "Data loss (cross entropy) after epoch 210000: 1.2344489527481708\n",
      "Accuracy after epoch 210000: 0.6325\n",
      "Data loss (cross entropy) after epoch 212000: 1.158062579471912\n",
      "Accuracy after epoch 212000: 0.64225\n",
      "Data loss (cross entropy) after epoch 214000: 1.1293614988278229\n",
      "Accuracy after epoch 214000: 0.64825\n",
      "Data loss (cross entropy) after epoch 216000: 1.1357737439321267\n",
      "Accuracy after epoch 216000: 0.66625\n",
      "Data loss (cross entropy) after epoch 218000: 1.1654210159652127\n",
      "Accuracy after epoch 218000: 0.655\n",
      "Data loss (cross entropy) after epoch 220000: 1.174848629484571\n",
      "Accuracy after epoch 220000: 0.64825\n",
      "Data loss (cross entropy) after epoch 222000: 1.1956149424091187\n",
      "Accuracy after epoch 222000: 0.64425\n",
      "Data loss (cross entropy) after epoch 224000: 1.1678796739700972\n",
      "Accuracy after epoch 224000: 0.651\n",
      "Data loss (cross entropy) after epoch 226000: 1.159568630770934\n",
      "Accuracy after epoch 226000: 0.65625\n",
      "Data loss (cross entropy) after epoch 228000: 1.1412217213519533\n",
      "Accuracy after epoch 228000: 0.663\n",
      "Data loss (cross entropy) after epoch 230000: 1.183102554526378\n",
      "Accuracy after epoch 230000: 0.65325\n",
      "Data loss (cross entropy) after epoch 232000: 1.1562915127813933\n",
      "Accuracy after epoch 232000: 0.6445\n",
      "Data loss (cross entropy) after epoch 234000: 1.1675463648494768\n",
      "Accuracy after epoch 234000: 0.6585\n",
      "Data loss (cross entropy) after epoch 236000: 1.1767009277585443\n",
      "Accuracy after epoch 236000: 0.6455\n",
      "Data loss (cross entropy) after epoch 238000: 1.1554280099576504\n",
      "Accuracy after epoch 238000: 0.655\n",
      "Data loss (cross entropy) after epoch 240000: 1.2188988235287435\n",
      "Accuracy after epoch 240000: 0.63125\n",
      "Data loss (cross entropy) after epoch 242000: 1.1318863945209237\n",
      "Accuracy after epoch 242000: 0.65475\n",
      "Data loss (cross entropy) after epoch 244000: 1.1826806795753937\n",
      "Accuracy after epoch 244000: 0.643\n",
      "Data loss (cross entropy) after epoch 246000: 1.1660757619105293\n",
      "Accuracy after epoch 246000: 0.661\n",
      "Data loss (cross entropy) after epoch 248000: 1.1377617405750706\n",
      "Accuracy after epoch 248000: 0.665\n"
     ]
    }
   ],
   "source": [
    "# recommended 10 hidden units\n",
    "hwl_mlp_10 = mlp.MLP(training_X, training_y, 10)\n",
    "\n",
    "\n",
    "\n",
    "# train using mini batch, batch size 16 (2^4 for cache friendliness, my laptop is poor)\n",
    "acclog, losslog = hwl_mlp_10.minibatch_train(batch_size=16, testset_X=testing_X, testset_y=testing_y, print_loss=True)"
   ]
  },
  {
   "cell_type": "code",
   "execution_count": 15,
   "metadata": {
    "collapsed": false
   },
   "outputs": [
    {
     "data": {
      "text/plain": [
       "<matplotlib.text.Text at 0x106368128>"
      ]
     },
     "execution_count": 15,
     "metadata": {},
     "output_type": "execute_result"
    },
    {
     "data": {
      "image/png": "[encoded data removed]",
      "text/plain": [
       "<matplotlib.figure.Figure at 0x1044fff28>"
      ]
     },
     "metadata": {},
     "output_type": "display_data"
    }
   ],
   "source": [
    "plt.plot([i[0] for i in acclog], [i[1] for i in acclog])\n",
    "plt.title(\"Accuracy ~ Epoch HU size {0}, Batch size {1}\".format(10,16))"
   ]
  },
  {
   "cell_type": "code",
   "execution_count": 16,
   "metadata": {
    "collapsed": false
   },
   "outputs": [
    {
     "data": {
      "text/plain": [
       "<matplotlib.text.Text at 0x10372a940>"
      ]
     },
     "execution_count": 16,
     "metadata": {},
     "output_type": "execute_result"
    },
    {
     "data": {
      "image/png": "[encoded data removed]",
      "text/plain": [
       "<matplotlib.figure.Figure at 0x1030aa358>"
      ]
     },
     "metadata": {},
     "output_type": "display_data"
    }
   ],
   "source": [
    "plt.plot([i[0] for i in losslog],[i[1] for i in losslog])\n",
    "plt.title(\"Dataloss ~ Epoch HU size {0}, Batch size {1}\".format(10,16))"
   ]
  },
  {
   "cell_type": "code",
   "execution_count": 17,
   "metadata": {
    "collapsed": false,
    "deletable": true,
    "editable": true
   },
   "outputs": [
    {
     "name": "stdout",
     "output_type": "stream",
     "text": [
      "Data loss (cross entropy) after epoch 0: 3.290627215898279\n",
      "Accuracy after epoch 0: 0.05175\n",
      "Data loss (cross entropy) after epoch 2000: 1.5400477098137433\n",
      "Accuracy after epoch 2000: 0.518\n",
      "Data loss (cross entropy) after epoch 4000: 1.1950027138708286\n",
      "Accuracy after epoch 4000: 0.6235\n",
      "Data loss (cross entropy) after epoch 6000: 1.3002764038528307\n",
      "Accuracy after epoch 6000: 0.5945\n",
      "Data loss (cross entropy) after epoch 8000: 1.0710184819193076\n",
      "Accuracy after epoch 8000: 0.663\n",
      "Data loss (cross entropy) after epoch 10000: 1.1341553352054807\n",
      "Accuracy after epoch 10000: 0.64325\n",
      "Data loss (cross entropy) after epoch 12000: 1.04838863310033\n",
      "Accuracy after epoch 12000: 0.6715\n",
      "Data loss (cross entropy) after epoch 14000: 0.9927947691257802\n",
      "Accuracy after epoch 14000: 0.68375\n",
      "Data loss (cross entropy) after epoch 16000: 0.9692736067046189\n",
      "Accuracy after epoch 16000: 0.69275\n",
      "Data loss (cross entropy) after epoch 18000: 0.9809006199393273\n",
      "Accuracy after epoch 18000: 0.687\n",
      "Data loss (cross entropy) after epoch 20000: 1.0342310758589266\n",
      "Accuracy after epoch 20000: 0.664\n",
      "Data loss (cross entropy) after epoch 22000: 0.9269620671534684\n",
      "Accuracy after epoch 22000: 0.71175\n",
      "Data loss (cross entropy) after epoch 24000: 0.9375516136731726\n",
      "Accuracy after epoch 24000: 0.7035\n",
      "Data loss (cross entropy) after epoch 26000: 0.9596350361728085\n",
      "Accuracy after epoch 26000: 0.70375\n",
      "Data loss (cross entropy) after epoch 28000: 0.9547447200279419\n",
      "Accuracy after epoch 28000: 0.6955\n",
      "Data loss (cross entropy) after epoch 30000: 0.9178108338896291\n",
      "Accuracy after epoch 30000: 0.7105\n",
      "Data loss (cross entropy) after epoch 32000: 0.961052402729912\n",
      "Accuracy after epoch 32000: 0.693\n",
      "Data loss (cross entropy) after epoch 34000: 0.9927276284992387\n",
      "Accuracy after epoch 34000: 0.67875\n",
      "Data loss (cross entropy) after epoch 36000: 1.0535927581612476\n",
      "Accuracy after epoch 36000: 0.6645\n",
      "Data loss (cross entropy) after epoch 38000: 0.9466192041502004\n",
      "Accuracy after epoch 38000: 0.6865\n",
      "Data loss (cross entropy) after epoch 40000: 0.9428304344102428\n",
      "Accuracy after epoch 40000: 0.708\n",
      "Data loss (cross entropy) after epoch 42000: 0.9730044517096866\n",
      "Accuracy after epoch 42000: 0.6895\n",
      "Data loss (cross entropy) after epoch 44000: 0.9145026363040353\n",
      "Accuracy after epoch 44000: 0.716\n",
      "Data loss (cross entropy) after epoch 46000: 0.9750192238082455\n",
      "Accuracy after epoch 46000: 0.68275\n",
      "Data loss (cross entropy) after epoch 48000: 0.9305114895494094\n",
      "Accuracy after epoch 48000: 0.70325\n",
      "Data loss (cross entropy) after epoch 50000: 0.9929912851941806\n",
      "Accuracy after epoch 50000: 0.69175\n",
      "Data loss (cross entropy) after epoch 52000: 1.0230841832839939\n",
      "Accuracy after epoch 52000: 0.69175\n",
      "Data loss (cross entropy) after epoch 54000: 0.9216951253881884\n",
      "Accuracy after epoch 54000: 0.715\n",
      "Data loss (cross entropy) after epoch 56000: 0.9334248918301801\n",
      "Accuracy after epoch 56000: 0.6955\n",
      "Data loss (cross entropy) after epoch 58000: 0.9639002832248824\n",
      "Accuracy after epoch 58000: 0.69375\n",
      "Data loss (cross entropy) after epoch 60000: 0.9498712086763021\n",
      "Accuracy after epoch 60000: 0.69925\n",
      "Data loss (cross entropy) after epoch 62000: 0.9173306126736405\n",
      "Accuracy after epoch 62000: 0.69275\n",
      "Data loss (cross entropy) after epoch 64000: 0.9358514577242218\n",
      "Accuracy after epoch 64000: 0.693\n",
      "Data loss (cross entropy) after epoch 66000: 0.8833438467242584\n",
      "Accuracy after epoch 66000: 0.719\n",
      "Data loss (cross entropy) after epoch 68000: 0.9664015721882327\n",
      "Accuracy after epoch 68000: 0.6855\n",
      "Data loss (cross entropy) after epoch 70000: 0.9941525072575312\n",
      "Accuracy after epoch 70000: 0.68525\n",
      "Data loss (cross entropy) after epoch 72000: 0.9022084923031699\n",
      "Accuracy after epoch 72000: 0.71175\n",
      "Data loss (cross entropy) after epoch 74000: 0.9140363447804651\n",
      "Accuracy after epoch 74000: 0.697\n",
      "Data loss (cross entropy) after epoch 76000: 0.9202015053136868\n",
      "Accuracy after epoch 76000: 0.6985\n",
      "Data loss (cross entropy) after epoch 78000: 0.9174001165267033\n",
      "Accuracy after epoch 78000: 0.69725\n",
      "Data loss (cross entropy) after epoch 80000: 0.8833340394988339\n",
      "Accuracy after epoch 80000: 0.717\n",
      "Data loss (cross entropy) after epoch 82000: 0.9158332936562785\n",
      "Accuracy after epoch 82000: 0.69075\n",
      "Data loss (cross entropy) after epoch 84000: 1.0155077939328165\n",
      "Accuracy after epoch 84000: 0.67825\n",
      "Data loss (cross entropy) after epoch 86000: 0.8765322608031352\n",
      "Accuracy after epoch 86000: 0.71475\n",
      "Data loss (cross entropy) after epoch 88000: 0.8944882474681668\n",
      "Accuracy after epoch 88000: 0.721\n",
      "Data loss (cross entropy) after epoch 90000: 0.9230651798395253\n",
      "Accuracy after epoch 90000: 0.70425\n",
      "Data loss (cross entropy) after epoch 92000: 0.9394024616817158\n",
      "Accuracy after epoch 92000: 0.69425\n",
      "Data loss (cross entropy) after epoch 94000: 0.9123495987548906\n",
      "Accuracy after epoch 94000: 0.702\n",
      "Data loss (cross entropy) after epoch 96000: 0.9291205651998513\n",
      "Accuracy after epoch 96000: 0.7\n",
      "Data loss (cross entropy) after epoch 98000: 0.9209731167404691\n",
      "Accuracy after epoch 98000: 0.70875\n",
      "Data loss (cross entropy) after epoch 100000: 0.9284301177221914\n",
      "Accuracy after epoch 100000: 0.69625\n",
      "Data loss (cross entropy) after epoch 102000: 0.9026286626351855\n",
      "Accuracy after epoch 102000: 0.699\n",
      "Data loss (cross entropy) after epoch 104000: 0.900615279103978\n",
      "Accuracy after epoch 104000: 0.71625\n",
      "Data loss (cross entropy) after epoch 106000: 0.8556274509489474\n",
      "Accuracy after epoch 106000: 0.72725\n",
      "Data loss (cross entropy) after epoch 108000: 0.8588604347255419\n",
      "Accuracy after epoch 108000: 0.72875\n",
      "Data loss (cross entropy) after epoch 110000: 0.9630177077717764\n",
      "Accuracy after epoch 110000: 0.6995\n",
      "Data loss (cross entropy) after epoch 112000: 0.9549296299596691\n",
      "Accuracy after epoch 112000: 0.68375\n",
      "Data loss (cross entropy) after epoch 114000: 0.8896013230746204\n",
      "Accuracy after epoch 114000: 0.725\n",
      "Data loss (cross entropy) after epoch 116000: 0.882867049735895\n",
      "Accuracy after epoch 116000: 0.7165\n",
      "Data loss (cross entropy) after epoch 118000: 0.8772844524255041\n",
      "Accuracy after epoch 118000: 0.7225\n",
      "Data loss (cross entropy) after epoch 120000: 0.8978834290332336\n",
      "Accuracy after epoch 120000: 0.7125\n",
      "Data loss (cross entropy) after epoch 122000: 0.8974483604572033\n",
      "Accuracy after epoch 122000: 0.71225\n",
      "Data loss (cross entropy) after epoch 124000: 0.8798783020958566\n",
      "Accuracy after epoch 124000: 0.7155\n",
      "Data loss (cross entropy) after epoch 126000: 0.9758585101724847\n",
      "Accuracy after epoch 126000: 0.67925\n",
      "Data loss (cross entropy) after epoch 128000: 0.8648906607523834\n",
      "Accuracy after epoch 128000: 0.72725\n",
      "Data loss (cross entropy) after epoch 130000: 0.9478800390944099\n",
      "Accuracy after epoch 130000: 0.711\n",
      "Data loss (cross entropy) after epoch 132000: 0.8920808562492486\n",
      "Accuracy after epoch 132000: 0.71475\n",
      "Data loss (cross entropy) after epoch 134000: 0.9061574448376892\n",
      "Accuracy after epoch 134000: 0.702\n",
      "Data loss (cross entropy) after epoch 136000: 0.8880806690406802\n",
      "Accuracy after epoch 136000: 0.711\n",
      "Data loss (cross entropy) after epoch 138000: 0.9432827426026569\n",
      "Accuracy after epoch 138000: 0.70325\n",
      "Data loss (cross entropy) after epoch 140000: 0.8795736489405844\n",
      "Accuracy after epoch 140000: 0.71275\n",
      "Data loss (cross entropy) after epoch 142000: 0.8887362396709595\n",
      "Accuracy after epoch 142000: 0.71075\n",
      "Data loss (cross entropy) after epoch 144000: 0.8959387683892948\n",
      "Accuracy after epoch 144000: 0.7145\n",
      "Data loss (cross entropy) after epoch 146000: 0.8788110213835011\n",
      "Accuracy after epoch 146000: 0.72775\n",
      "Data loss (cross entropy) after epoch 148000: 0.8922811120049464\n",
      "Accuracy after epoch 148000: 0.71625\n",
      "Data loss (cross entropy) after epoch 150000: 0.8627347996209875\n",
      "Accuracy after epoch 150000: 0.723\n",
      "Data loss (cross entropy) after epoch 152000: 0.9490630539524332\n",
      "Accuracy after epoch 152000: 0.69675\n",
      "Data loss (cross entropy) after epoch 154000: 0.9112255332228774\n",
      "Accuracy after epoch 154000: 0.702\n",
      "Data loss (cross entropy) after epoch 156000: 0.9460704653442663\n",
      "Accuracy after epoch 156000: 0.7015\n",
      "Data loss (cross entropy) after epoch 158000: 0.8980995707629457\n",
      "Accuracy after epoch 158000: 0.71775\n",
      "Data loss (cross entropy) after epoch 160000: 0.9125460101658776\n",
      "Accuracy after epoch 160000: 0.69275\n",
      "Data loss (cross entropy) after epoch 162000: 0.9201957253487226\n",
      "Accuracy after epoch 162000: 0.704\n",
      "Data loss (cross entropy) after epoch 164000: 0.9076628429828434\n",
      "Accuracy after epoch 164000: 0.6985\n",
      "Data loss (cross entropy) after epoch 166000: 0.8374389160966242\n",
      "Accuracy after epoch 166000: 0.72725\n",
      "Data loss (cross entropy) after epoch 168000: 0.890511289069618\n",
      "Accuracy after epoch 168000: 0.7135\n",
      "Data loss (cross entropy) after epoch 170000: 0.8708841826455458\n",
      "Accuracy after epoch 170000: 0.7185\n",
      "Data loss (cross entropy) after epoch 172000: 0.8957466918145833\n",
      "Accuracy after epoch 172000: 0.7105\n",
      "Data loss (cross entropy) after epoch 174000: 0.8678984833215477\n",
      "Accuracy after epoch 174000: 0.7135\n",
      "Data loss (cross entropy) after epoch 176000: 0.8944123320433465\n",
      "Accuracy after epoch 176000: 0.71425\n",
      "Data loss (cross entropy) after epoch 178000: 0.8743417334176888\n",
      "Accuracy after epoch 178000: 0.70875\n",
      "Data loss (cross entropy) after epoch 180000: 0.8951477581082344\n",
      "Accuracy after epoch 180000: 0.71875\n",
      "Data loss (cross entropy) after epoch 182000: 0.8884191250918922\n",
      "Accuracy after epoch 182000: 0.71275\n",
      "Data loss (cross entropy) after epoch 184000: 0.8843727217333612\n",
      "Accuracy after epoch 184000: 0.72275\n",
      "Data loss (cross entropy) after epoch 186000: 0.8775599959826693\n",
      "Accuracy after epoch 186000: 0.71725\n",
      "Data loss (cross entropy) after epoch 188000: 0.9002989464979808\n",
      "Accuracy after epoch 188000: 0.72025\n",
      "Data loss (cross entropy) after epoch 190000: 0.9062614245844905\n",
      "Accuracy after epoch 190000: 0.715\n",
      "Data loss (cross entropy) after epoch 192000: 0.8633784525501615\n",
      "Accuracy after epoch 192000: 0.72525\n",
      "Data loss (cross entropy) after epoch 194000: 0.8784946321663465\n",
      "Accuracy after epoch 194000: 0.72075\n",
      "Data loss (cross entropy) after epoch 196000: 0.9500880116150711\n",
      "Accuracy after epoch 196000: 0.681\n",
      "Data loss (cross entropy) after epoch 198000: 0.8846728911303037\n",
      "Accuracy after epoch 198000: 0.7065\n",
      "Data loss (cross entropy) after epoch 200000: 0.8886602228002509\n",
      "Accuracy after epoch 200000: 0.7075\n",
      "Data loss (cross entropy) after epoch 202000: 0.878887669738345\n",
      "Accuracy after epoch 202000: 0.72025\n",
      "Data loss (cross entropy) after epoch 204000: 0.9008353407719795\n",
      "Accuracy after epoch 204000: 0.71625\n",
      "Data loss (cross entropy) after epoch 206000: 0.8538676983976402\n",
      "Accuracy after epoch 206000: 0.73525\n",
      "Data loss (cross entropy) after epoch 208000: 0.887756713013363\n",
      "Accuracy after epoch 208000: 0.709\n",
      "Data loss (cross entropy) after epoch 210000: 0.9182304947207327\n",
      "Accuracy after epoch 210000: 0.696\n",
      "Data loss (cross entropy) after epoch 212000: 0.8947722541604417\n",
      "Accuracy after epoch 212000: 0.71875\n",
      "Data loss (cross entropy) after epoch 214000: 0.845077968038737\n",
      "Accuracy after epoch 214000: 0.72925\n",
      "Data loss (cross entropy) after epoch 216000: 0.897882682415899\n",
      "Accuracy after epoch 216000: 0.712\n",
      "Data loss (cross entropy) after epoch 218000: 0.8928865745958884\n",
      "Accuracy after epoch 218000: 0.7145\n",
      "Data loss (cross entropy) after epoch 220000: 0.8492244936426159\n",
      "Accuracy after epoch 220000: 0.72875\n",
      "Data loss (cross entropy) after epoch 222000: 0.8917846326994812\n",
      "Accuracy after epoch 222000: 0.71475\n",
      "Data loss (cross entropy) after epoch 224000: 0.8557278413389933\n",
      "Accuracy after epoch 224000: 0.72575\n",
      "Data loss (cross entropy) after epoch 226000: 0.8672845442992004\n",
      "Accuracy after epoch 226000: 0.7165\n",
      "Data loss (cross entropy) after epoch 228000: 0.8688073358444285\n",
      "Accuracy after epoch 228000: 0.7115\n",
      "Data loss (cross entropy) after epoch 230000: 0.9039898491280033\n",
      "Accuracy after epoch 230000: 0.7115\n",
      "Data loss (cross entropy) after epoch 232000: 0.8764801361564125\n",
      "Accuracy after epoch 232000: 0.718\n",
      "Data loss (cross entropy) after epoch 234000: 0.9191642407963081\n",
      "Accuracy after epoch 234000: 0.713\n",
      "Data loss (cross entropy) after epoch 236000: 0.875122162159301\n",
      "Accuracy after epoch 236000: 0.709\n",
      "Data loss (cross entropy) after epoch 238000: 0.8472074451869368\n",
      "Accuracy after epoch 238000: 0.729\n",
      "Data loss (cross entropy) after epoch 240000: 0.8648205236176231\n",
      "Accuracy after epoch 240000: 0.725\n",
      "Data loss (cross entropy) after epoch 242000: 0.8828601415563175\n",
      "Accuracy after epoch 242000: 0.72475\n",
      "Data loss (cross entropy) after epoch 244000: 0.845143564945536\n",
      "Accuracy after epoch 244000: 0.72625\n",
      "Data loss (cross entropy) after epoch 246000: 0.9005400158979752\n",
      "Accuracy after epoch 246000: 0.714\n",
      "Data loss (cross entropy) after epoch 248000: 0.8891505410940211\n",
      "Accuracy after epoch 248000: 0.7215\n"
     ]
    }
   ],
   "source": [
    "# trying 16 hidden units. rests are same premises as 10 units run\n",
    "hwl_mlp_16 = mlp.MLP(training_X, training_y, 16)\n",
    "\n",
    "\n",
    "\n",
    "\n",
    "# data loss is calcuated on training set\n",
    "# accuracy is calculated on testing set\n",
    "acclog, losslog = hwl_mlp_16.minibatch_train(batch_size=16, testset_X=testing_X, testset_y=testing_y, print_loss=True)"
   ]
  },
  {
   "cell_type": "code",
   "execution_count": 18,
   "metadata": {
    "collapsed": false
   },
   "outputs": [
    {
     "data": {
      "text/plain": [
       "<matplotlib.text.Text at 0x10655e748>"
      ]
     },
     "execution_count": 18,
     "metadata": {},
     "output_type": "execute_result"
    },
    {
     "data": {
      "image/png": "[encoded data removed]",
      "text/plain": [
       "<matplotlib.figure.Figure at 0x103722978>"
      ]
     },
     "metadata": {},
     "output_type": "display_data"
    }
   ],
   "source": [
    "plt.plot([i[0] for i in acclog], [i[1] for i in acclog])\n",
    "plt.title(\"Accuracy ~ Epoch HU size {0}, Batch size {1}\".format(16,16))"
   ]
  },
  {
   "cell_type": "code",
   "execution_count": 19,
   "metadata": {
    "collapsed": false
   },
   "outputs": [
    {
     "data": {
      "text/plain": [
       "<matplotlib.text.Text at 0x10a5621d0>"
      ]
     },
     "execution_count": 19,
     "metadata": {},
     "output_type": "execute_result"
    },
    {
     "data": {
      "image/png": "[encoded data removed]",
      "text/plain": [
       "<matplotlib.figure.Figure at 0x10a51b748>"
      ]
     },
     "metadata": {},
     "output_type": "display_data"
    }
   ],
   "source": [
    "plt.plot([i[0] for i in losslog],[i[1] for i in losslog])\n",
    "plt.title(\"Dataloss ~ Epoch HU size {0}, Batch size {1}\".format(16,16))"
   ]
  }
 ],
 "metadata": {
  "kernelspec": {
   "display_name": "Python 3",
   "language": "python",
   "name": "python3"
  },
  "language_info": {
   "codemirror_mode": {
    "name": "ipython",
    "version": 3
   },
   "file_extension": ".py",
   "mimetype": "text/x-python",
   "name": "python",
   "nbconvert_exporter": "python",
   "pygments_lexer": "ipython3",
   "version": "3.6.1"
  }
 },
 "nbformat": 4,
 "nbformat_minor": 2
}
