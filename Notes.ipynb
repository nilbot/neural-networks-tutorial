{
 "cells": [
  {
   "cell_type": "markdown",
   "metadata": {},
   "source": [
    "# Preface\n",
    "My occupation is wizard: I wave my magic wand and shit happens. \n",
    "> We are about to talk about study the idea of a computational process. Computational processes are abstract beings that inhabit computers. As they evolve, processes manipulate other abstract things called data. The evolution of a process is directed by a pattern of rules called a program. People create programs to direct processes. In effect, we conjure the spirits of the computer with our spells.\n",
    "\n",
    "One of the factions in Hogwarts pushes the agenda of embracing computational process that emulates human brain and saught to obtain the oracle of solving complex problems which other factions struggled to solve. The protagonist faction in this book calls themselves Connectionists, and this is the story of connectionsm."
   ]
  },
  {
   "cell_type": "code",
   "execution_count": 1,
   "metadata": {
    "collapsed": true
   },
   "outputs": [],
   "source": [
    "import matplotlib\n",
    "import matplotlib.pyplot as plt\n",
    "matplotlib.style.use('ggplot')\n",
    "%matplotlib inline\n",
    "import numpy as np\n",
    "\n",
    "# source file mlp.py\n",
    "import mlp"
   ]
  },
  {
   "cell_type": "markdown",
   "metadata": {},
   "source": [
    "## Multi-layer perceptrons\n",
    "\n",
    "- 3 layer architecture\n",
    "- feed forward\n",
    "- backpropagate for gradient descent\n",
    "- update _once_ every epoch, not during sample loop\n",
    "- training testing split, testing set untouchable\n",
    "- mini batch gradient descent for hand-written letter (stochastic, because randomly select training sample every epoch)\n",
    "- ensemble at the end (extra experiment)\n",
    "\n",
    "code is in the **mlp.py** file. \n",
    "\n",
    "## About this notebook\n",
    "\n",
    "- XOR experiment with 2D visualisation based on spatial boundary plot using trained result\n",
    "- Sine experiment with 2D visualisation based on scatter plot comparing target and predictions, SSE showed (no residual analysis)\n",
    "- Hand written letter prediction experiments with accuracy plots on different number of hidden units, mini-batch size etc.\n",
    "- Ensemble for hand written letter"
   ]
  },
  {
   "cell_type": "code",
   "execution_count": 2,
   "metadata": {
    "collapsed": true
   },
   "outputs": [],
   "source": [
    "xor_X,xor_y = mlp.get_Xor_data()"
   ]
  },
  {
   "cell_type": "code",
   "execution_count": 3,
   "metadata": {},
   "outputs": [
    {
     "data": {
      "text/plain": [
       "<matplotlib.collections.PathCollection at 0x7f82a1c828d0>"
      ]
     },
     "execution_count": 3,
     "metadata": {},
     "output_type": "execute_result"
    },
    {
     "data": {
      "image/png": "[encoded data removed]",
      "text/plain": [
       "<matplotlib.figure.Figure at 0x7f82a3f677f0>"
      ]
     },
     "metadata": {},
     "output_type": "display_data"
    }
   ],
   "source": [
    "plt.scatter(xor_X[:,0],xor_X[:,1], c=xor_y[:,1], cmap=plt.cm.Spectral)"
   ]
  },
  {
   "cell_type": "code",
   "execution_count": 4,
   "metadata": {
    "collapsed": true
   },
   "outputs": [],
   "source": [
    "# 2 hidden unit MLP for XOR demonstration\n",
    "xor_mlp_2 = mlp.MLP(xor_X, xor_y, 2)"
   ]
  },
  {
   "cell_type": "code",
   "execution_count": 5,
   "metadata": {},
   "outputs": [
    {
     "name": "stdout",
     "output_type": "stream",
     "text": [
      "Data loss (cross entropy) after epoch 0: 0.6861598242933123\n",
      "Data loss (cross entropy) after epoch 2000: 0.5028045648406304\n",
      "Data loss (cross entropy) after epoch 4000: 0.47885248960886223\n",
      "Data loss (cross entropy) after epoch 6000: 0.030596319443061397\n",
      "Data loss (cross entropy) after epoch 8000: 0.01276464407179478\n",
      "Data loss (cross entropy) after epoch 10000: 0.007943765071568003\n",
      "Data loss (cross entropy) after epoch 12000: 0.0057369928379645725\n",
      "Data loss (cross entropy) after epoch 14000: 0.004479064073832102\n",
      "Data loss (cross entropy) after epoch 16000: 0.0036686582180509436\n",
      "Data loss (cross entropy) after epoch 18000: 0.0031039719089720206\n",
      "Data loss (cross entropy) after epoch 20000: 0.0026884077996359853\n",
      "Data loss (cross entropy) after epoch 22000: 0.0023700195106840447\n",
      "Data loss (cross entropy) after epoch 24000: 0.002118422822539804\n",
      "Data loss (cross entropy) after epoch 26000: 0.0019146763676030475\n",
      "Data loss (cross entropy) after epoch 28000: 0.0017463663143026439\n",
      "Data loss (cross entropy) after epoch 30000: 0.0016050216432716734\n",
      "Data loss (cross entropy) after epoch 32000: 0.0014846662011254222\n",
      "Data loss (cross entropy) after epoch 34000: 0.0013809645266173176\n",
      "Data loss (cross entropy) after epoch 36000: 0.0012906957642745307\n",
      "Data loss (cross entropy) after epoch 38000: 0.0012114176017549538\n",
      "Data loss (cross entropy) after epoch 40000: 0.0011412447617366755\n",
      "Data loss (cross entropy) after epoch 42000: 0.0010786989748629188\n",
      "Data loss (cross entropy) after epoch 44000: 0.001022604915620199\n",
      "Data loss (cross entropy) after epoch 46000: 0.0009720164829701144\n",
      "Data loss (cross entropy) after epoch 48000: 0.0009261635884878748\n",
      "Data loss (cross entropy) after epoch 50000: 0.0008844130960264844\n",
      "Data loss (cross entropy) after epoch 52000: 0.0008462397115604136\n",
      "Data loss (cross entropy) after epoch 54000: 0.0008112039885691914\n",
      "Data loss (cross entropy) after epoch 56000: 0.0007789355006264122\n",
      "Data loss (cross entropy) after epoch 58000: 0.0007491198192702147\n",
      "Data loss (cross entropy) after epoch 60000: 0.0007214883303672462\n",
      "Data loss (cross entropy) after epoch 62000: 0.0006958101929182116\n",
      "Data loss (cross entropy) after epoch 64000: 0.0006718859326152524\n",
      "Data loss (cross entropy) after epoch 66000: 0.0006495422953810919\n",
      "Data loss (cross entropy) after epoch 68000: 0.000628628081146681\n",
      "Data loss (cross entropy) after epoch 70000: 0.0006090107468857211\n",
      "Data loss (cross entropy) after epoch 72000: 0.0005905736182488503\n",
      "Data loss (cross entropy) after epoch 74000: 0.0005732135863576629\n",
      "Data loss (cross entropy) after epoch 76000: 0.0005568391941085794\n",
      "Data loss (cross entropy) after epoch 78000: 0.0005413690372909601\n",
      "Data loss (cross entropy) after epoch 80000: 0.0005267304217483582\n",
      "Data loss (cross entropy) after epoch 82000: 0.0005128582300176961\n",
      "Data loss (cross entropy) after epoch 84000: 0.0004996939603124389\n",
      "Data loss (cross entropy) after epoch 86000: 0.00048718490804815315\n",
      "Data loss (cross entropy) after epoch 88000: 0.00047528346585292797\n",
      "Data loss (cross entropy) after epoch 90000: 0.0004639465225354385\n",
      "Data loss (cross entropy) after epoch 92000: 0.000453134945074419\n",
      "Data loss (cross entropy) after epoch 94000: 0.0004428131305588575\n",
      "Data loss (cross entropy) after epoch 96000: 0.0004329486173075407\n",
      "Data loss (cross entropy) after epoch 98000: 0.0004235117462505019\n",
      "Data loss (cross entropy) after epoch 100000: 0.00041447536515751195\n",
      "Data loss (cross entropy) after epoch 102000: 0.00040581456952187064\n",
      "Data loss (cross entropy) after epoch 104000: 0.00039750647491128207\n",
      "Data loss (cross entropy) after epoch 106000: 0.0003895300164163779\n",
      "Data loss (cross entropy) after epoch 108000: 0.0003818657715108656\n",
      "Data loss (cross entropy) after epoch 110000: 0.0003744958031964685\n",
      "Data loss (cross entropy) after epoch 112000: 0.00036740352077493433\n",
      "Data loss (cross entropy) after epoch 114000: 0.00036057355597964074\n",
      "Data loss (cross entropy) after epoch 116000: 0.00035399165252754774\n",
      "Data loss (cross entropy) after epoch 118000: 0.0003476445674247638\n",
      "Data loss (cross entropy) after epoch 120000: 0.0003415199825936488\n",
      "Data loss (cross entropy) after epoch 122000: 0.00033560642558390385\n",
      "Data loss (cross entropy) after epoch 124000: 0.0003298931982974565\n",
      "Data loss (cross entropy) after epoch 126000: 0.00032437031279799566\n",
      "Data loss (cross entropy) after epoch 128000: 0.00031902843339762124\n",
      "Data loss (cross entropy) after epoch 130000: 0.0003138588243162192\n",
      "Data loss (cross entropy) after epoch 132000: 0.00030885330229830335\n",
      "Data loss (cross entropy) after epoch 134000: 0.0003040041936476826\n",
      "Data loss (cross entropy) after epoch 136000: 0.00029930429520817065\n",
      "Data loss (cross entropy) after epoch 138000: 0.00029474683887290297\n",
      "Data loss (cross entropy) after epoch 140000: 0.00029032545925611574\n",
      "Data loss (cross entropy) after epoch 142000: 0.0002860341642044324\n",
      "Data loss (cross entropy) after epoch 144000: 0.00028186730785890405\n",
      "Data loss (cross entropy) after epoch 146000: 0.0002778195660169252\n",
      "Data loss (cross entropy) after epoch 148000: 0.0002738859135659195\n",
      "Data loss (cross entropy) after epoch 150000: 0.00027006160378989985\n",
      "Data loss (cross entropy) after epoch 152000: 0.0002663421493691823\n",
      "Data loss (cross entropy) after epoch 154000: 0.00026272330491472\n",
      "Data loss (cross entropy) after epoch 156000: 0.00025920105089413323\n",
      "Data loss (cross entropy) after epoch 158000: 0.0002557715788208078\n",
      "Data loss (cross entropy) after epoch 160000: 0.00025243127759393293\n",
      "Data loss (cross entropy) after epoch 162000: 0.00024917672088458313\n",
      "Data loss (cross entropy) after epoch 164000: 0.00024600465547625685\n",
      "Data loss (cross entropy) after epoch 166000: 0.00024291199047751086\n",
      "Data loss (cross entropy) after epoch 168000: 0.00023989578732983567\n",
      "Data loss (cross entropy) after epoch 170000: 0.00023695325054505587\n",
      "Data loss (cross entropy) after epoch 172000: 0.0002340817191095451\n",
      "Data loss (cross entropy) after epoch 174000: 0.00023127865850115656\n",
      "Data loss (cross entropy) after epoch 176000: 0.0002285416532664132\n",
      "Data loss (cross entropy) after epoch 178000: 0.00022586840011605585\n",
      "Data loss (cross entropy) after epoch 180000: 0.00022325670149333086\n",
      "Data loss (cross entropy) after epoch 182000: 0.00022070445958100737\n",
      "Data loss (cross entropy) after epoch 184000: 0.00021820967071036835\n",
      "Data loss (cross entropy) after epoch 186000: 0.00021577042014222467\n",
      "Data loss (cross entropy) after epoch 188000: 0.00021338487719097454\n",
      "Data loss (cross entropy) after epoch 190000: 0.0002110512906662595\n",
      "Data loss (cross entropy) after epoch 192000: 0.00020876798460718629\n",
      "Data loss (cross entropy) after epoch 194000: 0.00020653335428863782\n",
      "Data loss (cross entropy) after epoch 196000: 0.0002043458624791436\n",
      "Data loss (cross entropy) after epoch 198000: 0.0002022040359323347\n",
      "Data loss (cross entropy) after epoch 200000: 0.0002001064620937877\n",
      "Data loss (cross entropy) after epoch 202000: 0.00019805178601061535\n",
      "Data loss (cross entropy) after epoch 204000: 0.00019603870742674844\n",
      "Data loss (cross entropy) after epoch 206000: 0.000194065978052741\n",
      "Data loss (cross entropy) after epoch 208000: 0.00019213239899695827\n",
      "Data loss (cross entropy) after epoch 210000: 0.0001902368183479802\n",
      "Data loss (cross entropy) after epoch 212000: 0.0001883781288973037\n",
      "Data loss (cross entropy) after epoch 214000: 0.00018655526599317609\n",
      "Data loss (cross entropy) after epoch 216000: 0.00018476720551692026\n",
      "Data loss (cross entropy) after epoch 218000: 0.00018301296197372364\n",
      "Data loss (cross entropy) after epoch 220000: 0.0001812915866897526\n",
      "Data loss (cross entropy) after epoch 222000: 0.0001796021661097296\n",
      "Data loss (cross entropy) after epoch 224000: 0.00017794382018827983\n",
      "Data loss (cross entropy) after epoch 226000: 0.0001763157008679911\n",
      "Data loss (cross entropy) after epoch 228000: 0.00017471699064046517\n",
      "Data loss (cross entropy) after epoch 230000: 0.0001731469011839711\n",
      "Data loss (cross entropy) after epoch 232000: 0.0001716046720733681\n",
      "Data loss (cross entropy) after epoch 234000: 0.00017008956955743656\n",
      "Data loss (cross entropy) after epoch 236000: 0.00016860088540097788\n",
      "Data loss (cross entropy) after epoch 238000: 0.00016713793578537918\n",
      "Data loss (cross entropy) after epoch 240000: 0.0001657000602662526\n",
      "Data loss (cross entropy) after epoch 242000: 0.00016428662078434448\n"
     ]
    },
    {
     "name": "stdout",
     "output_type": "stream",
     "text": [
      "Data loss (cross entropy) after epoch 244000: 0.00016289700072488192\n",
      "Data loss (cross entropy) after epoch 246000: 0.0001615306040256609\n",
      "Data loss (cross entropy) after epoch 248000: 0.00016018685432779453\n"
     ]
    }
   ],
   "source": [
    "_,losslog =xor_mlp_2.train(print_loss=True)"
   ]
  },
  {
   "cell_type": "code",
   "execution_count": 6,
   "metadata": {},
   "outputs": [
    {
     "data": {
      "text/plain": [
       "<matplotlib.text.Text at 0x7f82a1b96780>"
      ]
     },
     "execution_count": 6,
     "metadata": {},
     "output_type": "execute_result"
    },
    {
     "data": {
      "image/png": "[encoded data removed]",
      "text/plain": [
       "<matplotlib.figure.Figure at 0x7f82a1c59550>"
      ]
     },
     "metadata": {},
     "output_type": "display_data"
    }
   ],
   "source": [
    "plt.plot([i[0] for i in losslog],[i[1] for i in losslog])\n",
    "plt.title(\"Data Loss ~ Epoch [XOR] HU size {0}\".format(2))"
   ]
  },
  {
   "cell_type": "code",
   "execution_count": 7,
   "metadata": {
    "collapsed": true
   },
   "outputs": [],
   "source": [
    "def plot_xor_decision_boundary(pred_func):\n",
    "    # Set min and max values and give it some padding\n",
    "    x_min, x_max = xor_X[:, 0].min() - .5, xor_X[:, 0].max() + .5\n",
    "    y_min, y_max = xor_X[:, 1].min() - .5, xor_X[:, 1].max() + .5\n",
    "    h = 0.01\n",
    "    # Generate a grid of points with distance h between them\n",
    "    xx, yy = np.meshgrid(np.arange(x_min, x_max, h), np.arange(y_min, y_max, h))\n",
    "    # Predict the function value for the whole gid\n",
    "    Z = pred_func(np.c_[xx.ravel(), yy.ravel()])\n",
    "    Z = Z.reshape(xx.shape)\n",
    "    # Plot the contour and training examples\n",
    "    plt.contourf(xx, yy, Z, cmap=plt.cm.Spectral)\n",
    "    plt.scatter(xor_X[:,0],xor_X[:,1], c=xor_y[:,1], cmap=plt.cm.Spectral)"
   ]
  },
  {
   "cell_type": "code",
   "execution_count": 8,
   "metadata": {},
   "outputs": [
    {
     "data": {
      "text/plain": [
       "<matplotlib.text.Text at 0x7f82a1b1d550>"
      ]
     },
     "execution_count": 8,
     "metadata": {},
     "output_type": "execute_result"
    },
    {
     "data": {
      "image/png": "[encoded data removed]",
      "text/plain": [
       "<matplotlib.figure.Figure at 0x7f82a60f2278>"
      ]
     },
     "metadata": {},
     "output_type": "display_data"
    }
   ],
   "source": [
    "plot_xor_decision_boundary(lambda x: xor_mlp_2.predict(x))\n",
    "plt.title(\"XOR decision boundary for HU size {0}\".format(2))"
   ]
  },
  {
   "cell_type": "code",
   "execution_count": 9,
   "metadata": {},
   "outputs": [
    {
     "data": {
      "text/plain": [
       "<matplotlib.text.Text at 0x7f82a1a9d7b8>"
      ]
     },
     "execution_count": 9,
     "metadata": {},
     "output_type": "execute_result"
    },
    {
     "data": {
      "image/png": "[encoded data removed]",
      "text/plain": [
       "<matplotlib.figure.Figure at 0x7f82a1af65c0>"
      ]
     },
     "metadata": {},
     "output_type": "display_data"
    }
   ],
   "source": [
    "xor_mlp_3 = mlp.MLP(xor_X, xor_y, 3)\n",
    "xor_mlp_3.train()\n",
    "plot_xor_decision_boundary(lambda x: xor_mlp_3.predict(x))\n",
    "plt.title(\"XOR decision boundary for HU size {0}\".format(3))"
   ]
  },
  {
   "cell_type": "markdown",
   "metadata": {
    "collapsed": true
   },
   "source": [
    "## sine experiment\n",
    "\n",
    "X = [...] of shape (50,4)\n",
    "\n",
    "\n",
    "$y_i = sin(\\sum_j{x_{i,j}})$\n",
    "\n"
   ]
  },
  {
   "cell_type": "code",
   "execution_count": 10,
   "metadata": {},
   "outputs": [
    {
     "data": {
      "text/plain": [
       "<matplotlib.collections.PathCollection at 0x7f82a1a3efd0>"
      ]
     },
     "execution_count": 10,
     "metadata": {},
     "output_type": "execute_result"
    },
    {
     "data": {
      "image/png": "[encoded data removed]",
      "text/plain": [
       "<matplotlib.figure.Figure at 0x7f82a1b0bf60>"
      ]
     },
     "metadata": {},
     "output_type": "display_data"
    }
   ],
   "source": [
    "x,y = mlp.get_Sine_data()\n",
    "trainingX, trainingy,testingX,testingy = mlp.get_data_split(x,y,0.8)\n",
    "sine_hu_size = 5\n",
    "sine_mlp = mlp.MLP(X=trainingX, y=trainingy, hu_size=sine_hu_size)\n",
    "\n",
    "plt.scatter(x[:,0]+x[:,1]+x[:,2]+x[:,3],y)"
   ]
  },
  {
   "cell_type": "code",
   "execution_count": 11,
   "metadata": {},
   "outputs": [
    {
     "name": "stdout",
     "output_type": "stream",
     "text": [
      "Error (SSE) after epoch 0: [ 4.46174999]\n",
      "Error (SSE) after epoch 2000: [ 0.03929822]\n",
      "Error (SSE) after epoch 4000: [ 0.03342673]\n",
      "Error (SSE) after epoch 6000: [ 0.03059426]\n",
      "Error (SSE) after epoch 8000: [ 0.02861326]\n",
      "Error (SSE) after epoch 10000: [ 0.02691947]\n",
      "Error (SSE) after epoch 12000: [ 0.02545212]\n",
      "Error (SSE) after epoch 14000: [ 0.02428472]\n",
      "Error (SSE) after epoch 16000: [ 0.02341456]\n",
      "Error (SSE) after epoch 18000: [ 0.02278468]\n",
      "Error (SSE) after epoch 20000: [ 0.0223339]\n",
      "Error (SSE) after epoch 22000: [ 0.02200501]\n",
      "Error (SSE) after epoch 24000: [ 0.021752]\n",
      "Error (SSE) after epoch 26000: [ 0.02154344]\n",
      "Error (SSE) after epoch 28000: [ 0.02135969]\n",
      "Error (SSE) after epoch 30000: [ 0.02118868]\n",
      "Error (SSE) after epoch 32000: [ 0.02102284]\n",
      "Error (SSE) after epoch 34000: [ 0.02085743]\n",
      "Error (SSE) after epoch 36000: [ 0.02068983]\n",
      "Error (SSE) after epoch 38000: [ 0.02051923]\n",
      "Error (SSE) after epoch 40000: [ 0.02034615]\n",
      "Error (SSE) after epoch 42000: [ 0.02017179]\n",
      "Error (SSE) after epoch 44000: [ 0.01999736]\n",
      "Error (SSE) after epoch 46000: [ 0.01982377]\n",
      "Error (SSE) after epoch 48000: [ 0.0196516]\n",
      "Error (SSE) after epoch 50000: [ 0.01948118]\n",
      "Error (SSE) after epoch 52000: [ 0.01931272]\n",
      "Error (SSE) after epoch 54000: [ 0.01914638]\n",
      "Error (SSE) after epoch 56000: [ 0.01898231]\n",
      "Error (SSE) after epoch 58000: [ 0.01882069]\n",
      "Error (SSE) after epoch 60000: [ 0.01866172]\n",
      "Error (SSE) after epoch 62000: [ 0.0185056]\n",
      "Error (SSE) after epoch 64000: [ 0.01835252]\n",
      "Error (SSE) after epoch 66000: [ 0.0182026]\n",
      "Error (SSE) after epoch 68000: [ 0.01805589]\n",
      "Error (SSE) after epoch 70000: [ 0.01791237]\n",
      "Error (SSE) after epoch 72000: [ 0.01777192]\n",
      "Error (SSE) after epoch 74000: [ 0.01763434]\n",
      "Error (SSE) after epoch 76000: [ 0.01749941]\n",
      "Error (SSE) after epoch 78000: [ 0.01736687]\n",
      "Error (SSE) after epoch 80000: [ 0.01723646]\n",
      "Error (SSE) after epoch 82000: [ 0.01710796]\n",
      "Error (SSE) after epoch 84000: [ 0.01698116]\n",
      "Error (SSE) after epoch 86000: [ 0.01685593]\n",
      "Error (SSE) after epoch 88000: [ 0.01673212]\n",
      "Error (SSE) after epoch 90000: [ 0.01660968]\n",
      "Error (SSE) after epoch 92000: [ 0.01648856]\n",
      "Error (SSE) after epoch 94000: [ 0.01636873]\n",
      "Error (SSE) after epoch 96000: [ 0.0162502]\n",
      "Error (SSE) after epoch 98000: [ 0.01613298]\n",
      "Error (SSE) after epoch 100000: [ 0.01601708]\n",
      "Error (SSE) after epoch 102000: [ 0.01590253]\n",
      "Error (SSE) after epoch 104000: [ 0.01578931]\n",
      "Error (SSE) after epoch 106000: [ 0.01567742]\n",
      "Error (SSE) after epoch 108000: [ 0.0155668]\n",
      "Error (SSE) after epoch 110000: [ 0.01545737]\n",
      "Error (SSE) after epoch 112000: [ 0.01534901]\n",
      "Error (SSE) after epoch 114000: [ 0.01524154]\n",
      "Error (SSE) after epoch 116000: [ 0.01513474]\n",
      "Error (SSE) after epoch 118000: [ 0.01502831]\n",
      "Error (SSE) after epoch 120000: [ 0.01492189]\n",
      "Error (SSE) after epoch 122000: [ 0.01481502]\n",
      "Error (SSE) after epoch 124000: [ 0.01470719]\n",
      "Error (SSE) after epoch 126000: [ 0.01459778]\n",
      "Error (SSE) after epoch 128000: [ 0.01448606]\n",
      "Error (SSE) after epoch 130000: [ 0.01437124]\n",
      "Error (SSE) after epoch 132000: [ 0.01425239]\n",
      "Error (SSE) after epoch 134000: [ 0.01412855]\n",
      "Error (SSE) after epoch 136000: [ 0.01399868]\n",
      "Error (SSE) after epoch 138000: [ 0.01386174]\n",
      "Error (SSE) after epoch 140000: [ 0.01371677]\n",
      "Error (SSE) after epoch 142000: [ 0.01356298]\n",
      "Error (SSE) after epoch 144000: [ 0.01339983]\n",
      "Error (SSE) after epoch 146000: [ 0.01322715]\n",
      "Error (SSE) after epoch 148000: [ 0.01304519]\n",
      "Error (SSE) after epoch 150000: [ 0.01285459]\n",
      "Error (SSE) after epoch 152000: [ 0.01265628]\n",
      "Error (SSE) after epoch 154000: [ 0.01245125]\n",
      "Error (SSE) after epoch 156000: [ 0.01224037]\n",
      "Error (SSE) after epoch 158000: [ 0.01202412]\n",
      "Error (SSE) after epoch 160000: [ 0.01180247]\n",
      "Error (SSE) after epoch 162000: [ 0.01157484]\n",
      "Error (SSE) after epoch 164000: [ 0.01134021]\n",
      "Error (SSE) after epoch 166000: [ 0.01109727]\n",
      "Error (SSE) after epoch 168000: [ 0.01084467]\n",
      "Error (SSE) after epoch 170000: [ 0.01058133]\n",
      "Error (SSE) after epoch 172000: [ 0.01030684]\n",
      "Error (SSE) after epoch 174000: [ 0.01002178]\n",
      "Error (SSE) after epoch 176000: [ 0.00972816]\n",
      "Error (SSE) after epoch 178000: [ 0.00942948]\n",
      "Error (SSE) after epoch 180000: [ 0.00913055]\n",
      "Error (SSE) after epoch 182000: [ 0.00883692]\n",
      "Error (SSE) after epoch 184000: [ 0.00855401]\n",
      "Error (SSE) after epoch 186000: [ 0.00828638]\n",
      "Error (SSE) after epoch 188000: [ 0.00803727]\n",
      "Error (SSE) after epoch 190000: [ 0.0078085]\n",
      "Error (SSE) after epoch 192000: [ 0.0076006]\n",
      "Error (SSE) after epoch 194000: [ 0.00741315]\n",
      "Error (SSE) after epoch 196000: [ 0.007245]\n",
      "Error (SSE) after epoch 198000: [ 0.0070946]\n",
      "Error (SSE) after epoch 200000: [ 0.00696018]\n",
      "Error (SSE) after epoch 202000: [ 0.00683995]\n",
      "Error (SSE) after epoch 204000: [ 0.0067322]\n",
      "Error (SSE) after epoch 206000: [ 0.00663538]\n",
      "Error (SSE) after epoch 208000: [ 0.00654809]\n",
      "Error (SSE) after epoch 210000: [ 0.0064691]\n",
      "Error (SSE) after epoch 212000: [ 0.00639733]\n",
      "Error (SSE) after epoch 214000: [ 0.00633184]\n",
      "Error (SSE) after epoch 216000: [ 0.00627179]\n",
      "Error (SSE) after epoch 218000: [ 0.00621643]\n",
      "Error (SSE) after epoch 220000: [ 0.00616507]\n",
      "Error (SSE) after epoch 222000: [ 0.0061171]\n",
      "Error (SSE) after epoch 224000: [ 0.00607197]\n",
      "Error (SSE) after epoch 226000: [ 0.00602918]\n",
      "Error (SSE) after epoch 228000: [ 0.00598829]\n",
      "Error (SSE) after epoch 230000: [ 0.00594889]\n",
      "Error (SSE) after epoch 232000: [ 0.00591065]\n",
      "Error (SSE) after epoch 234000: [ 0.00587325]\n",
      "Error (SSE) after epoch 236000: [ 0.00583643]\n",
      "Error (SSE) after epoch 238000: [ 0.00579996]\n",
      "Error (SSE) after epoch 240000: [ 0.00576364]\n",
      "Error (SSE) after epoch 242000: [ 0.00572729]\n",
      "Error (SSE) after epoch 244000: [ 0.00569077]\n",
      "Error (SSE) after epoch 246000: [ 0.00565395]\n",
      "Error (SSE) after epoch 248000: [ 0.00561671]\n"
     ]
    }
   ],
   "source": [
    "acclog, losslog = sine_mlp.train(print_loss=True, testset_X=testingX, testset_y=testingy, classification=False)"
   ]
  },
  {
   "cell_type": "code",
   "execution_count": 12,
   "metadata": {},
   "outputs": [
    {
     "data": {
      "text/plain": [
       "<matplotlib.text.Text at 0x7f82a1a14160>"
      ]
     },
     "execution_count": 12,
     "metadata": {},
     "output_type": "execute_result"
    },
    {
     "data": {
      "image/png": "[encoded data removed]",
      "text/plain": [
       "<matplotlib.figure.Figure at 0x7f82a19d9ac8>"
      ]
     },
     "metadata": {},
     "output_type": "display_data"
    }
   ],
   "source": [
    "plt.plot([i[0] for i in losslog[10:]], [i[1] for i in losslog[10:]])\n",
    "plt.title(\"SSE for Sine test. HU size {0}\".format(sine_hu_size))"
   ]
  },
  {
   "cell_type": "code",
   "execution_count": 13,
   "metadata": {},
   "outputs": [
    {
     "data": {
      "text/plain": [
       "<matplotlib.text.Text at 0x7f82a1982550>"
      ]
     },
     "execution_count": 13,
     "metadata": {},
     "output_type": "execute_result"
    },
    {
     "data": {
      "image/png": "[encoded data removed]",
      "text/plain": [
       "<matplotlib.figure.Figure at 0x7f82a1a08da0>"
      ]
     },
     "metadata": {},
     "output_type": "display_data"
    }
   ],
   "source": [
    "x = testingX\n",
    "y = testingy\n",
    "def linear_sine_components(x):\n",
    "    return x[:,0] + x[:,1] + x[:,2] + x[:,3]\n",
    "comb = linear_sine_components(x)\n",
    "plt.scatter(comb,y)\n",
    "# sine_mlp_10.predict(x,False)\n",
    "y_hat = (sine_mlp.predict(x,False))['z2']\n",
    "plt.scatter(comb,y_hat)\n",
    "plt.title(\"Sine test on testset, red = target, blue = prediction. SSE {0}\".\n",
    "          format(0.5*np.sum(np.square(y_hat-y), axis=0)))\n"
   ]
  },
  {
   "cell_type": "markdown",
   "metadata": {},
   "source": [
    "### Let's try again?"
   ]
  },
  {
   "cell_type": "code",
   "execution_count": 14,
   "metadata": {},
   "outputs": [
    {
     "name": "stdout",
     "output_type": "stream",
     "text": [
      "Error (SSE) after epoch 0: [ 4.46174999]\n",
      "Error (SSE) after epoch 2000: [ 0.03929822]\n",
      "Error (SSE) after epoch 4000: [ 0.03342673]\n",
      "Error (SSE) after epoch 6000: [ 0.03059426]\n",
      "Error (SSE) after epoch 8000: [ 0.02861326]\n",
      "Error (SSE) after epoch 10000: [ 0.02691947]\n",
      "Error (SSE) after epoch 12000: [ 0.02545212]\n",
      "Error (SSE) after epoch 14000: [ 0.02428472]\n",
      "Error (SSE) after epoch 16000: [ 0.02341456]\n",
      "Error (SSE) after epoch 18000: [ 0.02278468]\n",
      "Error (SSE) after epoch 20000: [ 0.0223339]\n",
      "Error (SSE) after epoch 22000: [ 0.02200501]\n",
      "Error (SSE) after epoch 24000: [ 0.021752]\n",
      "Error (SSE) after epoch 26000: [ 0.02154344]\n",
      "Error (SSE) after epoch 28000: [ 0.02135969]\n",
      "Error (SSE) after epoch 30000: [ 0.02118868]\n",
      "Error (SSE) after epoch 32000: [ 0.02102284]\n",
      "Error (SSE) after epoch 34000: [ 0.02085743]\n",
      "Error (SSE) after epoch 36000: [ 0.02068983]\n",
      "Error (SSE) after epoch 38000: [ 0.02051923]\n",
      "Error (SSE) after epoch 40000: [ 0.02034615]\n",
      "Error (SSE) after epoch 42000: [ 0.02017179]\n",
      "Error (SSE) after epoch 44000: [ 0.01999736]\n",
      "Error (SSE) after epoch 46000: [ 0.01982377]\n",
      "Error (SSE) after epoch 48000: [ 0.0196516]\n",
      "Error (SSE) after epoch 50000: [ 0.01948118]\n",
      "Error (SSE) after epoch 52000: [ 0.01931272]\n",
      "Error (SSE) after epoch 54000: [ 0.01914638]\n",
      "Error (SSE) after epoch 56000: [ 0.01898231]\n",
      "Error (SSE) after epoch 58000: [ 0.01882069]\n",
      "Error (SSE) after epoch 60000: [ 0.01866172]\n",
      "Error (SSE) after epoch 62000: [ 0.0185056]\n",
      "Error (SSE) after epoch 64000: [ 0.01835252]\n",
      "Error (SSE) after epoch 66000: [ 0.0182026]\n",
      "Error (SSE) after epoch 68000: [ 0.01805589]\n",
      "Error (SSE) after epoch 70000: [ 0.01791237]\n",
      "Error (SSE) after epoch 72000: [ 0.01777192]\n",
      "Error (SSE) after epoch 74000: [ 0.01763434]\n",
      "Error (SSE) after epoch 76000: [ 0.01749941]\n",
      "Error (SSE) after epoch 78000: [ 0.01736687]\n",
      "Error (SSE) after epoch 80000: [ 0.01723646]\n",
      "Error (SSE) after epoch 82000: [ 0.01710796]\n",
      "Error (SSE) after epoch 84000: [ 0.01698116]\n",
      "Error (SSE) after epoch 86000: [ 0.01685593]\n",
      "Error (SSE) after epoch 88000: [ 0.01673212]\n"
     ]
    },
    {
     "data": {
      "image/png": "[encoded data removed]",
      "text/plain": [
       "<matplotlib.figure.Figure at 0x7f82a193e550>"
      ]
     },
     "metadata": {},
     "output_type": "display_data"
    },
    {
     "data": {
      "text/plain": [
       "<matplotlib.text.Text at 0x7f82a1863b38>"
      ]
     },
     "execution_count": 14,
     "metadata": {},
     "output_type": "execute_result"
    },
    {
     "data": {
      "image/png": "[encoded data removed]",
      "text/plain": [
       "<matplotlib.figure.Figure at 0x7f82a1928828>"
      ]
     },
     "metadata": {},
     "output_type": "display_data"
    }
   ],
   "source": [
    "sine_hu_size = 5\n",
    "sine_mlp = mlp.MLP(X=trainingX, y=trainingy, hu_size=sine_hu_size)\n",
    "_,errorlog = sine_mlp.train(epoch=90000, print_loss=True\n",
    "                            ,classification=False)\n",
    "plt.plot([i[0] for i in errorlog[10:]], [i[1] for i in errorlog[10:]])\n",
    "plt.title(\"SSE for Sine test. HU size {0}\".format(sine_hu_size))\n",
    "plt.show()\n",
    "y_hat = (sine_mlp.predict(x,False))['z2']\n",
    "plt.scatter(comb, y)\n",
    "plt.scatter(comb, y_hat)\n",
    "plt.title(\"Sine test on testset, trained stop at 90k epoch, red = target, blue = prediction. SSE {0}\".\n",
    "         format(0.5*np.sum(np.square(y_hat-y), axis=0)))"
   ]
  },
  {
   "cell_type": "markdown",
   "metadata": {},
   "source": [
    "## Exceptional :)\n",
    "- 16 attribute\n",
    "- A-Z as classes\n",
    "- 20000 samples\n",
    "- 80% split (recommended)\n",
    "- 10 hidden units (recommended)"
   ]
  },
  {
   "cell_type": "code",
   "execution_count": 15,
   "metadata": {},
   "outputs": [
    {
     "name": "stdout",
     "output_type": "stream",
     "text": [
      "shape (20000, 17)\n"
     ]
    },
    {
     "data": {
      "text/html": [
       "<div>\n",
       "<table border=\"1\" class=\"dataframe\">\n",
       "  <thead>\n",
       "    <tr style=\"text-align: right;\">\n",
       "      <th></th>\n",
       "      <th>0</th>\n",
       "      <th>1</th>\n",
       "      <th>2</th>\n",
       "      <th>3</th>\n",
       "      <th>4</th>\n",
       "      <th>5</th>\n",
       "      <th>6</th>\n",
       "      <th>7</th>\n",
       "      <th>8</th>\n",
       "      <th>9</th>\n",
       "      <th>10</th>\n",
       "      <th>11</th>\n",
       "      <th>12</th>\n",
       "      <th>13</th>\n",
       "      <th>14</th>\n",
       "      <th>15</th>\n",
       "      <th>16</th>\n",
       "    </tr>\n",
       "  </thead>\n",
       "  <tbody>\n",
       "    <tr>\n",
       "      <th>0</th>\n",
       "      <td>T</td>\n",
       "      <td>2</td>\n",
       "      <td>8</td>\n",
       "      <td>3</td>\n",
       "      <td>5</td>\n",
       "      <td>1</td>\n",
       "      <td>8</td>\n",
       "      <td>13</td>\n",
       "      <td>0</td>\n",
       "      <td>6</td>\n",
       "      <td>6</td>\n",
       "      <td>10</td>\n",
       "      <td>8</td>\n",
       "      <td>0</td>\n",
       "      <td>8</td>\n",
       "      <td>0</td>\n",
       "      <td>8</td>\n",
       "    </tr>\n",
       "    <tr>\n",
       "      <th>1</th>\n",
       "      <td>I</td>\n",
       "      <td>5</td>\n",
       "      <td>12</td>\n",
       "      <td>3</td>\n",
       "      <td>7</td>\n",
       "      <td>2</td>\n",
       "      <td>10</td>\n",
       "      <td>5</td>\n",
       "      <td>5</td>\n",
       "      <td>4</td>\n",
       "      <td>13</td>\n",
       "      <td>3</td>\n",
       "      <td>9</td>\n",
       "      <td>2</td>\n",
       "      <td>8</td>\n",
       "      <td>4</td>\n",
       "      <td>10</td>\n",
       "    </tr>\n",
       "    <tr>\n",
       "      <th>2</th>\n",
       "      <td>D</td>\n",
       "      <td>4</td>\n",
       "      <td>11</td>\n",
       "      <td>6</td>\n",
       "      <td>8</td>\n",
       "      <td>6</td>\n",
       "      <td>10</td>\n",
       "      <td>6</td>\n",
       "      <td>2</td>\n",
       "      <td>6</td>\n",
       "      <td>10</td>\n",
       "      <td>3</td>\n",
       "      <td>7</td>\n",
       "      <td>3</td>\n",
       "      <td>7</td>\n",
       "      <td>3</td>\n",
       "      <td>9</td>\n",
       "    </tr>\n",
       "    <tr>\n",
       "      <th>3</th>\n",
       "      <td>N</td>\n",
       "      <td>7</td>\n",
       "      <td>11</td>\n",
       "      <td>6</td>\n",
       "      <td>6</td>\n",
       "      <td>3</td>\n",
       "      <td>5</td>\n",
       "      <td>9</td>\n",
       "      <td>4</td>\n",
       "      <td>6</td>\n",
       "      <td>4</td>\n",
       "      <td>4</td>\n",
       "      <td>10</td>\n",
       "      <td>6</td>\n",
       "      <td>10</td>\n",
       "      <td>2</td>\n",
       "      <td>8</td>\n",
       "    </tr>\n",
       "    <tr>\n",
       "      <th>4</th>\n",
       "      <td>G</td>\n",
       "      <td>2</td>\n",
       "      <td>1</td>\n",
       "      <td>3</td>\n",
       "      <td>1</td>\n",
       "      <td>1</td>\n",
       "      <td>8</td>\n",
       "      <td>6</td>\n",
       "      <td>6</td>\n",
       "      <td>6</td>\n",
       "      <td>6</td>\n",
       "      <td>5</td>\n",
       "      <td>9</td>\n",
       "      <td>1</td>\n",
       "      <td>7</td>\n",
       "      <td>5</td>\n",
       "      <td>10</td>\n",
       "    </tr>\n",
       "  </tbody>\n",
       "</table>\n",
       "</div>"
      ],
      "text/plain": [
       "  0   1   2   3   4   5   6   7   8   9   10  11  12  13  14  15  16\n",
       "0  T   2   8   3   5   1   8  13   0   6   6  10   8   0   8   0   8\n",
       "1  I   5  12   3   7   2  10   5   5   4  13   3   9   2   8   4  10\n",
       "2  D   4  11   6   8   6  10   6   2   6  10   3   7   3   7   3   9\n",
       "3  N   7  11   6   6   3   5   9   4   6   4   4  10   6  10   2   8\n",
       "4  G   2   1   3   1   1   8   6   6   6   6   5   9   1   7   5  10"
      ]
     },
     "execution_count": 15,
     "metadata": {},
     "output_type": "execute_result"
    }
   ],
   "source": [
    "import pandas as pd # only for csv reading, no other usage, i swear :)\n",
    "dataset = pd.read_csv('letter-recognition.data',delimiter=',',header=None)\n",
    "print(\"shape {0}\".format(dataset.shape))\n",
    "dataset.head()"
   ]
  },
  {
   "cell_type": "code",
   "execution_count": 16,
   "metadata": {
    "collapsed": true
   },
   "outputs": [],
   "source": [
    "hwl_X, hwl_y= mlp.get_Hwl_data()"
   ]
  },
  {
   "cell_type": "code",
   "execution_count": 17,
   "metadata": {
    "collapsed": true
   },
   "outputs": [],
   "source": [
    "training_X, training_y, testing_X, testing_y = mlp.get_data_split(hwl_X, hwl_y, 0.8)"
   ]
  },
  {
   "cell_type": "code",
   "execution_count": 18,
   "metadata": {},
   "outputs": [
    {
     "data": {
      "text/plain": [
       "16000"
      ]
     },
     "execution_count": 18,
     "metadata": {},
     "output_type": "execute_result"
    }
   ],
   "source": [
    "training_X.shape[0]"
   ]
  },
  {
   "cell_type": "code",
   "execution_count": 19,
   "metadata": {
    "scrolled": false
   },
   "outputs": [
    {
     "name": "stdout",
     "output_type": "stream",
     "text": [
      "Data loss (cross entropy) after epoch 0: 3.2636384234828695\n",
      "Accuracy after epoch 0: 0.0515\n",
      "Data loss (cross entropy) after epoch 2000: 1.8085437518081362\n",
      "Accuracy after epoch 2000: 0.43725\n",
      "Data loss (cross entropy) after epoch 4000: 1.6193305764123282\n",
      "Accuracy after epoch 4000: 0.502\n",
      "Data loss (cross entropy) after epoch 6000: 1.6195335344644033\n",
      "Accuracy after epoch 6000: 0.4895\n",
      "Data loss (cross entropy) after epoch 8000: 1.3428428223514328\n",
      "Accuracy after epoch 8000: 0.57725\n",
      "Data loss (cross entropy) after epoch 10000: 1.4154296579431411\n",
      "Accuracy after epoch 10000: 0.56425\n",
      "Data loss (cross entropy) after epoch 12000: 1.3033583547966199\n",
      "Accuracy after epoch 12000: 0.591\n",
      "Data loss (cross entropy) after epoch 14000: 1.4654009717868879\n",
      "Accuracy after epoch 14000: 0.55575\n",
      "Data loss (cross entropy) after epoch 16000: 1.4257553126452152\n",
      "Accuracy after epoch 16000: 0.551\n",
      "Data loss (cross entropy) after epoch 18000: 1.337639992158094\n",
      "Accuracy after epoch 18000: 0.58475\n",
      "Data loss (cross entropy) after epoch 20000: 1.4180278030536517\n",
      "Accuracy after epoch 20000: 0.558\n",
      "Data loss (cross entropy) after epoch 22000: 1.5465270967436504\n",
      "Accuracy after epoch 22000: 0.53375\n",
      "Data loss (cross entropy) after epoch 24000: 1.2963456164046452\n",
      "Accuracy after epoch 24000: 0.59975\n",
      "Data loss (cross entropy) after epoch 26000: 1.2694475062409276\n",
      "Accuracy after epoch 26000: 0.5945\n",
      "Data loss (cross entropy) after epoch 28000: 1.3003578040941095\n",
      "Accuracy after epoch 28000: 0.59425\n",
      "Data loss (cross entropy) after epoch 30000: 1.3360793580763375\n",
      "Accuracy after epoch 30000: 0.58125\n",
      "Data loss (cross entropy) after epoch 32000: 1.3382683656491938\n",
      "Accuracy after epoch 32000: 0.58225\n",
      "Data loss (cross entropy) after epoch 34000: 1.5688094042857095\n",
      "Accuracy after epoch 34000: 0.51025\n",
      "Data loss (cross entropy) after epoch 36000: 1.2922370889472277\n",
      "Accuracy after epoch 36000: 0.58775\n",
      "Data loss (cross entropy) after epoch 38000: 1.2926835806409327\n",
      "Accuracy after epoch 38000: 0.5995\n",
      "Data loss (cross entropy) after epoch 40000: 1.3820785024014006\n",
      "Accuracy after epoch 40000: 0.5585\n",
      "Data loss (cross entropy) after epoch 42000: 1.5262932773142106\n",
      "Accuracy after epoch 42000: 0.53175\n",
      "Data loss (cross entropy) after epoch 44000: 1.252929624321603\n",
      "Accuracy after epoch 44000: 0.606\n",
      "Data loss (cross entropy) after epoch 46000: 1.2413784456658044\n",
      "Accuracy after epoch 46000: 0.6115\n",
      "Data loss (cross entropy) after epoch 48000: 1.3038636470912444\n",
      "Accuracy after epoch 48000: 0.607\n",
      "Data loss (cross entropy) after epoch 50000: 1.2460403829369928\n",
      "Accuracy after epoch 50000: 0.5945\n",
      "Data loss (cross entropy) after epoch 52000: 1.2475500832908453\n",
      "Accuracy after epoch 52000: 0.6045\n",
      "Data loss (cross entropy) after epoch 54000: 1.4066841274202044\n",
      "Accuracy after epoch 54000: 0.5595\n",
      "Data loss (cross entropy) after epoch 56000: 1.2290054056304294\n",
      "Accuracy after epoch 56000: 0.61825\n",
      "Data loss (cross entropy) after epoch 58000: 1.3068252224243164\n",
      "Accuracy after epoch 58000: 0.586\n",
      "Data loss (cross entropy) after epoch 60000: 1.3314877579512505\n",
      "Accuracy after epoch 60000: 0.598\n",
      "Data loss (cross entropy) after epoch 62000: 1.2305578866294298\n",
      "Accuracy after epoch 62000: 0.6105\n",
      "Data loss (cross entropy) after epoch 64000: 1.311504944806894\n",
      "Accuracy after epoch 64000: 0.59625\n",
      "Data loss (cross entropy) after epoch 66000: 1.3003948891201225\n",
      "Accuracy after epoch 66000: 0.5805\n",
      "Data loss (cross entropy) after epoch 68000: 1.337020908385249\n",
      "Accuracy after epoch 68000: 0.574\n",
      "Data loss (cross entropy) after epoch 70000: 1.3265264444070681\n",
      "Accuracy after epoch 70000: 0.58325\n",
      "Data loss (cross entropy) after epoch 72000: 1.2655078098634336\n",
      "Accuracy after epoch 72000: 0.61125\n",
      "Data loss (cross entropy) after epoch 74000: 1.2280664047263263\n",
      "Accuracy after epoch 74000: 0.616\n",
      "Data loss (cross entropy) after epoch 76000: 1.2333368198659935\n",
      "Accuracy after epoch 76000: 0.60325\n",
      "Data loss (cross entropy) after epoch 78000: 1.244871410408733\n",
      "Accuracy after epoch 78000: 0.60325\n",
      "Data loss (cross entropy) after epoch 80000: 1.2945646457858524\n",
      "Accuracy after epoch 80000: 0.59575\n",
      "Data loss (cross entropy) after epoch 82000: 1.2476248181800955\n",
      "Accuracy after epoch 82000: 0.59975\n",
      "Data loss (cross entropy) after epoch 84000: 1.2285844436420847\n",
      "Accuracy after epoch 84000: 0.611\n",
      "Data loss (cross entropy) after epoch 86000: 1.234316398437343\n",
      "Accuracy after epoch 86000: 0.6065\n",
      "Data loss (cross entropy) after epoch 88000: 1.2370117148152426\n",
      "Accuracy after epoch 88000: 0.6275\n",
      "Data loss (cross entropy) after epoch 90000: 1.227646275437029\n",
      "Accuracy after epoch 90000: 0.6275\n",
      "Data loss (cross entropy) after epoch 92000: 1.2646599370435778\n",
      "Accuracy after epoch 92000: 0.60875\n",
      "Data loss (cross entropy) after epoch 94000: 1.2710914635055162\n",
      "Accuracy after epoch 94000: 0.60475\n",
      "Data loss (cross entropy) after epoch 96000: 1.2115664061951124\n",
      "Accuracy after epoch 96000: 0.6225\n",
      "Data loss (cross entropy) after epoch 98000: 1.3271816937709555\n",
      "Accuracy after epoch 98000: 0.592\n",
      "Data loss (cross entropy) after epoch 100000: 1.2314415579898783\n",
      "Accuracy after epoch 100000: 0.612\n",
      "Data loss (cross entropy) after epoch 102000: 1.2410540471865206\n",
      "Accuracy after epoch 102000: 0.622\n",
      "Data loss (cross entropy) after epoch 104000: 1.2646915671085237\n",
      "Accuracy after epoch 104000: 0.622\n",
      "Data loss (cross entropy) after epoch 106000: 1.2284999816565385\n",
      "Accuracy after epoch 106000: 0.60775\n",
      "Data loss (cross entropy) after epoch 108000: 1.2098800011352715\n",
      "Accuracy after epoch 108000: 0.62025\n",
      "Data loss (cross entropy) after epoch 110000: 1.205526670210618\n",
      "Accuracy after epoch 110000: 0.627\n",
      "Data loss (cross entropy) after epoch 112000: 1.2546731592728686\n",
      "Accuracy after epoch 112000: 0.615\n",
      "Data loss (cross entropy) after epoch 114000: 1.1928603623061111\n",
      "Accuracy after epoch 114000: 0.62725\n",
      "Data loss (cross entropy) after epoch 116000: 1.240716263865485\n",
      "Accuracy after epoch 116000: 0.5995\n",
      "Data loss (cross entropy) after epoch 118000: 1.2131304629738004\n",
      "Accuracy after epoch 118000: 0.6345\n",
      "Data loss (cross entropy) after epoch 120000: 1.213287086483516\n",
      "Accuracy after epoch 120000: 0.6055\n",
      "Data loss (cross entropy) after epoch 122000: 1.256273508418189\n",
      "Accuracy after epoch 122000: 0.59425\n",
      "Data loss (cross entropy) after epoch 124000: 1.24225456271943\n",
      "Accuracy after epoch 124000: 0.614\n",
      "Data loss (cross entropy) after epoch 126000: 1.2171657769507593\n",
      "Accuracy after epoch 126000: 0.62375\n",
      "Data loss (cross entropy) after epoch 128000: 1.1933778082084396\n",
      "Accuracy after epoch 128000: 0.6325\n",
      "Data loss (cross entropy) after epoch 130000: 1.1989101780117315\n",
      "Accuracy after epoch 130000: 0.6165\n",
      "Data loss (cross entropy) after epoch 132000: 1.236605668263089\n",
      "Accuracy after epoch 132000: 0.6\n",
      "Data loss (cross entropy) after epoch 134000: 1.2700297252203963\n",
      "Accuracy after epoch 134000: 0.61275\n",
      "Data loss (cross entropy) after epoch 136000: 1.27974002452722\n",
      "Accuracy after epoch 136000: 0.60475\n",
      "Data loss (cross entropy) after epoch 138000: 1.2500157482310064\n",
      "Accuracy after epoch 138000: 0.62025\n",
      "Data loss (cross entropy) after epoch 140000: 1.2343317463443788\n",
      "Accuracy after epoch 140000: 0.61625\n",
      "Data loss (cross entropy) after epoch 142000: 1.1933323797871447\n",
      "Accuracy after epoch 142000: 0.61775\n",
      "Data loss (cross entropy) after epoch 144000: 1.2048893799346738\n",
      "Accuracy after epoch 144000: 0.62\n",
      "Data loss (cross entropy) after epoch 146000: 1.2989622788306867\n",
      "Accuracy after epoch 146000: 0.617\n",
      "Data loss (cross entropy) after epoch 148000: 1.2423137752970843\n",
      "Accuracy after epoch 148000: 0.61575\n",
      "Data loss (cross entropy) after epoch 150000: 1.1933097295323942\n",
      "Accuracy after epoch 150000: 0.63825\n",
      "Data loss (cross entropy) after epoch 152000: 1.2621441558914233\n",
      "Accuracy after epoch 152000: 0.61425\n",
      "Data loss (cross entropy) after epoch 154000: 1.2021999946382003\n",
      "Accuracy after epoch 154000: 0.62875\n",
      "Data loss (cross entropy) after epoch 156000: 1.2481773961104445\n",
      "Accuracy after epoch 156000: 0.6125\n",
      "Data loss (cross entropy) after epoch 158000: 1.2044550527346516\n",
      "Accuracy after epoch 158000: 0.62225\n",
      "Data loss (cross entropy) after epoch 160000: 1.2115738616030927\n",
      "Accuracy after epoch 160000: 0.62075\n",
      "Data loss (cross entropy) after epoch 162000: 1.2711815597717309\n",
      "Accuracy after epoch 162000: 0.61225\n",
      "Data loss (cross entropy) after epoch 164000: 1.2398888266107466\n",
      "Accuracy after epoch 164000: 0.62275\n"
     ]
    },
    {
     "name": "stdout",
     "output_type": "stream",
     "text": [
      "Data loss (cross entropy) after epoch 166000: 1.1927297393775333\n",
      "Accuracy after epoch 166000: 0.62975\n",
      "Data loss (cross entropy) after epoch 168000: 1.221076566179499\n",
      "Accuracy after epoch 168000: 0.62775\n",
      "Data loss (cross entropy) after epoch 170000: 1.2258865433375525\n",
      "Accuracy after epoch 170000: 0.62425\n",
      "Data loss (cross entropy) after epoch 172000: 1.2030021582324222\n",
      "Accuracy after epoch 172000: 0.6315\n",
      "Data loss (cross entropy) after epoch 174000: 1.1812067293942692\n",
      "Accuracy after epoch 174000: 0.631\n",
      "Data loss (cross entropy) after epoch 176000: 1.2383396424282096\n",
      "Accuracy after epoch 176000: 0.61825\n",
      "Data loss (cross entropy) after epoch 178000: 1.2317725263095243\n",
      "Accuracy after epoch 178000: 0.6005\n",
      "Data loss (cross entropy) after epoch 180000: 1.2457555500973407\n",
      "Accuracy after epoch 180000: 0.5925\n",
      "Data loss (cross entropy) after epoch 182000: 1.2096259035427535\n",
      "Accuracy after epoch 182000: 0.63\n",
      "Data loss (cross entropy) after epoch 184000: 1.2078412178779088\n",
      "Accuracy after epoch 184000: 0.61475\n",
      "Data loss (cross entropy) after epoch 186000: 1.2896331084372006\n",
      "Accuracy after epoch 186000: 0.593\n",
      "Data loss (cross entropy) after epoch 188000: 1.2086097592463152\n",
      "Accuracy after epoch 188000: 0.62675\n",
      "Data loss (cross entropy) after epoch 190000: 1.2447704970325324\n",
      "Accuracy after epoch 190000: 0.62325\n",
      "Data loss (cross entropy) after epoch 192000: 1.2070710426299376\n",
      "Accuracy after epoch 192000: 0.62325\n",
      "Data loss (cross entropy) after epoch 194000: 1.2550364954310125\n",
      "Accuracy after epoch 194000: 0.60975\n",
      "Data loss (cross entropy) after epoch 196000: 1.21609241441599\n",
      "Accuracy after epoch 196000: 0.6215\n",
      "Data loss (cross entropy) after epoch 198000: 1.1824405214724694\n",
      "Accuracy after epoch 198000: 0.627\n",
      "Data loss (cross entropy) after epoch 200000: 1.1971498084201024\n",
      "Accuracy after epoch 200000: 0.62\n",
      "Data loss (cross entropy) after epoch 202000: 1.2457519701393378\n",
      "Accuracy after epoch 202000: 0.59725\n",
      "Data loss (cross entropy) after epoch 204000: 1.2830894729921065\n",
      "Accuracy after epoch 204000: 0.589\n",
      "Data loss (cross entropy) after epoch 206000: 1.199991611129887\n",
      "Accuracy after epoch 206000: 0.61825\n",
      "Data loss (cross entropy) after epoch 208000: 1.180034748834505\n",
      "Accuracy after epoch 208000: 0.62725\n",
      "Data loss (cross entropy) after epoch 210000: 1.2450234121964003\n",
      "Accuracy after epoch 210000: 0.6165\n",
      "Data loss (cross entropy) after epoch 212000: 1.2402435017009816\n",
      "Accuracy after epoch 212000: 0.628\n",
      "Data loss (cross entropy) after epoch 214000: 1.2521434268540437\n",
      "Accuracy after epoch 214000: 0.608\n",
      "Data loss (cross entropy) after epoch 216000: 1.1972268210734776\n",
      "Accuracy after epoch 216000: 0.611\n",
      "Data loss (cross entropy) after epoch 218000: 1.2236335644800205\n",
      "Accuracy after epoch 218000: 0.62425\n",
      "Data loss (cross entropy) after epoch 220000: 1.2095926480026475\n",
      "Accuracy after epoch 220000: 0.628\n",
      "Data loss (cross entropy) after epoch 222000: 1.198884242610994\n",
      "Accuracy after epoch 222000: 0.62975\n",
      "Data loss (cross entropy) after epoch 224000: 1.2527255126848391\n",
      "Accuracy after epoch 224000: 0.597\n",
      "Data loss (cross entropy) after epoch 226000: 1.2592876592407056\n",
      "Accuracy after epoch 226000: 0.60925\n",
      "Data loss (cross entropy) after epoch 228000: 1.1959434605515677\n",
      "Accuracy after epoch 228000: 0.622\n",
      "Data loss (cross entropy) after epoch 230000: 1.2116207234440357\n",
      "Accuracy after epoch 230000: 0.6165\n",
      "Data loss (cross entropy) after epoch 232000: 1.1961964608795497\n",
      "Accuracy after epoch 232000: 0.62425\n",
      "Data loss (cross entropy) after epoch 234000: 1.2047943526105132\n",
      "Accuracy after epoch 234000: 0.62275\n",
      "Data loss (cross entropy) after epoch 236000: 1.2181196375038703\n",
      "Accuracy after epoch 236000: 0.601\n",
      "Data loss (cross entropy) after epoch 238000: 1.228011882492568\n",
      "Accuracy after epoch 238000: 0.623\n",
      "Data loss (cross entropy) after epoch 240000: 1.1980861664082496\n",
      "Accuracy after epoch 240000: 0.633\n",
      "Data loss (cross entropy) after epoch 242000: 1.2081363986374292\n",
      "Accuracy after epoch 242000: 0.6185\n",
      "Data loss (cross entropy) after epoch 244000: 1.3083220269257017\n",
      "Accuracy after epoch 244000: 0.60825\n",
      "Data loss (cross entropy) after epoch 246000: 1.236220071785345\n",
      "Accuracy after epoch 246000: 0.62375\n",
      "Data loss (cross entropy) after epoch 248000: 1.2729677777501225\n",
      "Accuracy after epoch 248000: 0.6115\n"
     ]
    }
   ],
   "source": [
    "# recommended 10 hidden units\n",
    "hwl_mlp_10 = mlp.MLP(training_X, training_y, 10)\n",
    "\n",
    "\n",
    "\n",
    "# train using mini batch, batch size 16 (2^4 for cache friendliness, my laptop is poor)\n",
    "acclog, losslog = hwl_mlp_10.train(batch_size=16, testset_X=testing_X, testset_y=testing_y, print_loss=True)"
   ]
  },
  {
   "cell_type": "code",
   "execution_count": 20,
   "metadata": {},
   "outputs": [
    {
     "data": {
      "text/plain": [
       "<matplotlib.text.Text at 0x7f829e05c048>"
      ]
     },
     "execution_count": 20,
     "metadata": {},
     "output_type": "execute_result"
    },
    {
     "data": {
      "image/png": "[encoded data removed]",
      "text/plain": [
       "<matplotlib.figure.Figure at 0x7f829e936978>"
      ]
     },
     "metadata": {},
     "output_type": "display_data"
    }
   ],
   "source": [
    "plt.plot([i[0] for i in acclog], [i[1] for i in acclog])\n",
    "plt.plot([i[0] for i in acclog], np.zeros((len(acclog), 1))+0.55)\n",
    "plt.plot([i[0] for i in acclog], np.zeros((len(acclog), 1))+0.60)\n",
    "plt.plot([i[0] for i in acclog], np.zeros((len(acclog), 1))+0.65)\n",
    "plt.title(\"Accuracy ~ Epoch HU size {0}, Batch size {1}\".format(10,16))"
   ]
  },
  {
   "cell_type": "code",
   "execution_count": 21,
   "metadata": {},
   "outputs": [
    {
     "data": {
      "text/plain": [
       "<matplotlib.text.Text at 0x7f829e6ae6d8>"
      ]
     },
     "execution_count": 21,
     "metadata": {},
     "output_type": "execute_result"
    },
    {
     "data": {
      "image/png": "[encoded data removed]",
      "text/plain": [
       "<matplotlib.figure.Figure at 0x7f829e6bd6d8>"
      ]
     },
     "metadata": {},
     "output_type": "display_data"
    }
   ],
   "source": [
    "plt.plot([i[0] for i in losslog],[i[1] for i in losslog])\n",
    "plt.title(\"Dataloss ~ Epoch HU size {0}, Batch size {1}\".format(10,16))"
   ]
  },
  {
   "cell_type": "code",
   "execution_count": 22,
   "metadata": {
    "scrolled": false
   },
   "outputs": [
    {
     "name": "stdout",
     "output_type": "stream",
     "text": [
      "Accuracy after epoch 0: 0.04725\n",
      "Accuracy after epoch 2000: 0.57575\n",
      "Accuracy after epoch 4000: 0.529\n",
      "Accuracy after epoch 6000: 0.63975\n",
      "Accuracy after epoch 8000: 0.65675\n",
      "Accuracy after epoch 10000: 0.623\n",
      "Accuracy after epoch 12000: 0.66325\n",
      "Accuracy after epoch 14000: 0.643\n",
      "Accuracy after epoch 16000: 0.6835\n",
      "Accuracy after epoch 18000: 0.66125\n",
      "Accuracy after epoch 20000: 0.67625\n",
      "Accuracy after epoch 22000: 0.72075\n",
      "Accuracy after epoch 24000: 0.62575\n",
      "Accuracy after epoch 26000: 0.691\n",
      "Accuracy after epoch 28000: 0.68425\n",
      "Accuracy after epoch 30000: 0.69075\n",
      "Accuracy after epoch 32000: 0.7\n",
      "Accuracy after epoch 34000: 0.65525\n",
      "Accuracy after epoch 36000: 0.7205\n",
      "Accuracy after epoch 38000: 0.713\n",
      "Accuracy after epoch 40000: 0.731\n",
      "Accuracy after epoch 42000: 0.71975\n",
      "Accuracy after epoch 44000: 0.71425\n",
      "Accuracy after epoch 46000: 0.6435\n",
      "Accuracy after epoch 48000: 0.7245\n",
      "Accuracy after epoch 50000: 0.71275\n",
      "Accuracy after epoch 52000: 0.7345\n",
      "Accuracy after epoch 54000: 0.7045\n",
      "Accuracy after epoch 56000: 0.69775\n",
      "Accuracy after epoch 58000: 0.721\n",
      "Accuracy after epoch 60000: 0.712\n",
      "Accuracy after epoch 62000: 0.71025\n",
      "Accuracy after epoch 64000: 0.7335\n",
      "Accuracy after epoch 66000: 0.741\n",
      "Accuracy after epoch 68000: 0.712\n",
      "Accuracy after epoch 70000: 0.73\n",
      "Accuracy after epoch 72000: 0.7\n",
      "Accuracy after epoch 74000: 0.71275\n",
      "Accuracy after epoch 76000: 0.6965\n",
      "Accuracy after epoch 78000: 0.73025\n",
      "Accuracy after epoch 80000: 0.72075\n",
      "Accuracy after epoch 82000: 0.7385\n",
      "Accuracy after epoch 84000: 0.744\n",
      "Accuracy after epoch 86000: 0.69725\n",
      "Accuracy after epoch 88000: 0.7185\n",
      "Accuracy after epoch 90000: 0.71825\n",
      "Accuracy after epoch 92000: 0.71825\n",
      "Accuracy after epoch 94000: 0.7205\n",
      "Accuracy after epoch 96000: 0.72975\n",
      "Accuracy after epoch 98000: 0.722\n",
      "Accuracy after epoch 100000: 0.7405\n",
      "Accuracy after epoch 102000: 0.735\n",
      "Accuracy after epoch 104000: 0.72175\n",
      "Accuracy after epoch 106000: 0.71125\n",
      "Accuracy after epoch 108000: 0.72\n",
      "Accuracy after epoch 110000: 0.73125\n",
      "Accuracy after epoch 112000: 0.74325\n",
      "Accuracy after epoch 114000: 0.73375\n",
      "Accuracy after epoch 116000: 0.73075\n",
      "Accuracy after epoch 118000: 0.734\n",
      "Accuracy after epoch 120000: 0.708\n",
      "Accuracy after epoch 122000: 0.73725\n",
      "Accuracy after epoch 124000: 0.74025\n",
      "Accuracy after epoch 126000: 0.734\n",
      "Accuracy after epoch 128000: 0.7225\n",
      "Accuracy after epoch 130000: 0.71025\n",
      "Accuracy after epoch 132000: 0.70625\n",
      "Accuracy after epoch 134000: 0.722\n",
      "Accuracy after epoch 136000: 0.68975\n",
      "Accuracy after epoch 138000: 0.74275\n",
      "Accuracy after epoch 140000: 0.726\n",
      "Accuracy after epoch 142000: 0.729\n",
      "Accuracy after epoch 144000: 0.7315\n",
      "Accuracy after epoch 146000: 0.72925\n",
      "Accuracy after epoch 148000: 0.742\n",
      "Accuracy after epoch 150000: 0.73675\n",
      "Accuracy after epoch 152000: 0.71775\n",
      "Accuracy after epoch 154000: 0.73675\n",
      "Accuracy after epoch 156000: 0.721\n",
      "Accuracy after epoch 158000: 0.7255\n",
      "Accuracy after epoch 160000: 0.7365\n",
      "Accuracy after epoch 162000: 0.73625\n",
      "Accuracy after epoch 164000: 0.743\n",
      "Accuracy after epoch 166000: 0.7145\n",
      "Accuracy after epoch 168000: 0.736\n",
      "Accuracy after epoch 170000: 0.7455\n",
      "Accuracy after epoch 172000: 0.7325\n",
      "Accuracy after epoch 174000: 0.74\n",
      "Accuracy after epoch 176000: 0.70975\n",
      "Accuracy after epoch 178000: 0.73875\n",
      "Accuracy after epoch 180000: 0.716\n",
      "Accuracy after epoch 182000: 0.7175\n",
      "Accuracy after epoch 184000: 0.712\n",
      "Accuracy after epoch 186000: 0.7295\n",
      "Accuracy after epoch 188000: 0.72775\n",
      "Accuracy after epoch 190000: 0.74025\n",
      "Accuracy after epoch 192000: 0.739\n",
      "Accuracy after epoch 194000: 0.7225\n",
      "Accuracy after epoch 196000: 0.714\n",
      "Accuracy after epoch 198000: 0.7385\n",
      "Accuracy after epoch 200000: 0.7385\n",
      "Accuracy after epoch 202000: 0.699\n",
      "Accuracy after epoch 204000: 0.7055\n",
      "Accuracy after epoch 206000: 0.727\n",
      "Accuracy after epoch 208000: 0.734\n",
      "Accuracy after epoch 210000: 0.70275\n",
      "Accuracy after epoch 212000: 0.742\n",
      "Accuracy after epoch 214000: 0.72375\n",
      "Accuracy after epoch 216000: 0.7405\n",
      "Accuracy after epoch 218000: 0.727\n",
      "Accuracy after epoch 220000: 0.7315\n",
      "Accuracy after epoch 222000: 0.73125\n",
      "Accuracy after epoch 224000: 0.733\n",
      "Accuracy after epoch 226000: 0.72475\n",
      "Accuracy after epoch 228000: 0.7425\n",
      "Accuracy after epoch 230000: 0.74375\n",
      "Accuracy after epoch 232000: 0.716\n",
      "Accuracy after epoch 234000: 0.72025\n",
      "Accuracy after epoch 236000: 0.7345\n",
      "Accuracy after epoch 238000: 0.72375\n",
      "Accuracy after epoch 240000: 0.7325\n",
      "Accuracy after epoch 242000: 0.728\n",
      "Accuracy after epoch 244000: 0.73025\n",
      "Accuracy after epoch 246000: 0.72775\n",
      "Accuracy after epoch 248000: 0.72775\n"
     ]
    }
   ],
   "source": [
    "# trying 16 hidden units. rests are same premises as 10 units run\n",
    "hwl_mlp_16 = mlp.MLP(training_X, training_y, 16)\n",
    "\n",
    "# data loss is calcuated on training set\n",
    "# accuracy is calculated on testing set\n",
    "acclog,_ = hwl_mlp_16.train(batch_size=16, testset_X=testing_X, testset_y=testing_y)"
   ]
  },
  {
   "cell_type": "code",
   "execution_count": 23,
   "metadata": {},
   "outputs": [
    {
     "data": {
      "text/plain": [
       "<matplotlib.text.Text at 0x7f829e609748>"
      ]
     },
     "execution_count": 23,
     "metadata": {},
     "output_type": "execute_result"
    },
    {
     "data": {
      "image/png": "[encoded data removed]",
      "text/plain": [
       "<matplotlib.figure.Figure at 0x7f829e086d68>"
      ]
     },
     "metadata": {},
     "output_type": "display_data"
    }
   ],
   "source": [
    "plt.plot([i[0] for i in acclog], [i[1] for i in acclog])\n",
    "plt.plot([i[0] for i in acclog], np.zeros((len(acclog), 1))+0.60)\n",
    "plt.plot([i[0] for i in acclog], np.zeros((len(acclog), 1))+0.65)\n",
    "plt.plot([i[0] for i in acclog], np.zeros((len(acclog), 1))+0.70)\n",
    "plt.plot([i[0] for i in acclog], np.zeros((len(acclog), 1))+0.75)\n",
    "plt.plot([i[0] for i in acclog], np.zeros((len(acclog), 1))+0.80)\n",
    "plt.title(\"Accuracy ~ Epoch HU size {0}, Batch size {1}\".format(16,16))"
   ]
  },
  {
   "cell_type": "code",
   "execution_count": 24,
   "metadata": {
    "collapsed": true
   },
   "outputs": [],
   "source": [
    "# plt.plot([i[0] for i in losslog],[i[1] for i in losslog])\n",
    "# plt.title(\"Dataloss ~ Epoch HU size {0}, Batch size {1}\".format(16,16))"
   ]
  },
  {
   "cell_type": "code",
   "execution_count": 25,
   "metadata": {},
   "outputs": [
    {
     "name": "stdout",
     "output_type": "stream",
     "text": [
      "Accuracy after epoch 0: 0.06025\n",
      "Accuracy after epoch 2000: 0.62675\n",
      "Accuracy after epoch 4000: 0.65475\n",
      "Accuracy after epoch 6000: 0.68675\n",
      "Accuracy after epoch 8000: 0.69375\n",
      "Accuracy after epoch 10000: 0.729\n",
      "Accuracy after epoch 12000: 0.74575\n",
      "Accuracy after epoch 14000: 0.663\n",
      "Accuracy after epoch 16000: 0.73975\n",
      "Accuracy after epoch 18000: 0.756\n",
      "Accuracy after epoch 20000: 0.744\n",
      "Accuracy after epoch 22000: 0.71875\n",
      "Accuracy after epoch 24000: 0.7445\n",
      "Accuracy after epoch 26000: 0.761\n",
      "Accuracy after epoch 28000: 0.77525\n",
      "Accuracy after epoch 30000: 0.7515\n",
      "Accuracy after epoch 32000: 0.716\n",
      "Accuracy after epoch 34000: 0.765\n",
      "Accuracy after epoch 36000: 0.75975\n",
      "Accuracy after epoch 38000: 0.76375\n",
      "Accuracy after epoch 40000: 0.76\n",
      "Accuracy after epoch 42000: 0.778\n",
      "Accuracy after epoch 44000: 0.76425\n",
      "Accuracy after epoch 46000: 0.77575\n",
      "Accuracy after epoch 48000: 0.76525\n",
      "Accuracy after epoch 50000: 0.76275\n",
      "Accuracy after epoch 52000: 0.74625\n",
      "Accuracy after epoch 54000: 0.778\n",
      "Accuracy after epoch 56000: 0.77525\n",
      "Accuracy after epoch 58000: 0.76125\n",
      "Accuracy after epoch 60000: 0.7725\n",
      "Accuracy after epoch 62000: 0.7655\n",
      "Accuracy after epoch 64000: 0.74975\n",
      "Accuracy after epoch 66000: 0.78175\n",
      "Accuracy after epoch 68000: 0.78525\n",
      "Accuracy after epoch 70000: 0.772\n",
      "Accuracy after epoch 72000: 0.78325\n",
      "Accuracy after epoch 74000: 0.76525\n",
      "Accuracy after epoch 76000: 0.75025\n",
      "Accuracy after epoch 78000: 0.78375\n",
      "Accuracy after epoch 80000: 0.78725\n",
      "Accuracy after epoch 82000: 0.80025\n",
      "Accuracy after epoch 84000: 0.78325\n",
      "Accuracy after epoch 86000: 0.79025\n",
      "Accuracy after epoch 88000: 0.7605\n",
      "Accuracy after epoch 90000: 0.7685\n",
      "Accuracy after epoch 92000: 0.753\n",
      "Accuracy after epoch 94000: 0.782\n",
      "Accuracy after epoch 96000: 0.79375\n",
      "Accuracy after epoch 98000: 0.7775\n",
      "Accuracy after epoch 100000: 0.7845\n",
      "Accuracy after epoch 102000: 0.79725\n",
      "Accuracy after epoch 104000: 0.7845\n",
      "Accuracy after epoch 106000: 0.7785\n",
      "Accuracy after epoch 108000: 0.782\n",
      "Accuracy after epoch 110000: 0.77425\n",
      "Accuracy after epoch 112000: 0.78625\n",
      "Accuracy after epoch 114000: 0.78625\n",
      "Accuracy after epoch 116000: 0.78125\n",
      "Accuracy after epoch 118000: 0.78725\n",
      "Accuracy after epoch 120000: 0.7765\n",
      "Accuracy after epoch 122000: 0.8\n",
      "Accuracy after epoch 124000: 0.77975\n",
      "Accuracy after epoch 126000: 0.7925\n",
      "Accuracy after epoch 128000: 0.801\n",
      "Accuracy after epoch 130000: 0.80725\n",
      "Accuracy after epoch 132000: 0.77975\n",
      "Accuracy after epoch 134000: 0.7895\n",
      "Accuracy after epoch 136000: 0.8\n",
      "Accuracy after epoch 138000: 0.78175\n",
      "Accuracy after epoch 140000: 0.7945\n",
      "Accuracy after epoch 142000: 0.78825\n",
      "Accuracy after epoch 144000: 0.79325\n",
      "Accuracy after epoch 146000: 0.7995\n",
      "Accuracy after epoch 148000: 0.79525\n",
      "Accuracy after epoch 150000: 0.7905\n",
      "Accuracy after epoch 152000: 0.796\n",
      "Accuracy after epoch 154000: 0.79\n",
      "Accuracy after epoch 156000: 0.801\n",
      "Accuracy after epoch 158000: 0.809\n",
      "Accuracy after epoch 160000: 0.79825\n",
      "Accuracy after epoch 162000: 0.7895\n",
      "Accuracy after epoch 164000: 0.77075\n",
      "Accuracy after epoch 166000: 0.8055\n",
      "Accuracy after epoch 168000: 0.7915\n",
      "Accuracy after epoch 170000: 0.79675\n",
      "Accuracy after epoch 172000: 0.7945\n",
      "Accuracy after epoch 174000: 0.80925\n",
      "Accuracy after epoch 176000: 0.79425\n",
      "Accuracy after epoch 178000: 0.79825\n",
      "Accuracy after epoch 180000: 0.79925\n",
      "Accuracy after epoch 182000: 0.7935\n",
      "Accuracy after epoch 184000: 0.76175\n",
      "Accuracy after epoch 186000: 0.787\n",
      "Accuracy after epoch 188000: 0.78825\n",
      "Accuracy after epoch 190000: 0.8035\n",
      "Accuracy after epoch 192000: 0.8035\n",
      "Accuracy after epoch 194000: 0.78875\n",
      "Accuracy after epoch 196000: 0.80425\n",
      "Accuracy after epoch 198000: 0.80825\n",
      "Accuracy after epoch 200000: 0.80075\n",
      "Accuracy after epoch 202000: 0.8105\n",
      "Accuracy after epoch 204000: 0.80725\n",
      "Accuracy after epoch 206000: 0.8005\n",
      "Accuracy after epoch 208000: 0.80075\n",
      "Accuracy after epoch 210000: 0.76925\n",
      "Accuracy after epoch 212000: 0.78825\n",
      "Accuracy after epoch 214000: 0.8095\n",
      "Accuracy after epoch 216000: 0.8125\n",
      "Accuracy after epoch 218000: 0.80375\n",
      "Accuracy after epoch 220000: 0.7935\n",
      "Accuracy after epoch 222000: 0.79925\n",
      "Accuracy after epoch 224000: 0.806\n",
      "Accuracy after epoch 226000: 0.797\n",
      "Accuracy after epoch 228000: 0.784\n",
      "Accuracy after epoch 230000: 0.7955\n",
      "Accuracy after epoch 232000: 0.80425\n",
      "Accuracy after epoch 234000: 0.81175\n",
      "Accuracy after epoch 236000: 0.79825\n",
      "Accuracy after epoch 238000: 0.7835\n",
      "Accuracy after epoch 240000: 0.7975\n",
      "Accuracy after epoch 242000: 0.802\n",
      "Accuracy after epoch 244000: 0.79525\n",
      "Accuracy after epoch 246000: 0.79675\n",
      "Accuracy after epoch 248000: 0.805\n"
     ]
    }
   ],
   "source": [
    "# trying 32 hidden units. rests are same premises as 10 units run\n",
    "hwl_mlp_32 = mlp.MLP(training_X, training_y, 32)\n",
    "\n",
    "# data loss is calcuated on training set\n",
    "# accuracy is calculated on testing set\n",
    "acclog,_ = hwl_mlp_32.train(batch_size=16, testset_X=testing_X, testset_y=testing_y)"
   ]
  },
  {
   "cell_type": "code",
   "execution_count": 26,
   "metadata": {
    "scrolled": true
   },
   "outputs": [
    {
     "data": {
      "text/plain": [
       "<matplotlib.text.Text at 0x7f829e5aeac8>"
      ]
     },
     "execution_count": 26,
     "metadata": {},
     "output_type": "execute_result"
    },
    {
     "data": {
      "image/png": "[encoded data removed]",
      "text/plain": [
       "<matplotlib.figure.Figure at 0x7f829e5d3cf8>"
      ]
     },
     "metadata": {},
     "output_type": "display_data"
    }
   ],
   "source": [
    "plt.plot([i[0] for i in acclog], [i[1] for i in acclog])\n",
    "plt.plot([i[0] for i in acclog], np.zeros((len(acclog), 1))+0.60)\n",
    "plt.plot([i[0] for i in acclog], np.zeros((len(acclog), 1))+0.65)\n",
    "plt.plot([i[0] for i in acclog], np.zeros((len(acclog), 1))+0.70)\n",
    "plt.plot([i[0] for i in acclog], np.zeros((len(acclog), 1))+0.75)\n",
    "plt.plot([i[0] for i in acclog], np.zeros((len(acclog), 1))+0.80)\n",
    "plt.title(\"Accuracy ~ Epoch HU size {0}, Batch size {1}\".format(32,16))"
   ]
  },
  {
   "cell_type": "markdown",
   "metadata": {},
   "source": [
    "## Ensemble\n",
    "My strategy is to train enough models, obtaining models (weight) and use a clean empty MLP object to load each of the model and predict a outcome. The voting is an average of the outcome. Finally accuracy is reported as \"ensembled\"."
   ]
  },
  {
   "cell_type": "code",
   "execution_count": 27,
   "metadata": {},
   "outputs": [
    {
     "name": "stdout",
     "output_type": "stream",
     "text": [
      "starting process model_0\n",
      "starting process model_5\n",
      "starting process model_1\n",
      "starting process model_6\n",
      "starting process model_3\n",
      "starting process model_7\n",
      "starting process model_11\n",
      "starting process model_8\n",
      "starting process model_10\n",
      "starting process model_4\n",
      "starting process model_2\n",
      "starting process model_14\n",
      "starting process model_15\n",
      "starting process model_13\n",
      "starting process model_9\n",
      "starting process model_12\n",
      "done process model_11\n",
      "done process model_8\n",
      "done process model_9\n",
      "done process model_4\n",
      "done process model_7\n",
      "done process model_10\n",
      "done process model_0\n",
      "done process model_5\n",
      "done process model_12\n",
      "done process model_15\n",
      "done process model_13\n",
      "done process model_6\n",
      "done process model_1\n",
      "done process model_14\n",
      "done process model_2\n",
      "done process model_3\n"
     ]
    }
   ],
   "source": [
    "import multiprocessing as mp\n",
    "\n",
    "# Using half the cores as jobs\n",
    "n_jobs = int(mp.cpu_count()/2)\n",
    "\n",
    "\n",
    "names = [\"model_{0}\".format(i) for i in range(n_jobs)]\n",
    "\n",
    "def performTraining(i):\n",
    "    print('starting process', names[i])\n",
    "\n",
    "    hwl_mlp_32 = mlp.MLP(training_X, training_y, 32, rand_seed=i) # random seed\n",
    "    hwl_mlp_32.train(batch_size=16)\n",
    "    hwl_mlp_32.save_model(names[i])\n",
    "    \n",
    "    print('done process', names[i])\n",
    "\n",
    "with mp.Pool(n_jobs) as p:\n",
    "    p.map(performTraining, range(n_jobs))\n",
    "\n",
    "import time\n",
    "time.sleep(2)"
   ]
  },
  {
   "cell_type": "code",
   "execution_count": 29,
   "metadata": {},
   "outputs": [
    {
     "name": "stdout",
     "output_type": "stream",
     "text": [
      "Ensemble accuracy: 0.886\n"
     ]
    }
   ],
   "source": [
    "\n",
    "test_model = mlp.MLP(training_X, training_y, 32)\n",
    "\n",
    "# naiive average predictions\n",
    "ensemble = np.ndarray(shape=(testing_y.shape[0], testing_y.shape[1]))\n",
    "for i, model in enumerate(names):\n",
    "    test_model.load_model(model)\n",
    "    predicted = test_model.predict(testing_X, naiive_ensemble=True)\n",
    "#     print(predicted)\n",
    "    ensemble += predicted\n",
    "ensemble /= n_jobs\n",
    "ensemble_prediction = np.argmax(ensemble, axis=1)\n",
    "x_len = testing_X.shape[0]\n",
    "correct_prediction = [\n",
    "    target[ensemble_prediction[row_id]]\n",
    "    for row_id, target in enumerate(testing_y)\n",
    "]\n",
    "acc = sum(correct_prediction) / x_len\n",
    "print(\"Ensemble accuracy: {0}\".format(acc))"
   ]
  },
  {
   "cell_type": "markdown",
   "metadata": {},
   "source": [
    "### Hooray!"
   ]
  }
 ],
 "metadata": {
  "kernelspec": {
   "display_name": "Python 3",
   "language": "python",
   "name": "python3"
  },
  "language_info": {
   "codemirror_mode": {
    "name": "ipython",
    "version": 3
   },
   "file_extension": ".py",
   "mimetype": "text/x-python",
   "name": "python",
   "nbconvert_exporter": "python",
   "pygments_lexer": "ipython3",
   "version": "3.6.0"
  }
 },
 "nbformat": 4,
 "nbformat_minor": 2
}
