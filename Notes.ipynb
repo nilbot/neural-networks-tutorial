{
 "cells": [
  {
   "cell_type": "markdown",
   "metadata": {
    "deletable": true,
    "editable": true
   },
   "source": [
    "# Preface\n",
    "My occupation is wizard: I wave my magic wand and shit happens. \n",
    "> We are about to talk about study the idea of a computational process. Computational processes are abstract beings that inhabit computers. As they evolve, processes manipulate other abstract things called data. The evolution of a process is directed by a pattern of rules called a program. People create programs to direct processes. In effect, we conjure the spirits of the computer with our spells.\n",
    "\n",
    "One of the factions in Hogwarts pushes the agenda of embracing computational process that emulates human brain and saught to obtain the oracle of solving complex problems which other factions struggled to solve. The protagonist faction in this book calls themselves Connectionists, and this is the story of connectionsm."
   ]
  },
  {
   "cell_type": "code",
   "execution_count": 1,
   "metadata": {
    "collapsed": true,
    "deletable": true,
    "editable": true
   },
   "outputs": [],
   "source": [
    "import matplotlib\n",
    "import matplotlib.pyplot as plt\n",
    "matplotlib.style.use('ggplot')\n",
    "%matplotlib inline\n",
    "import numpy as np\n",
    "\n",
    "# source file mlp.py\n",
    "import mlp"
   ]
  },
  {
   "cell_type": "markdown",
   "metadata": {
    "deletable": true,
    "editable": true
   },
   "source": [
    "## Multi-layer perceptrons\n",
    "\n",
    "- 3 layer architecture\n",
    "- feed forward\n",
    "- backpropagate for gradient descent\n",
    "- update _once_ every epoch, not during sample loop\n",
    "- training testing split, testing set untouchable\n",
    "- mini batch gradient descent for hand-written letter\n"
   ]
  },
  {
   "cell_type": "code",
   "execution_count": 2,
   "metadata": {
    "collapsed": true,
    "deletable": true,
    "editable": true
   },
   "outputs": [],
   "source": [
    "xor_X,xor_y = mlp.get_Xor_data()"
   ]
  },
  {
   "cell_type": "code",
   "execution_count": 3,
   "metadata": {
    "collapsed": false,
    "deletable": true,
    "editable": true
   },
   "outputs": [
    {
     "data": {
      "text/plain": [
       "<matplotlib.collections.PathCollection at 0x10825e8d0>"
      ]
     },
     "execution_count": 3,
     "metadata": {},
     "output_type": "execute_result"
    },
    {
     "data": {
      "image/png": "[encoded data removed]",
      "text/plain": [
       "<matplotlib.figure.Figure at 0x1081cd240>"
      ]
     },
     "metadata": {},
     "output_type": "display_data"
    }
   ],
   "source": [
    "plt.scatter(xor_X[:,0],xor_X[:,1], c=xor_y[:,1], cmap=plt.cm.Spectral)"
   ]
  },
  {
   "cell_type": "code",
   "execution_count": 4,
   "metadata": {
    "collapsed": false,
    "deletable": true,
    "editable": true
   },
   "outputs": [],
   "source": [
    "# 2 hidden unit MLP for XOR demonstration\n",
    "xor_mlp_2 = mlp.MLP(xor_X, xor_y, 2)"
   ]
  },
  {
   "cell_type": "code",
   "execution_count": 5,
   "metadata": {
    "collapsed": false,
    "deletable": true,
    "editable": true
   },
   "outputs": [
    {
     "name": "stdout",
     "output_type": "stream",
     "text": [
      "Data loss (cross entropy) after epoch 0: 0.6861598242933123\n",
      "Data loss (cross entropy) after epoch 2000: 0.5028045648406304\n",
      "Data loss (cross entropy) after epoch 4000: 0.4788524896088624\n",
      "Data loss (cross entropy) after epoch 6000: 0.030596319443061536\n",
      "Data loss (cross entropy) after epoch 8000: 0.012764644071794779\n",
      "Data loss (cross entropy) after epoch 10000: 0.007943765071568059\n",
      "Data loss (cross entropy) after epoch 12000: 0.005736992837964628\n",
      "Data loss (cross entropy) after epoch 14000: 0.004479064073832158\n",
      "Data loss (cross entropy) after epoch 16000: 0.003668658218050916\n",
      "Data loss (cross entropy) after epoch 18000: 0.0031039719089720483\n",
      "Data loss (cross entropy) after epoch 20000: 0.0026884077996359853\n",
      "Data loss (cross entropy) after epoch 22000: 0.0023700195106840447\n",
      "Data loss (cross entropy) after epoch 24000: 0.002118422822539804\n",
      "Data loss (cross entropy) after epoch 26000: 0.0019146763676030475\n",
      "Data loss (cross entropy) after epoch 28000: 0.0017463663143026439\n",
      "Data loss (cross entropy) after epoch 30000: 0.0016050216432716734\n",
      "Data loss (cross entropy) after epoch 32000: 0.00148466620112545\n",
      "Data loss (cross entropy) after epoch 34000: 0.0013809645266173176\n",
      "Data loss (cross entropy) after epoch 36000: 0.0012906957642745307\n",
      "Data loss (cross entropy) after epoch 38000: 0.0012114176017549538\n",
      "Data loss (cross entropy) after epoch 40000: 0.0011412447617366755\n",
      "Data loss (cross entropy) after epoch 42000: 0.0010786989748629188\n",
      "Data loss (cross entropy) after epoch 44000: 0.001022604915620199\n",
      "Data loss (cross entropy) after epoch 46000: 0.0009720164829701144\n",
      "Data loss (cross entropy) after epoch 48000: 0.0009261635884878748\n",
      "Data loss (cross entropy) after epoch 50000: 0.0008844130960264844\n",
      "Data loss (cross entropy) after epoch 52000: 0.0008462397115604136\n",
      "Data loss (cross entropy) after epoch 54000: 0.0008112039885691914\n",
      "Data loss (cross entropy) after epoch 56000: 0.0007789355006264122\n",
      "Data loss (cross entropy) after epoch 58000: 0.0007491198192702147\n",
      "Data loss (cross entropy) after epoch 60000: 0.0007214883303672462\n",
      "Data loss (cross entropy) after epoch 62000: 0.0006958101929182116\n",
      "Data loss (cross entropy) after epoch 64000: 0.0006718859326152524\n",
      "Data loss (cross entropy) after epoch 66000: 0.0006495422953810919\n",
      "Data loss (cross entropy) after epoch 68000: 0.000628628081146681\n",
      "Data loss (cross entropy) after epoch 70000: 0.0006090107468857211\n",
      "Data loss (cross entropy) after epoch 72000: 0.0005905736182488503\n",
      "Data loss (cross entropy) after epoch 74000: 0.0005732135863576629\n",
      "Data loss (cross entropy) after epoch 76000: 0.0005568391941085794\n",
      "Data loss (cross entropy) after epoch 78000: 0.0005413690372909601\n",
      "Data loss (cross entropy) after epoch 80000: 0.0005267304217483582\n",
      "Data loss (cross entropy) after epoch 82000: 0.0005128582300176961\n",
      "Data loss (cross entropy) after epoch 84000: 0.0004996939603124389\n",
      "Data loss (cross entropy) after epoch 86000: 0.00048718490804815315\n",
      "Data loss (cross entropy) after epoch 88000: 0.00047528346585292797\n",
      "Data loss (cross entropy) after epoch 90000: 0.0004639465225354385\n",
      "Data loss (cross entropy) after epoch 92000: 0.000453134945074419\n",
      "Data loss (cross entropy) after epoch 94000: 0.0004428131305588575\n",
      "Data loss (cross entropy) after epoch 96000: 0.0004329486173075407\n",
      "Data loss (cross entropy) after epoch 98000: 0.0004235117462505019\n",
      "Data loss (cross entropy) after epoch 100000: 0.00041447536515751195\n",
      "Data loss (cross entropy) after epoch 102000: 0.00040581456952187064\n",
      "Data loss (cross entropy) after epoch 104000: 0.00039750647491128207\n",
      "Data loss (cross entropy) after epoch 106000: 0.0003895300164163779\n",
      "Data loss (cross entropy) after epoch 108000: 0.0003818657715108656\n",
      "Data loss (cross entropy) after epoch 110000: 0.0003744958031964685\n",
      "Data loss (cross entropy) after epoch 112000: 0.00036740352077493433\n",
      "Data loss (cross entropy) after epoch 114000: 0.00036057355597964074\n",
      "Data loss (cross entropy) after epoch 116000: 0.00035399165252754774\n",
      "Data loss (cross entropy) after epoch 118000: 0.0003476445674247638\n",
      "Data loss (cross entropy) after epoch 120000: 0.0003415199825936488\n",
      "Data loss (cross entropy) after epoch 122000: 0.00033560642558390385\n",
      "Data loss (cross entropy) after epoch 124000: 0.0003298931982974565\n",
      "Data loss (cross entropy) after epoch 126000: 0.00032437031279799566\n",
      "Data loss (cross entropy) after epoch 128000: 0.00031902843339762124\n",
      "Data loss (cross entropy) after epoch 130000: 0.0003138588243162192\n",
      "Data loss (cross entropy) after epoch 132000: 0.00030885330229830335\n",
      "Data loss (cross entropy) after epoch 134000: 0.0003040041936476826\n",
      "Data loss (cross entropy) after epoch 136000: 0.00029930429520817065\n",
      "Data loss (cross entropy) after epoch 138000: 0.00029474683887290297\n",
      "Data loss (cross entropy) after epoch 140000: 0.00029032545925611574\n",
      "Data loss (cross entropy) after epoch 142000: 0.0002860341642044324\n",
      "Data loss (cross entropy) after epoch 144000: 0.00028186730785890405\n",
      "Data loss (cross entropy) after epoch 146000: 0.0002778195660169252\n",
      "Data loss (cross entropy) after epoch 148000: 0.0002738859135659195\n",
      "Data loss (cross entropy) after epoch 150000: 0.00027006160378989985\n",
      "Data loss (cross entropy) after epoch 152000: 0.0002663421493691823\n",
      "Data loss (cross entropy) after epoch 154000: 0.00026272330491472\n",
      "Data loss (cross entropy) after epoch 156000: 0.00025920105089413323\n",
      "Data loss (cross entropy) after epoch 158000: 0.0002557715788208078\n",
      "Data loss (cross entropy) after epoch 160000: 0.00025243127759393293\n",
      "Data loss (cross entropy) after epoch 162000: 0.00024917672088458313\n",
      "Data loss (cross entropy) after epoch 164000: 0.00024600465547625685\n",
      "Data loss (cross entropy) after epoch 166000: 0.00024291199047751086\n",
      "Data loss (cross entropy) after epoch 168000: 0.00023989578732983567\n",
      "Data loss (cross entropy) after epoch 170000: 0.00023695325054505587\n",
      "Data loss (cross entropy) after epoch 172000: 0.0002340817191095451\n",
      "Data loss (cross entropy) after epoch 174000: 0.00023127865850115656\n",
      "Data loss (cross entropy) after epoch 176000: 0.0002285416532664132\n",
      "Data loss (cross entropy) after epoch 178000: 0.00022586840011605585\n",
      "Data loss (cross entropy) after epoch 180000: 0.00022325670149333086\n",
      "Data loss (cross entropy) after epoch 182000: 0.00022070445958100737\n",
      "Data loss (cross entropy) after epoch 184000: 0.00021820967071036835\n",
      "Data loss (cross entropy) after epoch 186000: 0.00021577042014222467\n",
      "Data loss (cross entropy) after epoch 188000: 0.00021338487719097454\n",
      "Data loss (cross entropy) after epoch 190000: 0.0002110512906662595\n",
      "Data loss (cross entropy) after epoch 192000: 0.00020876798460718629\n",
      "Data loss (cross entropy) after epoch 194000: 0.00020653335428863782\n",
      "Data loss (cross entropy) after epoch 196000: 0.0002043458624791436\n",
      "Data loss (cross entropy) after epoch 198000: 0.0002022040359323347\n",
      "Data loss (cross entropy) after epoch 200000: 0.0002001064620937877\n",
      "Data loss (cross entropy) after epoch 202000: 0.00019805178601061535\n",
      "Data loss (cross entropy) after epoch 204000: 0.00019603870742674844\n",
      "Data loss (cross entropy) after epoch 206000: 0.000194065978052741\n",
      "Data loss (cross entropy) after epoch 208000: 0.00019213239899695827\n",
      "Data loss (cross entropy) after epoch 210000: 0.0001902368183479802\n",
      "Data loss (cross entropy) after epoch 212000: 0.0001883781288973037\n",
      "Data loss (cross entropy) after epoch 214000: 0.00018655526599317609\n",
      "Data loss (cross entropy) after epoch 216000: 0.00018476720551692026\n",
      "Data loss (cross entropy) after epoch 218000: 0.00018301296197372364\n",
      "Data loss (cross entropy) after epoch 220000: 0.0001812915866897526\n",
      "Data loss (cross entropy) after epoch 222000: 0.0001796021661097296\n",
      "Data loss (cross entropy) after epoch 224000: 0.00017794382018827983\n",
      "Data loss (cross entropy) after epoch 226000: 0.0001763157008679911\n",
      "Data loss (cross entropy) after epoch 228000: 0.00017471699064046517\n",
      "Data loss (cross entropy) after epoch 230000: 0.0001731469011839711\n",
      "Data loss (cross entropy) after epoch 232000: 0.0001716046720733681\n",
      "Data loss (cross entropy) after epoch 234000: 0.00017008956955743656\n",
      "Data loss (cross entropy) after epoch 236000: 0.00016860088540097788\n",
      "Data loss (cross entropy) after epoch 238000: 0.00016713793578537918\n",
      "Data loss (cross entropy) after epoch 240000: 0.0001657000602662526\n",
      "Data loss (cross entropy) after epoch 242000: 0.00016428662078434448\n",
      "Data loss (cross entropy) after epoch 244000: 0.00016289700072488192\n",
      "Data loss (cross entropy) after epoch 246000: 0.0001615306040256609\n",
      "Data loss (cross entropy) after epoch 248000: 0.00016018685432779453\n"
     ]
    }
   ],
   "source": [
    "xor_mlp_2.train(print_loss=True)"
   ]
  },
  {
   "cell_type": "code",
   "execution_count": 6,
   "metadata": {
    "collapsed": true,
    "deletable": true,
    "editable": true
   },
   "outputs": [],
   "source": [
    "def plot_xor_decision_boundary(pred_func):\n",
    "    # Set min and max values and give it some padding\n",
    "    x_min, x_max = xor_X[:, 0].min() - .5, xor_X[:, 0].max() + .5\n",
    "    y_min, y_max = xor_X[:, 1].min() - .5, xor_X[:, 1].max() + .5\n",
    "    h = 0.01\n",
    "    # Generate a grid of points with distance h between them\n",
    "    xx, yy = np.meshgrid(np.arange(x_min, x_max, h), np.arange(y_min, y_max, h))\n",
    "    # Predict the function value for the whole gid\n",
    "    Z = pred_func(np.c_[xx.ravel(), yy.ravel()])\n",
    "    Z = Z.reshape(xx.shape)\n",
    "    # Plot the contour and training examples\n",
    "    plt.contourf(xx, yy, Z, cmap=plt.cm.Spectral)\n",
    "    plt.scatter(xor_X[:,0],xor_X[:,1], c=xor_y[:,1], cmap=plt.cm.Spectral)"
   ]
  },
  {
   "cell_type": "code",
   "execution_count": 7,
   "metadata": {
    "collapsed": false,
    "deletable": true,
    "editable": true
   },
   "outputs": [
    {
     "data": {
      "text/plain": [
       "<matplotlib.text.Text at 0x10ad3a320>"
      ]
     },
     "execution_count": 7,
     "metadata": {},
     "output_type": "execute_result"
    },
    {
     "data": {
      "image/png": "[encoded data removed]",
      "text/plain": [
       "<matplotlib.figure.Figure at 0x10820eda0>"
      ]
     },
     "metadata": {},
     "output_type": "display_data"
    }
   ],
   "source": [
    "plot_xor_decision_boundary(lambda x: xor_mlp_2.predict(x))\n",
    "plt.title(\"XOR decision boundary for HU size {0}\".format(2))"
   ]
  },
  {
   "cell_type": "code",
   "execution_count": 8,
   "metadata": {
    "collapsed": false,
    "deletable": true,
    "editable": true
   },
   "outputs": [
    {
     "data": {
      "text/plain": [
       "<matplotlib.text.Text at 0x10cdd3278>"
      ]
     },
     "execution_count": 8,
     "metadata": {},
     "output_type": "execute_result"
    },
    {
     "data": {
      "image/png": "[encoded data removed]",
      "text/plain": [
       "<matplotlib.figure.Figure at 0x108219048>"
      ]
     },
     "metadata": {},
     "output_type": "display_data"
    }
   ],
   "source": [
    "xor_mlp_3 = mlp.MLP(xor_X, xor_y, 3)\n",
    "xor_mlp_3.train()\n",
    "plot_xor_decision_boundary(lambda x: xor_mlp_3.predict(x))\n",
    "plt.title(\"XOR decision boundary for HU size {0}\".format(3))"
   ]
  },
  {
   "cell_type": "markdown",
   "metadata": {
    "deletable": true,
    "editable": true
   },
   "source": [
    "## Exceptional :)\n",
    "- 16 attribute\n",
    "- A-Z as classes\n",
    "- 20000 samples\n",
    "- 80% split (recommended)\n",
    "- 10 hidden units (recommended)"
   ]
  },
  {
   "cell_type": "code",
   "execution_count": 9,
   "metadata": {
    "collapsed": false,
    "deletable": true,
    "editable": true
   },
   "outputs": [
    {
     "name": "stdout",
     "output_type": "stream",
     "text": [
      "shape (20000, 17)\n"
     ]
    },
    {
     "data": {
      "text/html": [
       "<div>\n",
       "<table border=\"1\" class=\"dataframe\">\n",
       "  <thead>\n",
       "    <tr style=\"text-align: right;\">\n",
       "      <th></th>\n",
       "      <th>0</th>\n",
       "      <th>1</th>\n",
       "      <th>2</th>\n",
       "      <th>3</th>\n",
       "      <th>4</th>\n",
       "      <th>5</th>\n",
       "      <th>6</th>\n",
       "      <th>7</th>\n",
       "      <th>8</th>\n",
       "      <th>9</th>\n",
       "      <th>10</th>\n",
       "      <th>11</th>\n",
       "      <th>12</th>\n",
       "      <th>13</th>\n",
       "      <th>14</th>\n",
       "      <th>15</th>\n",
       "      <th>16</th>\n",
       "    </tr>\n",
       "  </thead>\n",
       "  <tbody>\n",
       "    <tr>\n",
       "      <th>0</th>\n",
       "      <td>T</td>\n",
       "      <td>2</td>\n",
       "      <td>8</td>\n",
       "      <td>3</td>\n",
       "      <td>5</td>\n",
       "      <td>1</td>\n",
       "      <td>8</td>\n",
       "      <td>13</td>\n",
       "      <td>0</td>\n",
       "      <td>6</td>\n",
       "      <td>6</td>\n",
       "      <td>10</td>\n",
       "      <td>8</td>\n",
       "      <td>0</td>\n",
       "      <td>8</td>\n",
       "      <td>0</td>\n",
       "      <td>8</td>\n",
       "    </tr>\n",
       "    <tr>\n",
       "      <th>1</th>\n",
       "      <td>I</td>\n",
       "      <td>5</td>\n",
       "      <td>12</td>\n",
       "      <td>3</td>\n",
       "      <td>7</td>\n",
       "      <td>2</td>\n",
       "      <td>10</td>\n",
       "      <td>5</td>\n",
       "      <td>5</td>\n",
       "      <td>4</td>\n",
       "      <td>13</td>\n",
       "      <td>3</td>\n",
       "      <td>9</td>\n",
       "      <td>2</td>\n",
       "      <td>8</td>\n",
       "      <td>4</td>\n",
       "      <td>10</td>\n",
       "    </tr>\n",
       "    <tr>\n",
       "      <th>2</th>\n",
       "      <td>D</td>\n",
       "      <td>4</td>\n",
       "      <td>11</td>\n",
       "      <td>6</td>\n",
       "      <td>8</td>\n",
       "      <td>6</td>\n",
       "      <td>10</td>\n",
       "      <td>6</td>\n",
       "      <td>2</td>\n",
       "      <td>6</td>\n",
       "      <td>10</td>\n",
       "      <td>3</td>\n",
       "      <td>7</td>\n",
       "      <td>3</td>\n",
       "      <td>7</td>\n",
       "      <td>3</td>\n",
       "      <td>9</td>\n",
       "    </tr>\n",
       "    <tr>\n",
       "      <th>3</th>\n",
       "      <td>N</td>\n",
       "      <td>7</td>\n",
       "      <td>11</td>\n",
       "      <td>6</td>\n",
       "      <td>6</td>\n",
       "      <td>3</td>\n",
       "      <td>5</td>\n",
       "      <td>9</td>\n",
       "      <td>4</td>\n",
       "      <td>6</td>\n",
       "      <td>4</td>\n",
       "      <td>4</td>\n",
       "      <td>10</td>\n",
       "      <td>6</td>\n",
       "      <td>10</td>\n",
       "      <td>2</td>\n",
       "      <td>8</td>\n",
       "    </tr>\n",
       "    <tr>\n",
       "      <th>4</th>\n",
       "      <td>G</td>\n",
       "      <td>2</td>\n",
       "      <td>1</td>\n",
       "      <td>3</td>\n",
       "      <td>1</td>\n",
       "      <td>1</td>\n",
       "      <td>8</td>\n",
       "      <td>6</td>\n",
       "      <td>6</td>\n",
       "      <td>6</td>\n",
       "      <td>6</td>\n",
       "      <td>5</td>\n",
       "      <td>9</td>\n",
       "      <td>1</td>\n",
       "      <td>7</td>\n",
       "      <td>5</td>\n",
       "      <td>10</td>\n",
       "    </tr>\n",
       "  </tbody>\n",
       "</table>\n",
       "</div>"
      ],
      "text/plain": [
       "  0   1   2   3   4   5   6   7   8   9   10  11  12  13  14  15  16\n",
       "0  T   2   8   3   5   1   8  13   0   6   6  10   8   0   8   0   8\n",
       "1  I   5  12   3   7   2  10   5   5   4  13   3   9   2   8   4  10\n",
       "2  D   4  11   6   8   6  10   6   2   6  10   3   7   3   7   3   9\n",
       "3  N   7  11   6   6   3   5   9   4   6   4   4  10   6  10   2   8\n",
       "4  G   2   1   3   1   1   8   6   6   6   6   5   9   1   7   5  10"
      ]
     },
     "execution_count": 9,
     "metadata": {},
     "output_type": "execute_result"
    }
   ],
   "source": [
    "import pandas as pd # only for csv reading, no other usage, i swear :)\n",
    "dataset = pd.read_csv('letter-recognition.data',delimiter=',',header=None)\n",
    "print(\"shape {0}\".format(dataset.shape))\n",
    "dataset.head()"
   ]
  },
  {
   "cell_type": "code",
   "execution_count": 10,
   "metadata": {
    "collapsed": false,
    "deletable": true,
    "editable": true
   },
   "outputs": [],
   "source": [
    "hwl_X, hwl_y= mlp.get_Hwl_data()"
   ]
  },
  {
   "cell_type": "code",
   "execution_count": 11,
   "metadata": {
    "collapsed": true,
    "deletable": true,
    "editable": true
   },
   "outputs": [],
   "source": [
    "training_X, training_y, testing_X, testing_y = mlp.get_data_split(hwl_X, hwl_y, 0.8)"
   ]
  },
  {
   "cell_type": "code",
   "execution_count": 12,
   "metadata": {
    "collapsed": false,
    "deletable": true,
    "editable": true
   },
   "outputs": [
    {
     "data": {
      "text/plain": [
       "16000"
      ]
     },
     "execution_count": 12,
     "metadata": {},
     "output_type": "execute_result"
    }
   ],
   "source": [
    "training_X.shape[0]"
   ]
  },
  {
   "cell_type": "code",
   "execution_count": 13,
   "metadata": {
    "collapsed": false,
    "deletable": true,
    "editable": true
   },
   "outputs": [],
   "source": [
    "# recommended 10 hidden units\n",
    "hwl_mlp_10 = mlp.MLP(training_X, training_y, 10)"
   ]
  },
  {
   "cell_type": "code",
   "execution_count": 14,
   "metadata": {
    "collapsed": false,
    "deletable": true,
    "editable": true
   },
   "outputs": [
    {
     "name": "stdout",
     "output_type": "stream",
     "text": [
      "Accuracy after epoch 0: 0.051%\n",
      "Accuracy after epoch 2000: 0.483%\n",
      "Accuracy after epoch 4000: 0.527%\n",
      "Accuracy after epoch 6000: 0.53525%\n",
      "Accuracy after epoch 8000: 0.58675%\n",
      "Accuracy after epoch 10000: 0.572%\n",
      "Accuracy after epoch 12000: 0.5805%\n",
      "Accuracy after epoch 14000: 0.6115%\n",
      "Accuracy after epoch 16000: 0.59725%\n",
      "Accuracy after epoch 18000: 0.6305%\n",
      "Accuracy after epoch 20000: 0.617%\n",
      "Accuracy after epoch 22000: 0.63775%\n",
      "Accuracy after epoch 24000: 0.62675%\n",
      "Accuracy after epoch 26000: 0.594%\n",
      "Accuracy after epoch 28000: 0.651%\n",
      "Accuracy after epoch 30000: 0.596%\n",
      "Accuracy after epoch 32000: 0.6195%\n",
      "Accuracy after epoch 34000: 0.63575%\n",
      "Accuracy after epoch 36000: 0.6035%\n",
      "Accuracy after epoch 38000: 0.65875%\n",
      "Accuracy after epoch 40000: 0.60675%\n",
      "Accuracy after epoch 42000: 0.615%\n",
      "Accuracy after epoch 44000: 0.61725%\n",
      "Accuracy after epoch 46000: 0.64475%\n",
      "Accuracy after epoch 48000: 0.64625%\n",
      "Accuracy after epoch 50000: 0.61475%\n",
      "Accuracy after epoch 52000: 0.62975%\n",
      "Accuracy after epoch 54000: 0.60175%\n",
      "Accuracy after epoch 56000: 0.6415%\n",
      "Accuracy after epoch 58000: 0.61725%\n",
      "Accuracy after epoch 60000: 0.63925%\n",
      "Accuracy after epoch 62000: 0.59675%\n",
      "Accuracy after epoch 64000: 0.656%\n",
      "Accuracy after epoch 66000: 0.6185%\n",
      "Accuracy after epoch 68000: 0.6315%\n",
      "Accuracy after epoch 70000: 0.645%\n",
      "Accuracy after epoch 72000: 0.6245%\n",
      "Accuracy after epoch 74000: 0.65%\n",
      "Accuracy after epoch 76000: 0.611%\n",
      "Accuracy after epoch 78000: 0.6395%\n",
      "Accuracy after epoch 80000: 0.64275%\n",
      "Accuracy after epoch 82000: 0.64825%\n",
      "Accuracy after epoch 84000: 0.6365%\n",
      "Accuracy after epoch 86000: 0.62775%\n",
      "Accuracy after epoch 88000: 0.65%\n",
      "Accuracy after epoch 90000: 0.654%\n",
      "Accuracy after epoch 92000: 0.62975%\n",
      "Accuracy after epoch 94000: 0.62375%\n",
      "Accuracy after epoch 96000: 0.61375%\n",
      "Accuracy after epoch 98000: 0.6525%\n",
      "Accuracy after epoch 100000: 0.6505%\n",
      "Accuracy after epoch 102000: 0.638%\n",
      "Accuracy after epoch 104000: 0.6445%\n",
      "Accuracy after epoch 106000: 0.629%\n",
      "Accuracy after epoch 108000: 0.659%\n",
      "Accuracy after epoch 110000: 0.65%\n",
      "Accuracy after epoch 112000: 0.6475%\n",
      "Accuracy after epoch 114000: 0.63425%\n",
      "Accuracy after epoch 116000: 0.64425%\n",
      "Accuracy after epoch 118000: 0.62875%\n",
      "Accuracy after epoch 120000: 0.63975%\n",
      "Accuracy after epoch 122000: 0.64475%\n",
      "Accuracy after epoch 124000: 0.63875%\n",
      "Accuracy after epoch 126000: 0.6565%\n",
      "Accuracy after epoch 128000: 0.644%\n",
      "Accuracy after epoch 130000: 0.65025%\n",
      "Accuracy after epoch 132000: 0.6405%\n",
      "Accuracy after epoch 134000: 0.653%\n",
      "Accuracy after epoch 136000: 0.64975%\n",
      "Accuracy after epoch 138000: 0.632%\n",
      "Accuracy after epoch 140000: 0.639%\n",
      "Accuracy after epoch 142000: 0.653%\n",
      "Accuracy after epoch 144000: 0.6425%\n",
      "Accuracy after epoch 146000: 0.654%\n",
      "Accuracy after epoch 148000: 0.624%\n",
      "Accuracy after epoch 150000: 0.62425%\n",
      "Accuracy after epoch 152000: 0.649%\n",
      "Accuracy after epoch 154000: 0.636%\n",
      "Accuracy after epoch 156000: 0.63925%\n",
      "Accuracy after epoch 158000: 0.66%\n",
      "Accuracy after epoch 160000: 0.64575%\n",
      "Accuracy after epoch 162000: 0.64225%\n",
      "Accuracy after epoch 164000: 0.6575%\n",
      "Accuracy after epoch 166000: 0.66725%\n",
      "Accuracy after epoch 168000: 0.6575%\n",
      "Accuracy after epoch 170000: 0.6375%\n",
      "Accuracy after epoch 172000: 0.6615%\n",
      "Accuracy after epoch 174000: 0.641%\n",
      "Accuracy after epoch 176000: 0.6535%\n",
      "Accuracy after epoch 178000: 0.658%\n",
      "Accuracy after epoch 180000: 0.643%\n",
      "Accuracy after epoch 182000: 0.65925%\n",
      "Accuracy after epoch 184000: 0.65275%\n",
      "Accuracy after epoch 186000: 0.6565%\n",
      "Accuracy after epoch 188000: 0.64725%\n",
      "Accuracy after epoch 190000: 0.6325%\n",
      "Accuracy after epoch 192000: 0.66775%\n",
      "Accuracy after epoch 194000: 0.66025%\n",
      "Accuracy after epoch 196000: 0.64775%\n",
      "Accuracy after epoch 198000: 0.66125%\n",
      "Accuracy after epoch 200000: 0.631%\n",
      "Accuracy after epoch 202000: 0.6515%\n",
      "Accuracy after epoch 204000: 0.64475%\n",
      "Accuracy after epoch 206000: 0.63775%\n",
      "Accuracy after epoch 208000: 0.6595%\n",
      "Accuracy after epoch 210000: 0.6325%\n",
      "Accuracy after epoch 212000: 0.64225%\n",
      "Accuracy after epoch 214000: 0.64825%\n",
      "Accuracy after epoch 216000: 0.66625%\n",
      "Accuracy after epoch 218000: 0.655%\n",
      "Accuracy after epoch 220000: 0.64825%\n",
      "Accuracy after epoch 222000: 0.64425%\n",
      "Accuracy after epoch 224000: 0.651%\n",
      "Accuracy after epoch 226000: 0.65625%\n",
      "Accuracy after epoch 228000: 0.663%\n",
      "Accuracy after epoch 230000: 0.65325%\n",
      "Accuracy after epoch 232000: 0.6445%\n",
      "Accuracy after epoch 234000: 0.6585%\n",
      "Accuracy after epoch 236000: 0.6455%\n",
      "Accuracy after epoch 238000: 0.655%\n",
      "Accuracy after epoch 240000: 0.63125%\n",
      "Accuracy after epoch 242000: 0.65475%\n",
      "Accuracy after epoch 244000: 0.643%\n",
      "Accuracy after epoch 246000: 0.661%\n",
      "Accuracy after epoch 248000: 0.665%\n"
     ]
    }
   ],
   "source": [
    "# train using mini batch, batch size 16 (2^4 for cache friendliness, my laptop is poor)\n",
    "hwl_mlp_10.minibatch_train(batch_size=16, testset_X=testing_X, testset_y=testing_y)"
   ]
  },
  {
   "cell_type": "code",
   "execution_count": 17,
   "metadata": {
    "collapsed": false,
    "deletable": true,
    "editable": true
   },
   "outputs": [
    {
     "name": "stdout",
     "output_type": "stream",
     "text": [
      "Accuracy after epoch 0: 0.05175%\n",
      "Accuracy after epoch 2000: 0.518%\n",
      "Accuracy after epoch 4000: 0.6235%\n",
      "Accuracy after epoch 6000: 0.5945%\n",
      "Accuracy after epoch 8000: 0.663%\n",
      "Accuracy after epoch 10000: 0.64325%\n",
      "Accuracy after epoch 12000: 0.6715%\n",
      "Accuracy after epoch 14000: 0.68375%\n",
      "Accuracy after epoch 16000: 0.69275%\n",
      "Accuracy after epoch 18000: 0.687%\n",
      "Accuracy after epoch 20000: 0.664%\n",
      "Accuracy after epoch 22000: 0.71175%\n",
      "Accuracy after epoch 24000: 0.7035%\n",
      "Accuracy after epoch 26000: 0.70375%\n",
      "Accuracy after epoch 28000: 0.6955%\n",
      "Accuracy after epoch 30000: 0.7105%\n",
      "Accuracy after epoch 32000: 0.693%\n",
      "Accuracy after epoch 34000: 0.67875%\n",
      "Accuracy after epoch 36000: 0.6645%\n",
      "Accuracy after epoch 38000: 0.6865%\n",
      "Accuracy after epoch 40000: 0.708%\n",
      "Accuracy after epoch 42000: 0.6895%\n",
      "Accuracy after epoch 44000: 0.716%\n",
      "Accuracy after epoch 46000: 0.68275%\n",
      "Accuracy after epoch 48000: 0.70325%\n",
      "Accuracy after epoch 50000: 0.69175%\n",
      "Accuracy after epoch 52000: 0.69175%\n",
      "Accuracy after epoch 54000: 0.715%\n",
      "Accuracy after epoch 56000: 0.6955%\n",
      "Accuracy after epoch 58000: 0.69375%\n",
      "Accuracy after epoch 60000: 0.69925%\n",
      "Accuracy after epoch 62000: 0.69275%\n",
      "Accuracy after epoch 64000: 0.693%\n",
      "Accuracy after epoch 66000: 0.719%\n",
      "Accuracy after epoch 68000: 0.6855%\n",
      "Accuracy after epoch 70000: 0.68525%\n",
      "Accuracy after epoch 72000: 0.71175%\n",
      "Accuracy after epoch 74000: 0.697%\n",
      "Accuracy after epoch 76000: 0.6985%\n",
      "Accuracy after epoch 78000: 0.69725%\n",
      "Accuracy after epoch 80000: 0.717%\n",
      "Accuracy after epoch 82000: 0.69075%\n",
      "Accuracy after epoch 84000: 0.67825%\n",
      "Accuracy after epoch 86000: 0.71475%\n",
      "Accuracy after epoch 88000: 0.721%\n",
      "Accuracy after epoch 90000: 0.70425%\n",
      "Accuracy after epoch 92000: 0.69425%\n",
      "Accuracy after epoch 94000: 0.702%\n",
      "Accuracy after epoch 96000: 0.7%\n",
      "Accuracy after epoch 98000: 0.70875%\n",
      "Accuracy after epoch 100000: 0.69625%\n",
      "Accuracy after epoch 102000: 0.699%\n",
      "Accuracy after epoch 104000: 0.71625%\n",
      "Accuracy after epoch 106000: 0.72725%\n",
      "Accuracy after epoch 108000: 0.72875%\n",
      "Accuracy after epoch 110000: 0.6995%\n",
      "Accuracy after epoch 112000: 0.68375%\n",
      "Accuracy after epoch 114000: 0.725%\n",
      "Accuracy after epoch 116000: 0.7165%\n",
      "Accuracy after epoch 118000: 0.7225%\n",
      "Accuracy after epoch 120000: 0.7125%\n",
      "Accuracy after epoch 122000: 0.71225%\n",
      "Accuracy after epoch 124000: 0.7155%\n",
      "Accuracy after epoch 126000: 0.67925%\n",
      "Accuracy after epoch 128000: 0.72725%\n",
      "Accuracy after epoch 130000: 0.711%\n",
      "Accuracy after epoch 132000: 0.71475%\n",
      "Accuracy after epoch 134000: 0.702%\n",
      "Accuracy after epoch 136000: 0.711%\n",
      "Accuracy after epoch 138000: 0.70325%\n",
      "Accuracy after epoch 140000: 0.71275%\n",
      "Accuracy after epoch 142000: 0.71075%\n",
      "Accuracy after epoch 144000: 0.7145%\n",
      "Accuracy after epoch 146000: 0.72775%\n",
      "Accuracy after epoch 148000: 0.71625%\n",
      "Accuracy after epoch 150000: 0.723%\n",
      "Accuracy after epoch 152000: 0.69675%\n",
      "Accuracy after epoch 154000: 0.702%\n",
      "Accuracy after epoch 156000: 0.7015%\n",
      "Accuracy after epoch 158000: 0.71775%\n",
      "Accuracy after epoch 160000: 0.69275%\n",
      "Accuracy after epoch 162000: 0.704%\n",
      "Accuracy after epoch 164000: 0.6985%\n",
      "Accuracy after epoch 166000: 0.72725%\n",
      "Accuracy after epoch 168000: 0.7135%\n",
      "Accuracy after epoch 170000: 0.7185%\n",
      "Accuracy after epoch 172000: 0.7105%\n",
      "Accuracy after epoch 174000: 0.7135%\n",
      "Accuracy after epoch 176000: 0.71425%\n",
      "Accuracy after epoch 178000: 0.70875%\n",
      "Accuracy after epoch 180000: 0.71875%\n",
      "Accuracy after epoch 182000: 0.71275%\n",
      "Accuracy after epoch 184000: 0.72275%\n",
      "Accuracy after epoch 186000: 0.71725%\n",
      "Accuracy after epoch 188000: 0.72025%\n",
      "Accuracy after epoch 190000: 0.715%\n",
      "Accuracy after epoch 192000: 0.72525%\n",
      "Accuracy after epoch 194000: 0.72075%\n",
      "Accuracy after epoch 196000: 0.681%\n",
      "Accuracy after epoch 198000: 0.7065%\n",
      "Accuracy after epoch 200000: 0.7075%\n",
      "Accuracy after epoch 202000: 0.72025%\n",
      "Accuracy after epoch 204000: 0.71625%\n",
      "Accuracy after epoch 206000: 0.73525%\n",
      "Accuracy after epoch 208000: 0.709%\n",
      "Accuracy after epoch 210000: 0.696%\n",
      "Accuracy after epoch 212000: 0.71875%\n",
      "Accuracy after epoch 214000: 0.72925%\n",
      "Accuracy after epoch 216000: 0.712%\n",
      "Accuracy after epoch 218000: 0.7145%\n",
      "Accuracy after epoch 220000: 0.72875%\n",
      "Accuracy after epoch 222000: 0.71475%\n",
      "Accuracy after epoch 224000: 0.72575%\n",
      "Accuracy after epoch 226000: 0.7165%\n",
      "Accuracy after epoch 228000: 0.7115%\n",
      "Accuracy after epoch 230000: 0.7115%\n",
      "Accuracy after epoch 232000: 0.718%\n",
      "Accuracy after epoch 234000: 0.713%\n",
      "Accuracy after epoch 236000: 0.709%\n",
      "Accuracy after epoch 238000: 0.729%\n",
      "Accuracy after epoch 240000: 0.725%\n",
      "Accuracy after epoch 242000: 0.72475%\n",
      "Accuracy after epoch 244000: 0.72625%\n",
      "Accuracy after epoch 246000: 0.714%\n",
      "Accuracy after epoch 248000: 0.7215%\n"
     ]
    }
   ],
   "source": [
    "# trying 16 hidden units\n",
    "hwl_mlp_16 = mlp.MLP(training_X, training_y, 16)\n",
    "# trying 1e6 epoch, batch size 8\n",
    "hwl_mlp_16.minibatch_train(batch_size=16, testset_X=testing_X, testset_y=testing_y)"
   ]
  },
  {
   "cell_type": "code",
   "execution_count": 18,
   "metadata": {
    "collapsed": false
   },
   "outputs": [
    {
     "name": "stdout",
     "output_type": "stream",
     "text": [
      "Data loss (cross entropy) after epoch 0: 3.290627215898279\n",
      "Data loss (cross entropy) after epoch 2000: 1.5400477098137433\n",
      "Data loss (cross entropy) after epoch 4000: 1.1950027138708286\n",
      "Data loss (cross entropy) after epoch 6000: 1.3002764038528307\n",
      "Data loss (cross entropy) after epoch 8000: 1.0710184819193076\n",
      "Data loss (cross entropy) after epoch 10000: 1.1341553352054807\n",
      "Data loss (cross entropy) after epoch 12000: 1.04838863310033\n",
      "Data loss (cross entropy) after epoch 14000: 0.9927947691257802\n",
      "Data loss (cross entropy) after epoch 16000: 0.9692736067046189\n",
      "Data loss (cross entropy) after epoch 18000: 0.9809006199393273\n",
      "Data loss (cross entropy) after epoch 20000: 1.0342310758589266\n",
      "Data loss (cross entropy) after epoch 22000: 0.9269620671534684\n",
      "Data loss (cross entropy) after epoch 24000: 0.9375516136731726\n",
      "Data loss (cross entropy) after epoch 26000: 0.9596350361728085\n",
      "Data loss (cross entropy) after epoch 28000: 0.9547447200279419\n",
      "Data loss (cross entropy) after epoch 30000: 0.9178108338896291\n",
      "Data loss (cross entropy) after epoch 32000: 0.961052402729912\n",
      "Data loss (cross entropy) after epoch 34000: 0.9927276284992387\n",
      "Data loss (cross entropy) after epoch 36000: 1.0535927581612476\n",
      "Data loss (cross entropy) after epoch 38000: 0.9466192041502004\n",
      "Data loss (cross entropy) after epoch 40000: 0.9428304344102428\n",
      "Data loss (cross entropy) after epoch 42000: 0.9730044517096866\n",
      "Data loss (cross entropy) after epoch 44000: 0.9145026363040353\n",
      "Data loss (cross entropy) after epoch 46000: 0.9750192238082455\n",
      "Data loss (cross entropy) after epoch 48000: 0.9305114895494094\n",
      "Data loss (cross entropy) after epoch 50000: 0.9929912851941806\n",
      "Data loss (cross entropy) after epoch 52000: 1.0230841832839939\n",
      "Data loss (cross entropy) after epoch 54000: 0.9216951253881884\n",
      "Data loss (cross entropy) after epoch 56000: 0.9334248918301801\n",
      "Data loss (cross entropy) after epoch 58000: 0.9639002832248824\n",
      "Data loss (cross entropy) after epoch 60000: 0.9498712086763021\n",
      "Data loss (cross entropy) after epoch 62000: 0.9173306126736405\n",
      "Data loss (cross entropy) after epoch 64000: 0.9358514577242218\n",
      "Data loss (cross entropy) after epoch 66000: 0.8833438467242584\n",
      "Data loss (cross entropy) after epoch 68000: 0.9664015721882327\n",
      "Data loss (cross entropy) after epoch 70000: 0.9941525072575312\n",
      "Data loss (cross entropy) after epoch 72000: 0.9022084923031699\n",
      "Data loss (cross entropy) after epoch 74000: 0.9140363447804651\n",
      "Data loss (cross entropy) after epoch 76000: 0.9202015053136868\n",
      "Data loss (cross entropy) after epoch 78000: 0.9174001165267033\n",
      "Data loss (cross entropy) after epoch 80000: 0.8833340394988339\n",
      "Data loss (cross entropy) after epoch 82000: 0.9158332936562785\n",
      "Data loss (cross entropy) after epoch 84000: 1.0155077939328165\n",
      "Data loss (cross entropy) after epoch 86000: 0.8765322608031352\n",
      "Data loss (cross entropy) after epoch 88000: 0.8944882474681668\n",
      "Data loss (cross entropy) after epoch 90000: 0.9230651798395253\n",
      "Data loss (cross entropy) after epoch 92000: 0.9394024616817158\n",
      "Data loss (cross entropy) after epoch 94000: 0.9123495987548906\n",
      "Data loss (cross entropy) after epoch 96000: 0.9291205651998513\n",
      "Data loss (cross entropy) after epoch 98000: 0.9209731167404691\n",
      "Data loss (cross entropy) after epoch 100000: 0.9284301177221914\n",
      "Data loss (cross entropy) after epoch 102000: 0.9026286626351855\n",
      "Data loss (cross entropy) after epoch 104000: 0.900615279103978\n",
      "Data loss (cross entropy) after epoch 106000: 0.8556274509489474\n",
      "Data loss (cross entropy) after epoch 108000: 0.8588604347255419\n",
      "Data loss (cross entropy) after epoch 110000: 0.9630177077717764\n",
      "Data loss (cross entropy) after epoch 112000: 0.9549296299596691\n",
      "Data loss (cross entropy) after epoch 114000: 0.8896013230746204\n",
      "Data loss (cross entropy) after epoch 116000: 0.882867049735895\n",
      "Data loss (cross entropy) after epoch 118000: 0.8772844524255041\n",
      "Data loss (cross entropy) after epoch 120000: 0.8978834290332336\n",
      "Data loss (cross entropy) after epoch 122000: 0.8974483604572033\n",
      "Data loss (cross entropy) after epoch 124000: 0.8798783020958566\n",
      "Data loss (cross entropy) after epoch 126000: 0.9758585101724847\n",
      "Data loss (cross entropy) after epoch 128000: 0.8648906607523834\n",
      "Data loss (cross entropy) after epoch 130000: 0.9478800390944099\n",
      "Data loss (cross entropy) after epoch 132000: 0.8920808562492486\n",
      "Data loss (cross entropy) after epoch 134000: 0.9061574448376892\n",
      "Data loss (cross entropy) after epoch 136000: 0.8880806690406802\n",
      "Data loss (cross entropy) after epoch 138000: 0.9432827426026569\n",
      "Data loss (cross entropy) after epoch 140000: 0.8795736489405844\n",
      "Data loss (cross entropy) after epoch 142000: 0.8887362396709595\n",
      "Data loss (cross entropy) after epoch 144000: 0.8959387683892948\n",
      "Data loss (cross entropy) after epoch 146000: 0.8788110213835011\n",
      "Data loss (cross entropy) after epoch 148000: 0.8922811120049464\n",
      "Data loss (cross entropy) after epoch 150000: 0.8627347996209875\n",
      "Data loss (cross entropy) after epoch 152000: 0.9490630539524332\n",
      "Data loss (cross entropy) after epoch 154000: 0.9112255332228774\n",
      "Data loss (cross entropy) after epoch 156000: 0.9460704653442663\n",
      "Data loss (cross entropy) after epoch 158000: 0.8980995707629457\n",
      "Data loss (cross entropy) after epoch 160000: 0.9125460101658776\n",
      "Data loss (cross entropy) after epoch 162000: 0.9201957253487226\n",
      "Data loss (cross entropy) after epoch 164000: 0.9076628429828434\n",
      "Data loss (cross entropy) after epoch 166000: 0.8374389160966242\n",
      "Data loss (cross entropy) after epoch 168000: 0.890511289069618\n",
      "Data loss (cross entropy) after epoch 170000: 0.8708841826455458\n",
      "Data loss (cross entropy) after epoch 172000: 0.8957466918145833\n",
      "Data loss (cross entropy) after epoch 174000: 0.8678984833215477\n",
      "Data loss (cross entropy) after epoch 176000: 0.8944123320433465\n",
      "Data loss (cross entropy) after epoch 178000: 0.8743417334176888\n",
      "Data loss (cross entropy) after epoch 180000: 0.8951477581082344\n",
      "Data loss (cross entropy) after epoch 182000: 0.8884191250918922\n",
      "Data loss (cross entropy) after epoch 184000: 0.8843727217333612\n",
      "Data loss (cross entropy) after epoch 186000: 0.8775599959826693\n",
      "Data loss (cross entropy) after epoch 188000: 0.9002989464979808\n",
      "Data loss (cross entropy) after epoch 190000: 0.9062614245844905\n",
      "Data loss (cross entropy) after epoch 192000: 0.8633784525501615\n",
      "Data loss (cross entropy) after epoch 194000: 0.8784946321663465\n",
      "Data loss (cross entropy) after epoch 196000: 0.9500880116150711\n",
      "Data loss (cross entropy) after epoch 198000: 0.8846728911303037\n",
      "Data loss (cross entropy) after epoch 200000: 0.8886602228002509\n",
      "Data loss (cross entropy) after epoch 202000: 0.878887669738345\n",
      "Data loss (cross entropy) after epoch 204000: 0.9008353407719795\n",
      "Data loss (cross entropy) after epoch 206000: 0.8538676983976402\n",
      "Data loss (cross entropy) after epoch 208000: 0.887756713013363\n",
      "Data loss (cross entropy) after epoch 210000: 0.9182304947207327\n",
      "Data loss (cross entropy) after epoch 212000: 0.8947722541604417\n",
      "Data loss (cross entropy) after epoch 214000: 0.845077968038737\n",
      "Data loss (cross entropy) after epoch 216000: 0.897882682415899\n",
      "Data loss (cross entropy) after epoch 218000: 0.8928865745958884\n",
      "Data loss (cross entropy) after epoch 220000: 0.8492244936426159\n",
      "Data loss (cross entropy) after epoch 222000: 0.8917846326994812\n",
      "Data loss (cross entropy) after epoch 224000: 0.8557278413389933\n",
      "Data loss (cross entropy) after epoch 226000: 0.8672845442992004\n",
      "Data loss (cross entropy) after epoch 228000: 0.8688073358444285\n",
      "Data loss (cross entropy) after epoch 230000: 0.9039898491280033\n",
      "Data loss (cross entropy) after epoch 232000: 0.8764801361564125\n",
      "Data loss (cross entropy) after epoch 234000: 0.9191642407963081\n",
      "Data loss (cross entropy) after epoch 236000: 0.875122162159301\n",
      "Data loss (cross entropy) after epoch 238000: 0.8472074451869368\n",
      "Data loss (cross entropy) after epoch 240000: 0.8648205236176231\n",
      "Data loss (cross entropy) after epoch 242000: 0.8828601415563175\n",
      "Data loss (cross entropy) after epoch 244000: 0.845143564945536\n",
      "Data loss (cross entropy) after epoch 246000: 0.9005400158979752\n",
      "Data loss (cross entropy) after epoch 248000: 0.8891505410940211\n"
     ]
    }
   ],
   "source": [
    "# same premise, but calculate data-loss (expensive?)\n",
    "hwl_mlp_16 = mlp.MLP(training_X, training_y, 16)\n",
    "hwl_mlp_16.minibatch_train(batch_size=16, print_loss=True)"
   ]
  }
 ],
 "metadata": {
  "kernelspec": {
   "display_name": "Python 3",
   "language": "python",
   "name": "python3"
  },
  "language_info": {
   "codemirror_mode": {
    "name": "ipython",
    "version": 3
   },
   "file_extension": ".py",
   "mimetype": "text/x-python",
   "name": "python",
   "nbconvert_exporter": "python",
   "pygments_lexer": "ipython3",
   "version": "3.6.1"
  }
 },
 "nbformat": 4,
 "nbformat_minor": 2
}
