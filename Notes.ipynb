{
 "cells": [
  {
   "cell_type": "markdown",
   "metadata": {
    "deletable": true,
    "editable": true
   },
   "source": [
    "# Preface\n",
    "My occupation is wizard: I wave my magic wand and shit happens. \n",
    "> We are about to talk about study the idea of a computational process. Computational processes are abstract beings that inhabit computers. As they evolve, processes manipulate other abstract things called data. The evolution of a process is directed by a pattern of rules called a program. People create programs to direct processes. In effect, we conjure the spirits of the computer with our spells.\n",
    "\n",
    "One of the factions in Hogwarts pushes the agenda of embracing computational process that emulates human brain and saught to obtain the oracle of solving complex problems which other factions struggled to solve. The protagonist faction in this book calls themselves Connectionists, and this is the story of connectionsm."
   ]
  },
  {
   "cell_type": "code",
   "execution_count": 2,
   "metadata": {
    "collapsed": true,
    "deletable": true,
    "editable": true
   },
   "outputs": [],
   "source": [
    "import matplotlib\n",
    "import matplotlib.pyplot as plt\n",
    "matplotlib.style.use('ggplot')\n",
    "%matplotlib inline\n",
    "import numpy as np\n",
    "\n",
    "# source file mlp.py\n",
    "import mlp"
   ]
  },
  {
   "cell_type": "markdown",
   "metadata": {
    "deletable": true,
    "editable": true
   },
   "source": [
    "## Multi-layer perceptrons\n",
    "\n",
    "- 3 layer architecture\n",
    "- feed forward\n",
    "- backpropagate for gradient descent\n",
    "- update _once_ every epoch, not during sample loop\n",
    "- training testing split, testing set untouchable\n",
    "- mini batch gradient descent for hand-written letter\n"
   ]
  },
  {
   "cell_type": "code",
   "execution_count": 3,
   "metadata": {
    "collapsed": true,
    "deletable": true,
    "editable": true
   },
   "outputs": [],
   "source": [
    "xor_X,xor_y = mlp.get_Xor_data()"
   ]
  },
  {
   "cell_type": "code",
   "execution_count": 4,
   "metadata": {
    "collapsed": false,
    "deletable": true,
    "editable": true
   },
   "outputs": [
    {
     "data": {
      "text/plain": [
       "<matplotlib.collections.PathCollection at 0x11944e6a0>"
      ]
     },
     "execution_count": 4,
     "metadata": {},
     "output_type": "execute_result"
    },
    {
     "data": {
      "image/png": "[encoded data removed]",
      "text/plain": [
       "<matplotlib.figure.Figure at 0x1160c7a58>"
      ]
     },
     "metadata": {},
     "output_type": "display_data"
    }
   ],
   "source": [
    "plt.scatter(xor_X[:,0],xor_X[:,1], c=xor_y[:,1], cmap=plt.cm.Spectral)"
   ]
  },
  {
   "cell_type": "code",
   "execution_count": 5,
   "metadata": {
    "collapsed": false,
    "deletable": true,
    "editable": true
   },
   "outputs": [],
   "source": [
    "# 2 hidden unit MLP for XOR demonstration\n",
    "xor_mlp_2 = mlp.MLP(xor_X, xor_y, 2)"
   ]
  },
  {
   "cell_type": "code",
   "execution_count": 6,
   "metadata": {
    "collapsed": false,
    "deletable": true,
    "editable": true
   },
   "outputs": [
    {
     "name": "stdout",
     "output_type": "stream",
     "text": [
      "Data loss (cross entropy) after epoch 0: 0.6861598242933123\n",
      "Data loss (cross entropy) after epoch 2000: 0.5028045648406304\n",
      "Data loss (cross entropy) after epoch 4000: 0.4788524896088624\n",
      "Data loss (cross entropy) after epoch 6000: 0.030596319443061508\n",
      "Data loss (cross entropy) after epoch 8000: 0.012764644071794779\n",
      "Data loss (cross entropy) after epoch 10000: 0.007943765071568059\n",
      "Data loss (cross entropy) after epoch 12000: 0.005736992837964628\n",
      "Data loss (cross entropy) after epoch 14000: 0.00447906407383213\n",
      "Data loss (cross entropy) after epoch 16000: 0.0036686582180509436\n",
      "Data loss (cross entropy) after epoch 18000: 0.0031039719089720483\n",
      "Data loss (cross entropy) after epoch 20000: 0.0026884077996359853\n",
      "Data loss (cross entropy) after epoch 22000: 0.0023700195106840447\n",
      "Data loss (cross entropy) after epoch 24000: 0.002118422822539832\n",
      "Data loss (cross entropy) after epoch 26000: 0.0019146763676030475\n",
      "Data loss (cross entropy) after epoch 28000: 0.0017463663143026439\n",
      "Data loss (cross entropy) after epoch 30000: 0.0016050216432716734\n",
      "Data loss (cross entropy) after epoch 32000: 0.00148466620112545\n",
      "Data loss (cross entropy) after epoch 34000: 0.0013809645266173176\n",
      "Data loss (cross entropy) after epoch 36000: 0.0012906957642745307\n",
      "Data loss (cross entropy) after epoch 38000: 0.0012114176017549538\n",
      "Data loss (cross entropy) after epoch 40000: 0.0011412447617366755\n",
      "Data loss (cross entropy) after epoch 42000: 0.0010786989748629188\n",
      "Data loss (cross entropy) after epoch 44000: 0.001022604915620199\n",
      "Data loss (cross entropy) after epoch 46000: 0.0009720164829700867\n",
      "Data loss (cross entropy) after epoch 48000: 0.0009261635884878748\n",
      "Data loss (cross entropy) after epoch 50000: 0.0008844130960264844\n",
      "Data loss (cross entropy) after epoch 52000: 0.0008462397115604136\n",
      "Data loss (cross entropy) after epoch 54000: 0.0008112039885691914\n",
      "Data loss (cross entropy) after epoch 56000: 0.0007789355006264122\n",
      "Data loss (cross entropy) after epoch 58000: 0.0007491198192702147\n",
      "Data loss (cross entropy) after epoch 60000: 0.0007214883303672462\n",
      "Data loss (cross entropy) after epoch 62000: 0.0006958101929182116\n",
      "Data loss (cross entropy) after epoch 64000: 0.0006718859326152524\n",
      "Data loss (cross entropy) after epoch 66000: 0.0006495422953810919\n",
      "Data loss (cross entropy) after epoch 68000: 0.000628628081146681\n",
      "Data loss (cross entropy) after epoch 70000: 0.0006090107468857211\n",
      "Data loss (cross entropy) after epoch 72000: 0.0005905736182488503\n",
      "Data loss (cross entropy) after epoch 74000: 0.0005732135863576629\n",
      "Data loss (cross entropy) after epoch 76000: 0.0005568391941085794\n",
      "Data loss (cross entropy) after epoch 78000: 0.0005413690372909601\n",
      "Data loss (cross entropy) after epoch 80000: 0.0005267304217483582\n",
      "Data loss (cross entropy) after epoch 82000: 0.0005128582300176961\n",
      "Data loss (cross entropy) after epoch 84000: 0.0004996939603124389\n",
      "Data loss (cross entropy) after epoch 86000: 0.00048718490804815315\n",
      "Data loss (cross entropy) after epoch 88000: 0.00047528346585292797\n",
      "Data loss (cross entropy) after epoch 90000: 0.0004639465225354385\n",
      "Data loss (cross entropy) after epoch 92000: 0.000453134945074419\n",
      "Data loss (cross entropy) after epoch 94000: 0.0004428131305588575\n",
      "Data loss (cross entropy) after epoch 96000: 0.0004329486173075407\n",
      "Data loss (cross entropy) after epoch 98000: 0.0004235117462505019\n",
      "Data loss (cross entropy) after epoch 100000: 0.00041447536515751195\n",
      "Data loss (cross entropy) after epoch 102000: 0.00040581456952187064\n",
      "Data loss (cross entropy) after epoch 104000: 0.00039750647491128207\n",
      "Data loss (cross entropy) after epoch 106000: 0.0003895300164163779\n",
      "Data loss (cross entropy) after epoch 108000: 0.0003818657715108656\n",
      "Data loss (cross entropy) after epoch 110000: 0.0003744958031964685\n",
      "Data loss (cross entropy) after epoch 112000: 0.00036740352077493433\n",
      "Data loss (cross entropy) after epoch 114000: 0.00036057355597964074\n",
      "Data loss (cross entropy) after epoch 116000: 0.00035399165252754774\n",
      "Data loss (cross entropy) after epoch 118000: 0.0003476445674247638\n",
      "Data loss (cross entropy) after epoch 120000: 0.0003415199825936488\n",
      "Data loss (cross entropy) after epoch 122000: 0.00033560642558390385\n",
      "Data loss (cross entropy) after epoch 124000: 0.0003298931982974565\n",
      "Data loss (cross entropy) after epoch 126000: 0.00032437031279799566\n",
      "Data loss (cross entropy) after epoch 128000: 0.00031902843339762124\n",
      "Data loss (cross entropy) after epoch 130000: 0.0003138588243162192\n",
      "Data loss (cross entropy) after epoch 132000: 0.00030885330229830335\n",
      "Data loss (cross entropy) after epoch 134000: 0.0003040041936476826\n",
      "Data loss (cross entropy) after epoch 136000: 0.00029930429520817065\n",
      "Data loss (cross entropy) after epoch 138000: 0.00029474683887290297\n",
      "Data loss (cross entropy) after epoch 140000: 0.00029032545925611574\n",
      "Data loss (cross entropy) after epoch 142000: 0.0002860341642044324\n",
      "Data loss (cross entropy) after epoch 144000: 0.00028186730785890405\n",
      "Data loss (cross entropy) after epoch 146000: 0.0002778195660169252\n",
      "Data loss (cross entropy) after epoch 148000: 0.0002738859135659195\n",
      "Data loss (cross entropy) after epoch 150000: 0.00027006160378989985\n",
      "Data loss (cross entropy) after epoch 152000: 0.0002663421493691823\n",
      "Data loss (cross entropy) after epoch 154000: 0.00026272330491472\n",
      "Data loss (cross entropy) after epoch 156000: 0.00025920105089413323\n",
      "Data loss (cross entropy) after epoch 158000: 0.0002557715788208078\n",
      "Data loss (cross entropy) after epoch 160000: 0.00025243127759393293\n",
      "Data loss (cross entropy) after epoch 162000: 0.00024917672088458313\n",
      "Data loss (cross entropy) after epoch 164000: 0.0002460046554762846\n",
      "Data loss (cross entropy) after epoch 166000: 0.00024291199047751086\n",
      "Data loss (cross entropy) after epoch 168000: 0.00023989578732983567\n",
      "Data loss (cross entropy) after epoch 170000: 0.00023695325054505587\n",
      "Data loss (cross entropy) after epoch 172000: 0.0002340817191095451\n",
      "Data loss (cross entropy) after epoch 174000: 0.00023127865850115656\n",
      "Data loss (cross entropy) after epoch 176000: 0.0002285416532664132\n",
      "Data loss (cross entropy) after epoch 178000: 0.00022586840011605585\n",
      "Data loss (cross entropy) after epoch 180000: 0.00022325670149333086\n",
      "Data loss (cross entropy) after epoch 182000: 0.00022070445958100737\n",
      "Data loss (cross entropy) after epoch 184000: 0.00021820967071036835\n",
      "Data loss (cross entropy) after epoch 186000: 0.00021577042014222467\n",
      "Data loss (cross entropy) after epoch 188000: 0.00021338487719097454\n",
      "Data loss (cross entropy) after epoch 190000: 0.0002110512906662595\n",
      "Data loss (cross entropy) after epoch 192000: 0.00020876798460718629\n",
      "Data loss (cross entropy) after epoch 194000: 0.00020653335428863782\n",
      "Data loss (cross entropy) after epoch 196000: 0.0002043458624791436\n",
      "Data loss (cross entropy) after epoch 198000: 0.0002022040359323347\n",
      "Data loss (cross entropy) after epoch 200000: 0.0002001064620937877\n",
      "Data loss (cross entropy) after epoch 202000: 0.0001980517860105876\n",
      "Data loss (cross entropy) after epoch 204000: 0.00019603870742674844\n",
      "Data loss (cross entropy) after epoch 206000: 0.000194065978052741\n",
      "Data loss (cross entropy) after epoch 208000: 0.00019213239899695827\n",
      "Data loss (cross entropy) after epoch 210000: 0.0001902368183479802\n",
      "Data loss (cross entropy) after epoch 212000: 0.0001883781288973037\n",
      "Data loss (cross entropy) after epoch 214000: 0.00018655526599317609\n",
      "Data loss (cross entropy) after epoch 216000: 0.00018476720551692026\n",
      "Data loss (cross entropy) after epoch 218000: 0.00018301296197372364\n",
      "Data loss (cross entropy) after epoch 220000: 0.0001812915866897526\n",
      "Data loss (cross entropy) after epoch 222000: 0.0001796021661097296\n",
      "Data loss (cross entropy) after epoch 224000: 0.00017794382018827983\n",
      "Data loss (cross entropy) after epoch 226000: 0.0001763157008679911\n",
      "Data loss (cross entropy) after epoch 228000: 0.00017471699064046517\n",
      "Data loss (cross entropy) after epoch 230000: 0.0001731469011839711\n",
      "Data loss (cross entropy) after epoch 232000: 0.0001716046720733681\n",
      "Data loss (cross entropy) after epoch 234000: 0.00017008956955743656\n",
      "Data loss (cross entropy) after epoch 236000: 0.00016860088540097788\n",
      "Data loss (cross entropy) after epoch 238000: 0.00016713793578537918\n",
      "Data loss (cross entropy) after epoch 240000: 0.0001657000602662526\n",
      "Data loss (cross entropy) after epoch 242000: 0.00016428662078434448\n",
      "Data loss (cross entropy) after epoch 244000: 0.00016289700072488192\n",
      "Data loss (cross entropy) after epoch 246000: 0.0001615306040256609\n",
      "Data loss (cross entropy) after epoch 248000: 0.00016018685432779453\n"
     ]
    }
   ],
   "source": [
    "_,losslog =xor_mlp_2.train(print_loss=True)"
   ]
  },
  {
   "cell_type": "code",
   "execution_count": 7,
   "metadata": {
    "collapsed": false,
    "deletable": true,
    "editable": true
   },
   "outputs": [
    {
     "data": {
      "text/plain": [
       "<matplotlib.text.Text at 0x1194827f0>"
      ]
     },
     "execution_count": 7,
     "metadata": {},
     "output_type": "execute_result"
    },
    {
     "data": {
      "image/png": "[encoded data removed]",
      "text/plain": [
       "<matplotlib.figure.Figure at 0x11952cef0>"
      ]
     },
     "metadata": {},
     "output_type": "display_data"
    }
   ],
   "source": [
    "plt.plot([i[0] for i in losslog],[i[1] for i in losslog])\n",
    "plt.title(\"Data Loss ~ Epoch [XOR] HU size {0}\".format(2))"
   ]
  },
  {
   "cell_type": "code",
   "execution_count": 8,
   "metadata": {
    "collapsed": true,
    "deletable": true,
    "editable": true
   },
   "outputs": [],
   "source": [
    "def plot_xor_decision_boundary(pred_func):\n",
    "    # Set min and max values and give it some padding\n",
    "    x_min, x_max = xor_X[:, 0].min() - .5, xor_X[:, 0].max() + .5\n",
    "    y_min, y_max = xor_X[:, 1].min() - .5, xor_X[:, 1].max() + .5\n",
    "    h = 0.01\n",
    "    # Generate a grid of points with distance h between them\n",
    "    xx, yy = np.meshgrid(np.arange(x_min, x_max, h), np.arange(y_min, y_max, h))\n",
    "    # Predict the function value for the whole gid\n",
    "    Z = pred_func(np.c_[xx.ravel(), yy.ravel()])\n",
    "    Z = Z.reshape(xx.shape)\n",
    "    # Plot the contour and training examples\n",
    "    plt.contourf(xx, yy, Z, cmap=plt.cm.Spectral)\n",
    "    plt.scatter(xor_X[:,0],xor_X[:,1], c=xor_y[:,1], cmap=plt.cm.Spectral)"
   ]
  },
  {
   "cell_type": "code",
   "execution_count": 9,
   "metadata": {
    "collapsed": false,
    "deletable": true,
    "editable": true
   },
   "outputs": [
    {
     "data": {
      "text/plain": [
       "<matplotlib.text.Text at 0x1196be390>"
      ]
     },
     "execution_count": 9,
     "metadata": {},
     "output_type": "execute_result"
    },
    {
     "data": {
      "image/png": "[encoded data removed]",
      "text/plain": [
       "<matplotlib.figure.Figure at 0x11952a438>"
      ]
     },
     "metadata": {},
     "output_type": "display_data"
    }
   ],
   "source": [
    "plot_xor_decision_boundary(lambda x: xor_mlp_2.predict(x))\n",
    "plt.title(\"XOR decision boundary for HU size {0}\".format(2))"
   ]
  },
  {
   "cell_type": "code",
   "execution_count": 10,
   "metadata": {
    "collapsed": false,
    "deletable": true,
    "editable": true
   },
   "outputs": [
    {
     "data": {
      "text/plain": [
       "<matplotlib.text.Text at 0x1197ad518>"
      ]
     },
     "execution_count": 10,
     "metadata": {},
     "output_type": "execute_result"
    },
    {
     "data": {
      "image/png": "[encoded data removed]",
      "text/plain": [
       "<matplotlib.figure.Figure at 0x119b2d630>"
      ]
     },
     "metadata": {},
     "output_type": "display_data"
    }
   ],
   "source": [
    "xor_mlp_3 = mlp.MLP(xor_X, xor_y, 3)\n",
    "xor_mlp_3.train()\n",
    "plot_xor_decision_boundary(lambda x: xor_mlp_3.predict(x))\n",
    "plt.title(\"XOR decision boundary for HU size {0}\".format(3))"
   ]
  },
  {
   "cell_type": "code",
   "execution_count": null,
   "metadata": {
    "collapsed": true,
    "deletable": true,
    "editable": true
   },
   "outputs": [],
   "source": [
    "## sine experiment\n",
    "\n",
    "X = [...] of shape (50,4)\n",
    "\n",
    "\n",
    "$y_i = sin(\\sum_j{x_{i,j}})$\n",
    "\n"
   ]
  },
  {
   "cell_type": "code",
   "execution_count": 11,
   "metadata": {
    "collapsed": false,
    "deletable": true,
    "editable": true
   },
   "outputs": [
    {
     "data": {
      "text/plain": [
       "<matplotlib.collections.PathCollection at 0x1195e1e10>"
      ]
     },
     "execution_count": 11,
     "metadata": {},
     "output_type": "execute_result"
    },
    {
     "data": {
      "image/png": "[encoded data removed]",
      "text/plain": [
       "<matplotlib.figure.Figure at 0x1197386d8>"
      ]
     },
     "metadata": {},
     "output_type": "display_data"
    }
   ],
   "source": [
    "x,y = mlp.get_Sine_data()\n",
    "trainingX, trainingy,testingX,testingy = mlp.get_data_split(x,y,0.8)\n",
    "sine_hu_size = 5\n",
    "sine_mlp = mlp.MLP(X=trainingX, y=trainingy, hu_size=sine_hu_size)\n",
    "\n",
    "plt.scatter(x[:,0]+x[:,1]+x[:,2]+x[:,3],y)"
   ]
  },
  {
   "cell_type": "code",
   "execution_count": 12,
   "metadata": {
    "collapsed": false,
    "deletable": true,
    "editable": true
   },
   "outputs": [
    {
     "name": "stdout",
     "output_type": "stream",
     "text": [
      "Error (SSE) after epoch 0: [ 4.46174999]\n",
      "Error (SSE) after epoch 2000: [ 0.03929822]\n",
      "Error (SSE) after epoch 4000: [ 0.03342673]\n",
      "Error (SSE) after epoch 6000: [ 0.03059426]\n",
      "Error (SSE) after epoch 8000: [ 0.02861326]\n",
      "Error (SSE) after epoch 10000: [ 0.02691947]\n",
      "Error (SSE) after epoch 12000: [ 0.02545212]\n",
      "Error (SSE) after epoch 14000: [ 0.02428472]\n",
      "Error (SSE) after epoch 16000: [ 0.02341456]\n",
      "Error (SSE) after epoch 18000: [ 0.02278468]\n",
      "Error (SSE) after epoch 20000: [ 0.0223339]\n",
      "Error (SSE) after epoch 22000: [ 0.02200501]\n",
      "Error (SSE) after epoch 24000: [ 0.021752]\n",
      "Error (SSE) after epoch 26000: [ 0.02154344]\n",
      "Error (SSE) after epoch 28000: [ 0.02135969]\n",
      "Error (SSE) after epoch 30000: [ 0.02118868]\n",
      "Error (SSE) after epoch 32000: [ 0.02102284]\n",
      "Error (SSE) after epoch 34000: [ 0.02085743]\n",
      "Error (SSE) after epoch 36000: [ 0.02068983]\n",
      "Error (SSE) after epoch 38000: [ 0.02051923]\n",
      "Error (SSE) after epoch 40000: [ 0.02034615]\n",
      "Error (SSE) after epoch 42000: [ 0.02017179]\n",
      "Error (SSE) after epoch 44000: [ 0.01999736]\n",
      "Error (SSE) after epoch 46000: [ 0.01982377]\n",
      "Error (SSE) after epoch 48000: [ 0.0196516]\n",
      "Error (SSE) after epoch 50000: [ 0.01948118]\n",
      "Error (SSE) after epoch 52000: [ 0.01931272]\n",
      "Error (SSE) after epoch 54000: [ 0.01914638]\n",
      "Error (SSE) after epoch 56000: [ 0.01898231]\n",
      "Error (SSE) after epoch 58000: [ 0.01882069]\n",
      "Error (SSE) after epoch 60000: [ 0.01866172]\n",
      "Error (SSE) after epoch 62000: [ 0.0185056]\n",
      "Error (SSE) after epoch 64000: [ 0.01835252]\n",
      "Error (SSE) after epoch 66000: [ 0.0182026]\n",
      "Error (SSE) after epoch 68000: [ 0.01805589]\n",
      "Error (SSE) after epoch 70000: [ 0.01791237]\n",
      "Error (SSE) after epoch 72000: [ 0.01777192]\n",
      "Error (SSE) after epoch 74000: [ 0.01763434]\n",
      "Error (SSE) after epoch 76000: [ 0.01749941]\n",
      "Error (SSE) after epoch 78000: [ 0.01736687]\n",
      "Error (SSE) after epoch 80000: [ 0.01723646]\n",
      "Error (SSE) after epoch 82000: [ 0.01710796]\n",
      "Error (SSE) after epoch 84000: [ 0.01698116]\n",
      "Error (SSE) after epoch 86000: [ 0.01685593]\n",
      "Error (SSE) after epoch 88000: [ 0.01673212]\n",
      "Error (SSE) after epoch 90000: [ 0.01660968]\n",
      "Error (SSE) after epoch 92000: [ 0.01648856]\n",
      "Error (SSE) after epoch 94000: [ 0.01636873]\n",
      "Error (SSE) after epoch 96000: [ 0.0162502]\n",
      "Error (SSE) after epoch 98000: [ 0.01613298]\n",
      "Error (SSE) after epoch 100000: [ 0.01601708]\n",
      "Error (SSE) after epoch 102000: [ 0.01590253]\n",
      "Error (SSE) after epoch 104000: [ 0.01578931]\n",
      "Error (SSE) after epoch 106000: [ 0.01567742]\n",
      "Error (SSE) after epoch 108000: [ 0.0155668]\n",
      "Error (SSE) after epoch 110000: [ 0.01545737]\n",
      "Error (SSE) after epoch 112000: [ 0.01534901]\n",
      "Error (SSE) after epoch 114000: [ 0.01524154]\n",
      "Error (SSE) after epoch 116000: [ 0.01513474]\n",
      "Error (SSE) after epoch 118000: [ 0.01502831]\n",
      "Error (SSE) after epoch 120000: [ 0.01492189]\n",
      "Error (SSE) after epoch 122000: [ 0.01481502]\n",
      "Error (SSE) after epoch 124000: [ 0.01470719]\n",
      "Error (SSE) after epoch 126000: [ 0.01459778]\n",
      "Error (SSE) after epoch 128000: [ 0.01448606]\n",
      "Error (SSE) after epoch 130000: [ 0.01437124]\n",
      "Error (SSE) after epoch 132000: [ 0.01425239]\n",
      "Error (SSE) after epoch 134000: [ 0.01412855]\n",
      "Error (SSE) after epoch 136000: [ 0.01399868]\n",
      "Error (SSE) after epoch 138000: [ 0.01386174]\n",
      "Error (SSE) after epoch 140000: [ 0.01371677]\n",
      "Error (SSE) after epoch 142000: [ 0.01356298]\n",
      "Error (SSE) after epoch 144000: [ 0.01339983]\n",
      "Error (SSE) after epoch 146000: [ 0.01322715]\n",
      "Error (SSE) after epoch 148000: [ 0.01304519]\n",
      "Error (SSE) after epoch 150000: [ 0.01285459]\n",
      "Error (SSE) after epoch 152000: [ 0.01265628]\n",
      "Error (SSE) after epoch 154000: [ 0.01245125]\n",
      "Error (SSE) after epoch 156000: [ 0.01224037]\n",
      "Error (SSE) after epoch 158000: [ 0.01202412]\n",
      "Error (SSE) after epoch 160000: [ 0.01180247]\n",
      "Error (SSE) after epoch 162000: [ 0.01157484]\n",
      "Error (SSE) after epoch 164000: [ 0.01134021]\n",
      "Error (SSE) after epoch 166000: [ 0.01109727]\n",
      "Error (SSE) after epoch 168000: [ 0.01084467]\n",
      "Error (SSE) after epoch 170000: [ 0.01058133]\n",
      "Error (SSE) after epoch 172000: [ 0.01030684]\n",
      "Error (SSE) after epoch 174000: [ 0.01002178]\n",
      "Error (SSE) after epoch 176000: [ 0.00972816]\n",
      "Error (SSE) after epoch 178000: [ 0.00942948]\n",
      "Error (SSE) after epoch 180000: [ 0.00913055]\n",
      "Error (SSE) after epoch 182000: [ 0.00883692]\n",
      "Error (SSE) after epoch 184000: [ 0.00855401]\n",
      "Error (SSE) after epoch 186000: [ 0.00828638]\n",
      "Error (SSE) after epoch 188000: [ 0.00803727]\n",
      "Error (SSE) after epoch 190000: [ 0.0078085]\n",
      "Error (SSE) after epoch 192000: [ 0.0076006]\n",
      "Error (SSE) after epoch 194000: [ 0.00741315]\n",
      "Error (SSE) after epoch 196000: [ 0.007245]\n",
      "Error (SSE) after epoch 198000: [ 0.0070946]\n",
      "Error (SSE) after epoch 200000: [ 0.00696018]\n",
      "Error (SSE) after epoch 202000: [ 0.00683995]\n",
      "Error (SSE) after epoch 204000: [ 0.0067322]\n",
      "Error (SSE) after epoch 206000: [ 0.00663538]\n",
      "Error (SSE) after epoch 208000: [ 0.00654809]\n",
      "Error (SSE) after epoch 210000: [ 0.0064691]\n",
      "Error (SSE) after epoch 212000: [ 0.00639733]\n",
      "Error (SSE) after epoch 214000: [ 0.00633184]\n",
      "Error (SSE) after epoch 216000: [ 0.00627179]\n",
      "Error (SSE) after epoch 218000: [ 0.00621643]\n",
      "Error (SSE) after epoch 220000: [ 0.00616507]\n",
      "Error (SSE) after epoch 222000: [ 0.0061171]\n",
      "Error (SSE) after epoch 224000: [ 0.00607197]\n",
      "Error (SSE) after epoch 226000: [ 0.00602918]\n",
      "Error (SSE) after epoch 228000: [ 0.00598829]\n",
      "Error (SSE) after epoch 230000: [ 0.00594889]\n",
      "Error (SSE) after epoch 232000: [ 0.00591065]\n",
      "Error (SSE) after epoch 234000: [ 0.00587325]\n",
      "Error (SSE) after epoch 236000: [ 0.00583643]\n",
      "Error (SSE) after epoch 238000: [ 0.00579996]\n",
      "Error (SSE) after epoch 240000: [ 0.00576364]\n",
      "Error (SSE) after epoch 242000: [ 0.00572729]\n",
      "Error (SSE) after epoch 244000: [ 0.00569077]\n",
      "Error (SSE) after epoch 246000: [ 0.00565395]\n",
      "Error (SSE) after epoch 248000: [ 0.00561671]\n"
     ]
    }
   ],
   "source": [
    "acclog, losslog = sine_mlp.train(print_loss=True, testset_X=testingX, testset_y=testingy, classification=False)"
   ]
  },
  {
   "cell_type": "code",
   "execution_count": 13,
   "metadata": {
    "collapsed": false,
    "deletable": true,
    "editable": true
   },
   "outputs": [
    {
     "data": {
      "text/plain": [
       "<matplotlib.text.Text at 0x119dfee10>"
      ]
     },
     "execution_count": 13,
     "metadata": {},
     "output_type": "execute_result"
    },
    {
     "data": {
      "image/png": "[encoded data removed]",
      "text/plain": [
       "<matplotlib.figure.Figure at 0x11974bfd0>"
      ]
     },
     "metadata": {},
     "output_type": "display_data"
    }
   ],
   "source": [
    "plt.plot([i[0] for i in losslog[10:]], [i[1] for i in losslog[10:]])\n",
    "plt.title(\"SSE for Sine test. HU size {0}\".format(sine_hu_size))"
   ]
  },
  {
   "cell_type": "code",
   "execution_count": 14,
   "metadata": {
    "collapsed": false,
    "deletable": true,
    "editable": true
   },
   "outputs": [
    {
     "data": {
      "text/plain": [
       "<matplotlib.text.Text at 0x119e9e518>"
      ]
     },
     "execution_count": 14,
     "metadata": {},
     "output_type": "execute_result"
    },
    {
     "data": {
      "image/png": "[encoded data removed]",
      "text/plain": [
       "<matplotlib.figure.Figure at 0x119e42710>"
      ]
     },
     "metadata": {},
     "output_type": "display_data"
    }
   ],
   "source": [
    "x = testingX\n",
    "y = testingy\n",
    "def linear_sine_components(x):\n",
    "    return x[:,0] + x[:,1] + x[:,2] + x[:,3]\n",
    "comb = linear_sine_components(x)\n",
    "plt.scatter(comb,y)\n",
    "# sine_mlp_10.predict(x,False)\n",
    "y_hat = (sine_mlp.predict(x,False))['z2']\n",
    "plt.scatter(comb,y_hat)\n",
    "plt.title(\"Sine test on testset, red = target, blue = prediction. SSE {0}\".\n",
    "          format(0.5*np.sum(np.square(y_hat-y), axis=0)))\n"
   ]
  },
  {
   "cell_type": "markdown",
   "metadata": {
    "deletable": true,
    "editable": true
   },
   "source": [
    "### Let's try again?"
   ]
  },
  {
   "cell_type": "code",
   "execution_count": 15,
   "metadata": {
    "collapsed": false,
    "deletable": true,
    "editable": true
   },
   "outputs": [
    {
     "name": "stdout",
     "output_type": "stream",
     "text": [
      "Error (SSE) after epoch 0: [ 4.46174999]\n",
      "Error (SSE) after epoch 2000: [ 0.03929822]\n",
      "Error (SSE) after epoch 4000: [ 0.03342673]\n",
      "Error (SSE) after epoch 6000: [ 0.03059426]\n",
      "Error (SSE) after epoch 8000: [ 0.02861326]\n",
      "Error (SSE) after epoch 10000: [ 0.02691947]\n",
      "Error (SSE) after epoch 12000: [ 0.02545212]\n",
      "Error (SSE) after epoch 14000: [ 0.02428472]\n",
      "Error (SSE) after epoch 16000: [ 0.02341456]\n",
      "Error (SSE) after epoch 18000: [ 0.02278468]\n",
      "Error (SSE) after epoch 20000: [ 0.0223339]\n",
      "Error (SSE) after epoch 22000: [ 0.02200501]\n",
      "Error (SSE) after epoch 24000: [ 0.021752]\n",
      "Error (SSE) after epoch 26000: [ 0.02154344]\n",
      "Error (SSE) after epoch 28000: [ 0.02135969]\n",
      "Error (SSE) after epoch 30000: [ 0.02118868]\n",
      "Error (SSE) after epoch 32000: [ 0.02102284]\n",
      "Error (SSE) after epoch 34000: [ 0.02085743]\n",
      "Error (SSE) after epoch 36000: [ 0.02068983]\n",
      "Error (SSE) after epoch 38000: [ 0.02051923]\n",
      "Error (SSE) after epoch 40000: [ 0.02034615]\n",
      "Error (SSE) after epoch 42000: [ 0.02017179]\n",
      "Error (SSE) after epoch 44000: [ 0.01999736]\n",
      "Error (SSE) after epoch 46000: [ 0.01982377]\n",
      "Error (SSE) after epoch 48000: [ 0.0196516]\n",
      "Error (SSE) after epoch 50000: [ 0.01948118]\n",
      "Error (SSE) after epoch 52000: [ 0.01931272]\n",
      "Error (SSE) after epoch 54000: [ 0.01914638]\n",
      "Error (SSE) after epoch 56000: [ 0.01898231]\n",
      "Error (SSE) after epoch 58000: [ 0.01882069]\n",
      "Error (SSE) after epoch 60000: [ 0.01866172]\n",
      "Error (SSE) after epoch 62000: [ 0.0185056]\n",
      "Error (SSE) after epoch 64000: [ 0.01835252]\n",
      "Error (SSE) after epoch 66000: [ 0.0182026]\n",
      "Error (SSE) after epoch 68000: [ 0.01805589]\n",
      "Error (SSE) after epoch 70000: [ 0.01791237]\n",
      "Error (SSE) after epoch 72000: [ 0.01777192]\n",
      "Error (SSE) after epoch 74000: [ 0.01763434]\n",
      "Error (SSE) after epoch 76000: [ 0.01749941]\n",
      "Error (SSE) after epoch 78000: [ 0.01736687]\n",
      "Error (SSE) after epoch 80000: [ 0.01723646]\n",
      "Error (SSE) after epoch 82000: [ 0.01710796]\n",
      "Error (SSE) after epoch 84000: [ 0.01698116]\n",
      "Error (SSE) after epoch 86000: [ 0.01685593]\n",
      "Error (SSE) after epoch 88000: [ 0.01673212]\n"
     ]
    },
    {
     "data": {
      "image/png": "[encoded data removed]",
      "text/plain": [
       "<matplotlib.figure.Figure at 0x119dbb278>"
      ]
     },
     "metadata": {},
     "output_type": "display_data"
    },
    {
     "data": {
      "text/plain": [
       "<matplotlib.text.Text at 0x119fc9438>"
      ]
     },
     "execution_count": 15,
     "metadata": {},
     "output_type": "execute_result"
    },
    {
     "data": {
      "image/png": "[encoded data removed]",
      "text/plain": [
       "<matplotlib.figure.Figure at 0x119facb38>"
      ]
     },
     "metadata": {},
     "output_type": "display_data"
    }
   ],
   "source": [
    "sine_hu_size = 5\n",
    "sine_mlp = mlp.MLP(X=trainingX, y=trainingy, hu_size=sine_hu_size)\n",
    "_,errorlog = sine_mlp.train(epoch=90000, print_loss=True\n",
    "                            ,classification=False)\n",
    "plt.plot([i[0] for i in errorlog[10:]], [i[1] for i in errorlog[10:]])\n",
    "plt.title(\"SSE for Sine test. HU size {0}\".format(sine_hu_size))\n",
    "plt.show()\n",
    "y_hat = (sine_mlp.predict(x,False))['z2']\n",
    "plt.scatter(comb, y)\n",
    "plt.scatter(comb, y_hat)\n",
    "plt.title(\"Sine test on testset, trained stop at 90k epoch, red = target, blue = prediction. SSE {0}\".\n",
    "         format(0.5*np.sum(np.square(y_hat-y), axis=0)))"
   ]
  },
  {
   "cell_type": "markdown",
   "metadata": {
    "deletable": true,
    "editable": true
   },
   "source": [
    "## Exceptional :)\n",
    "- 16 attribute\n",
    "- A-Z as classes\n",
    "- 20000 samples\n",
    "- 80% split (recommended)\n",
    "- 10 hidden units (recommended)"
   ]
  },
  {
   "cell_type": "code",
   "execution_count": 16,
   "metadata": {
    "collapsed": false,
    "deletable": true,
    "editable": true
   },
   "outputs": [
    {
     "name": "stdout",
     "output_type": "stream",
     "text": [
      "shape (20000, 17)\n"
     ]
    },
    {
     "data": {
      "text/html": [
       "<div>\n",
       "<table border=\"1\" class=\"dataframe\">\n",
       "  <thead>\n",
       "    <tr style=\"text-align: right;\">\n",
       "      <th></th>\n",
       "      <th>0</th>\n",
       "      <th>1</th>\n",
       "      <th>2</th>\n",
       "      <th>3</th>\n",
       "      <th>4</th>\n",
       "      <th>5</th>\n",
       "      <th>6</th>\n",
       "      <th>7</th>\n",
       "      <th>8</th>\n",
       "      <th>9</th>\n",
       "      <th>10</th>\n",
       "      <th>11</th>\n",
       "      <th>12</th>\n",
       "      <th>13</th>\n",
       "      <th>14</th>\n",
       "      <th>15</th>\n",
       "      <th>16</th>\n",
       "    </tr>\n",
       "  </thead>\n",
       "  <tbody>\n",
       "    <tr>\n",
       "      <th>0</th>\n",
       "      <td>T</td>\n",
       "      <td>2</td>\n",
       "      <td>8</td>\n",
       "      <td>3</td>\n",
       "      <td>5</td>\n",
       "      <td>1</td>\n",
       "      <td>8</td>\n",
       "      <td>13</td>\n",
       "      <td>0</td>\n",
       "      <td>6</td>\n",
       "      <td>6</td>\n",
       "      <td>10</td>\n",
       "      <td>8</td>\n",
       "      <td>0</td>\n",
       "      <td>8</td>\n",
       "      <td>0</td>\n",
       "      <td>8</td>\n",
       "    </tr>\n",
       "    <tr>\n",
       "      <th>1</th>\n",
       "      <td>I</td>\n",
       "      <td>5</td>\n",
       "      <td>12</td>\n",
       "      <td>3</td>\n",
       "      <td>7</td>\n",
       "      <td>2</td>\n",
       "      <td>10</td>\n",
       "      <td>5</td>\n",
       "      <td>5</td>\n",
       "      <td>4</td>\n",
       "      <td>13</td>\n",
       "      <td>3</td>\n",
       "      <td>9</td>\n",
       "      <td>2</td>\n",
       "      <td>8</td>\n",
       "      <td>4</td>\n",
       "      <td>10</td>\n",
       "    </tr>\n",
       "    <tr>\n",
       "      <th>2</th>\n",
       "      <td>D</td>\n",
       "      <td>4</td>\n",
       "      <td>11</td>\n",
       "      <td>6</td>\n",
       "      <td>8</td>\n",
       "      <td>6</td>\n",
       "      <td>10</td>\n",
       "      <td>6</td>\n",
       "      <td>2</td>\n",
       "      <td>6</td>\n",
       "      <td>10</td>\n",
       "      <td>3</td>\n",
       "      <td>7</td>\n",
       "      <td>3</td>\n",
       "      <td>7</td>\n",
       "      <td>3</td>\n",
       "      <td>9</td>\n",
       "    </tr>\n",
       "    <tr>\n",
       "      <th>3</th>\n",
       "      <td>N</td>\n",
       "      <td>7</td>\n",
       "      <td>11</td>\n",
       "      <td>6</td>\n",
       "      <td>6</td>\n",
       "      <td>3</td>\n",
       "      <td>5</td>\n",
       "      <td>9</td>\n",
       "      <td>4</td>\n",
       "      <td>6</td>\n",
       "      <td>4</td>\n",
       "      <td>4</td>\n",
       "      <td>10</td>\n",
       "      <td>6</td>\n",
       "      <td>10</td>\n",
       "      <td>2</td>\n",
       "      <td>8</td>\n",
       "    </tr>\n",
       "    <tr>\n",
       "      <th>4</th>\n",
       "      <td>G</td>\n",
       "      <td>2</td>\n",
       "      <td>1</td>\n",
       "      <td>3</td>\n",
       "      <td>1</td>\n",
       "      <td>1</td>\n",
       "      <td>8</td>\n",
       "      <td>6</td>\n",
       "      <td>6</td>\n",
       "      <td>6</td>\n",
       "      <td>6</td>\n",
       "      <td>5</td>\n",
       "      <td>9</td>\n",
       "      <td>1</td>\n",
       "      <td>7</td>\n",
       "      <td>5</td>\n",
       "      <td>10</td>\n",
       "    </tr>\n",
       "  </tbody>\n",
       "</table>\n",
       "</div>"
      ],
      "text/plain": [
       "  0   1   2   3   4   5   6   7   8   9   10  11  12  13  14  15  16\n",
       "0  T   2   8   3   5   1   8  13   0   6   6  10   8   0   8   0   8\n",
       "1  I   5  12   3   7   2  10   5   5   4  13   3   9   2   8   4  10\n",
       "2  D   4  11   6   8   6  10   6   2   6  10   3   7   3   7   3   9\n",
       "3  N   7  11   6   6   3   5   9   4   6   4   4  10   6  10   2   8\n",
       "4  G   2   1   3   1   1   8   6   6   6   6   5   9   1   7   5  10"
      ]
     },
     "execution_count": 16,
     "metadata": {},
     "output_type": "execute_result"
    }
   ],
   "source": [
    "import pandas as pd # only for csv reading, no other usage, i swear :)\n",
    "dataset = pd.read_csv('letter-recognition.data',delimiter=',',header=None)\n",
    "print(\"shape {0}\".format(dataset.shape))\n",
    "dataset.head()"
   ]
  },
  {
   "cell_type": "code",
   "execution_count": 17,
   "metadata": {
    "collapsed": false,
    "deletable": true,
    "editable": true
   },
   "outputs": [],
   "source": [
    "hwl_X, hwl_y= mlp.get_Hwl_data()"
   ]
  },
  {
   "cell_type": "code",
   "execution_count": 18,
   "metadata": {
    "collapsed": true,
    "deletable": true,
    "editable": true
   },
   "outputs": [],
   "source": [
    "training_X, training_y, testing_X, testing_y = mlp.get_data_split(hwl_X, hwl_y, 0.8)"
   ]
  },
  {
   "cell_type": "code",
   "execution_count": 19,
   "metadata": {
    "collapsed": false,
    "deletable": true,
    "editable": true
   },
   "outputs": [
    {
     "data": {
      "text/plain": [
       "16000"
      ]
     },
     "execution_count": 19,
     "metadata": {},
     "output_type": "execute_result"
    }
   ],
   "source": [
    "training_X.shape[0]"
   ]
  },
  {
   "cell_type": "code",
   "execution_count": 20,
   "metadata": {
    "collapsed": false,
    "deletable": true,
    "editable": true,
    "scrolled": false
   },
   "outputs": [
    {
     "name": "stdout",
     "output_type": "stream",
     "text": [
      "Data loss (cross entropy) after epoch 0: 3.2636384234828695\n",
      "Accuracy after epoch 0: 0.0515\n",
      "Data loss (cross entropy) after epoch 2000: 1.59682702728677\n",
      "Accuracy after epoch 2000: 0.491\n",
      "Data loss (cross entropy) after epoch 4000: 1.5279468824671987\n",
      "Accuracy after epoch 4000: 0.5255\n",
      "Data loss (cross entropy) after epoch 6000: 1.460747608879672\n",
      "Accuracy after epoch 6000: 0.546\n",
      "Data loss (cross entropy) after epoch 8000: 1.5987544985640412\n",
      "Accuracy after epoch 8000: 0.5165\n",
      "Data loss (cross entropy) after epoch 10000: 1.4551394070873298\n",
      "Accuracy after epoch 10000: 0.5455\n",
      "Data loss (cross entropy) after epoch 12000: 1.4193992269578486\n",
      "Accuracy after epoch 12000: 0.5645\n",
      "Data loss (cross entropy) after epoch 14000: 1.4006622281200876\n",
      "Accuracy after epoch 14000: 0.5705\n",
      "Data loss (cross entropy) after epoch 16000: 1.3903081107552193\n",
      "Accuracy after epoch 16000: 0.5785\n",
      "Data loss (cross entropy) after epoch 18000: 1.3286593035730505\n",
      "Accuracy after epoch 18000: 0.5925\n",
      "Data loss (cross entropy) after epoch 20000: 1.4792625267454838\n",
      "Accuracy after epoch 20000: 0.55175\n",
      "Data loss (cross entropy) after epoch 22000: 1.3754491410432719\n",
      "Accuracy after epoch 22000: 0.57975\n",
      "Data loss (cross entropy) after epoch 24000: 1.2707146244479204\n",
      "Accuracy after epoch 24000: 0.62475\n",
      "Data loss (cross entropy) after epoch 26000: 1.2667582491455533\n",
      "Accuracy after epoch 26000: 0.60825\n",
      "Data loss (cross entropy) after epoch 28000: 1.3332224371481962\n",
      "Accuracy after epoch 28000: 0.58275\n",
      "Data loss (cross entropy) after epoch 30000: 1.4236273601288372\n",
      "Accuracy after epoch 30000: 0.5555\n",
      "Data loss (cross entropy) after epoch 32000: 1.4530775106429228\n",
      "Accuracy after epoch 32000: 0.535\n",
      "Data loss (cross entropy) after epoch 34000: 1.5070416186621658\n",
      "Accuracy after epoch 34000: 0.55175\n",
      "Data loss (cross entropy) after epoch 36000: 1.2468581021641743\n",
      "Accuracy after epoch 36000: 0.61625\n",
      "Data loss (cross entropy) after epoch 38000: 1.3694813163553516\n",
      "Accuracy after epoch 38000: 0.5885\n",
      "Data loss (cross entropy) after epoch 40000: 1.276425924332553\n",
      "Accuracy after epoch 40000: 0.6185\n",
      "Data loss (cross entropy) after epoch 42000: 1.2486217575604037\n",
      "Accuracy after epoch 42000: 0.60675\n",
      "Data loss (cross entropy) after epoch 44000: 1.3171624442714862\n",
      "Accuracy after epoch 44000: 0.606\n",
      "Data loss (cross entropy) after epoch 46000: 1.2338669060423533\n",
      "Accuracy after epoch 46000: 0.634\n",
      "Data loss (cross entropy) after epoch 48000: 1.325984768637986\n",
      "Accuracy after epoch 48000: 0.60225\n",
      "Data loss (cross entropy) after epoch 50000: 1.2923587089277795\n",
      "Accuracy after epoch 50000: 0.60125\n",
      "Data loss (cross entropy) after epoch 52000: 1.285341245814837\n",
      "Accuracy after epoch 52000: 0.6045\n",
      "Data loss (cross entropy) after epoch 54000: 1.2496500649781201\n",
      "Accuracy after epoch 54000: 0.60625\n",
      "Data loss (cross entropy) after epoch 56000: 1.236194652799297\n",
      "Accuracy after epoch 56000: 0.5965\n",
      "Data loss (cross entropy) after epoch 58000: 1.2736433714693833\n",
      "Accuracy after epoch 58000: 0.602\n",
      "Data loss (cross entropy) after epoch 60000: 1.235269007288762\n",
      "Accuracy after epoch 60000: 0.626\n",
      "Data loss (cross entropy) after epoch 62000: 1.315891754721747\n",
      "Accuracy after epoch 62000: 0.585\n",
      "Data loss (cross entropy) after epoch 64000: 1.2803062434326546\n",
      "Accuracy after epoch 64000: 0.613\n",
      "Data loss (cross entropy) after epoch 66000: 1.1989217977916289\n",
      "Accuracy after epoch 66000: 0.626\n",
      "Data loss (cross entropy) after epoch 68000: 1.2898425956222963\n",
      "Accuracy after epoch 68000: 0.59625\n",
      "Data loss (cross entropy) after epoch 70000: 1.204797036705022\n",
      "Accuracy after epoch 70000: 0.623\n",
      "Data loss (cross entropy) after epoch 72000: 1.2867019117160243\n",
      "Accuracy after epoch 72000: 0.61825\n",
      "Data loss (cross entropy) after epoch 74000: 1.3206620499367043\n",
      "Accuracy after epoch 74000: 0.60325\n",
      "Data loss (cross entropy) after epoch 76000: 1.2572220090194222\n",
      "Accuracy after epoch 76000: 0.5975\n",
      "Data loss (cross entropy) after epoch 78000: 1.2388492081613962\n",
      "Accuracy after epoch 78000: 0.601\n",
      "Data loss (cross entropy) after epoch 80000: 1.2642218205846527\n",
      "Accuracy after epoch 80000: 0.60875\n",
      "Data loss (cross entropy) after epoch 82000: 1.2872513355315915\n",
      "Accuracy after epoch 82000: 0.5945\n",
      "Data loss (cross entropy) after epoch 84000: 1.277478099392545\n",
      "Accuracy after epoch 84000: 0.60225\n",
      "Data loss (cross entropy) after epoch 86000: 1.294200472238329\n",
      "Accuracy after epoch 86000: 0.5935\n",
      "Data loss (cross entropy) after epoch 88000: 1.3460184125602273\n",
      "Accuracy after epoch 88000: 0.59225\n",
      "Data loss (cross entropy) after epoch 90000: 1.2595403961051226\n",
      "Accuracy after epoch 90000: 0.59375\n",
      "Data loss (cross entropy) after epoch 92000: 1.2536247701969863\n",
      "Accuracy after epoch 92000: 0.618\n",
      "Data loss (cross entropy) after epoch 94000: 1.2714778257487132\n",
      "Accuracy after epoch 94000: 0.588\n",
      "Data loss (cross entropy) after epoch 96000: 1.1920667984519793\n",
      "Accuracy after epoch 96000: 0.6255\n",
      "Data loss (cross entropy) after epoch 98000: 1.2656430491551287\n",
      "Accuracy after epoch 98000: 0.61775\n",
      "Data loss (cross entropy) after epoch 100000: 1.2519886987901794\n",
      "Accuracy after epoch 100000: 0.60725\n",
      "Data loss (cross entropy) after epoch 102000: 1.2227034233259908\n",
      "Accuracy after epoch 102000: 0.622\n",
      "Data loss (cross entropy) after epoch 104000: 1.1734749528136328\n",
      "Accuracy after epoch 104000: 0.6315\n",
      "Data loss (cross entropy) after epoch 106000: 1.1739496119580233\n",
      "Accuracy after epoch 106000: 0.62425\n",
      "Data loss (cross entropy) after epoch 108000: 1.2250497024512794\n",
      "Accuracy after epoch 108000: 0.606\n",
      "Data loss (cross entropy) after epoch 110000: 1.2579566681736989\n",
      "Accuracy after epoch 110000: 0.6035\n",
      "Data loss (cross entropy) after epoch 112000: 1.181805210441981\n",
      "Accuracy after epoch 112000: 0.61375\n",
      "Data loss (cross entropy) after epoch 114000: 1.1899535141648445\n",
      "Accuracy after epoch 114000: 0.62275\n",
      "Data loss (cross entropy) after epoch 116000: 1.1863780272718956\n",
      "Accuracy after epoch 116000: 0.61275\n",
      "Data loss (cross entropy) after epoch 118000: 1.2041483429040707\n",
      "Accuracy after epoch 118000: 0.6215\n",
      "Data loss (cross entropy) after epoch 120000: 1.1473025688119987\n",
      "Accuracy after epoch 120000: 0.64275\n",
      "Data loss (cross entropy) after epoch 122000: 1.2133067816087004\n",
      "Accuracy after epoch 122000: 0.60825\n",
      "Data loss (cross entropy) after epoch 124000: 1.188516471024649\n",
      "Accuracy after epoch 124000: 0.622\n",
      "Data loss (cross entropy) after epoch 126000: 1.1925970368577758\n",
      "Accuracy after epoch 126000: 0.6345\n",
      "Data loss (cross entropy) after epoch 128000: 1.1486367345652078\n",
      "Accuracy after epoch 128000: 0.633\n",
      "Data loss (cross entropy) after epoch 130000: 1.173836681566738\n",
      "Accuracy after epoch 130000: 0.6335\n",
      "Data loss (cross entropy) after epoch 132000: 1.2329698851027975\n",
      "Accuracy after epoch 132000: 0.619\n",
      "Data loss (cross entropy) after epoch 134000: 1.2374824746726396\n",
      "Accuracy after epoch 134000: 0.61175\n",
      "Data loss (cross entropy) after epoch 136000: 1.2314177283469798\n",
      "Accuracy after epoch 136000: 0.608\n",
      "Data loss (cross entropy) after epoch 138000: 1.1926568750410935\n",
      "Accuracy after epoch 138000: 0.62625\n",
      "Data loss (cross entropy) after epoch 140000: 1.192808987264972\n",
      "Accuracy after epoch 140000: 0.64125\n",
      "Data loss (cross entropy) after epoch 142000: 1.1588160878652305\n",
      "Accuracy after epoch 142000: 0.638\n",
      "Data loss (cross entropy) after epoch 144000: 1.1535691410320958\n",
      "Accuracy after epoch 144000: 0.6415\n",
      "Data loss (cross entropy) after epoch 146000: 1.1648667519929556\n",
      "Accuracy after epoch 146000: 0.64675\n",
      "Data loss (cross entropy) after epoch 148000: 1.1630725547054588\n",
      "Accuracy after epoch 148000: 0.63675\n",
      "Data loss (cross entropy) after epoch 150000: 1.187128433076343\n",
      "Accuracy after epoch 150000: 0.63375\n",
      "Data loss (cross entropy) after epoch 152000: 1.1858074420754163\n",
      "Accuracy after epoch 152000: 0.65025\n",
      "Data loss (cross entropy) after epoch 154000: 1.1985092996811766\n",
      "Accuracy after epoch 154000: 0.64\n",
      "Data loss (cross entropy) after epoch 156000: 1.1807006854763369\n",
      "Accuracy after epoch 156000: 0.64275\n",
      "Data loss (cross entropy) after epoch 158000: 1.1489241412993443\n",
      "Accuracy after epoch 158000: 0.64375\n",
      "Data loss (cross entropy) after epoch 160000: 1.1456178430085717\n",
      "Accuracy after epoch 160000: 0.641\n",
      "Data loss (cross entropy) after epoch 162000: 1.1417885779642671\n",
      "Accuracy after epoch 162000: 0.65875\n",
      "Data loss (cross entropy) after epoch 164000: 1.1692772601332422\n",
      "Accuracy after epoch 164000: 0.6505\n",
      "Data loss (cross entropy) after epoch 166000: 1.1806111266294745\n",
      "Accuracy after epoch 166000: 0.642\n",
      "Data loss (cross entropy) after epoch 168000: 1.1476381684250971\n",
      "Accuracy after epoch 168000: 0.64325\n",
      "Data loss (cross entropy) after epoch 170000: 1.1536416676789454\n",
      "Accuracy after epoch 170000: 0.647\n",
      "Data loss (cross entropy) after epoch 172000: 1.180705582966251\n",
      "Accuracy after epoch 172000: 0.63425\n",
      "Data loss (cross entropy) after epoch 174000: 1.1570980613792625\n",
      "Accuracy after epoch 174000: 0.64725\n",
      "Data loss (cross entropy) after epoch 176000: 1.1747013713682217\n",
      "Accuracy after epoch 176000: 0.6385\n",
      "Data loss (cross entropy) after epoch 178000: 1.2302779393461862\n",
      "Accuracy after epoch 178000: 0.6325\n",
      "Data loss (cross entropy) after epoch 180000: 1.1376042591522129\n",
      "Accuracy after epoch 180000: 0.64925\n",
      "Data loss (cross entropy) after epoch 182000: 1.140367547623102\n",
      "Accuracy after epoch 182000: 0.6595\n",
      "Data loss (cross entropy) after epoch 184000: 1.1708863593428565\n",
      "Accuracy after epoch 184000: 0.64425\n",
      "Data loss (cross entropy) after epoch 186000: 1.199682609752692\n",
      "Accuracy after epoch 186000: 0.65175\n",
      "Data loss (cross entropy) after epoch 188000: 1.1452667390469458\n",
      "Accuracy after epoch 188000: 0.65825\n",
      "Data loss (cross entropy) after epoch 190000: 1.198655531998136\n",
      "Accuracy after epoch 190000: 0.63525\n",
      "Data loss (cross entropy) after epoch 192000: 1.18465441897321\n",
      "Accuracy after epoch 192000: 0.64025\n",
      "Data loss (cross entropy) after epoch 194000: 1.1860073980642145\n",
      "Accuracy after epoch 194000: 0.64825\n",
      "Data loss (cross entropy) after epoch 196000: 1.1857857156547635\n",
      "Accuracy after epoch 196000: 0.6295\n",
      "Data loss (cross entropy) after epoch 198000: 1.1536573545266877\n",
      "Accuracy after epoch 198000: 0.64975\n",
      "Data loss (cross entropy) after epoch 200000: 1.172979494512814\n",
      "Accuracy after epoch 200000: 0.64125\n",
      "Data loss (cross entropy) after epoch 202000: 1.2142060832570485\n",
      "Accuracy after epoch 202000: 0.61875\n",
      "Data loss (cross entropy) after epoch 204000: 1.1524556352446769\n",
      "Accuracy after epoch 204000: 0.641\n",
      "Data loss (cross entropy) after epoch 206000: 1.1451007899042795\n",
      "Accuracy after epoch 206000: 0.64825\n",
      "Data loss (cross entropy) after epoch 208000: 1.2257907394191914\n",
      "Accuracy after epoch 208000: 0.63325\n",
      "Data loss (cross entropy) after epoch 210000: 1.1905044090400894\n",
      "Accuracy after epoch 210000: 0.63325\n",
      "Data loss (cross entropy) after epoch 212000: 1.135738898891955\n",
      "Accuracy after epoch 212000: 0.65575\n",
      "Data loss (cross entropy) after epoch 214000: 1.155091176921694\n",
      "Accuracy after epoch 214000: 0.652\n",
      "Data loss (cross entropy) after epoch 216000: 1.1626987456550355\n",
      "Accuracy after epoch 216000: 0.65225\n",
      "Data loss (cross entropy) after epoch 218000: 1.1985357496181122\n",
      "Accuracy after epoch 218000: 0.6355\n",
      "Data loss (cross entropy) after epoch 220000: 1.144043192694087\n",
      "Accuracy after epoch 220000: 0.65875\n",
      "Data loss (cross entropy) after epoch 222000: 1.1537698942951802\n",
      "Accuracy after epoch 222000: 0.64575\n",
      "Data loss (cross entropy) after epoch 224000: 1.157767964661708\n",
      "Accuracy after epoch 224000: 0.6595\n",
      "Data loss (cross entropy) after epoch 226000: 1.1843935534474355\n",
      "Accuracy after epoch 226000: 0.64625\n",
      "Data loss (cross entropy) after epoch 228000: 1.1671686777330736\n",
      "Accuracy after epoch 228000: 0.635\n",
      "Data loss (cross entropy) after epoch 230000: 1.2338853091866582\n",
      "Accuracy after epoch 230000: 0.60925\n",
      "Data loss (cross entropy) after epoch 232000: 1.1507065898419289\n",
      "Accuracy after epoch 232000: 0.64225\n",
      "Data loss (cross entropy) after epoch 234000: 1.1954309534296816\n",
      "Accuracy after epoch 234000: 0.64125\n",
      "Data loss (cross entropy) after epoch 236000: 1.2143840442751213\n",
      "Accuracy after epoch 236000: 0.63025\n",
      "Data loss (cross entropy) after epoch 238000: 1.143345816293944\n",
      "Accuracy after epoch 238000: 0.65375\n",
      "Data loss (cross entropy) after epoch 240000: 1.1781654584552568\n",
      "Accuracy after epoch 240000: 0.6255\n",
      "Data loss (cross entropy) after epoch 242000: 1.1690525360498785\n",
      "Accuracy after epoch 242000: 0.653\n",
      "Data loss (cross entropy) after epoch 244000: 1.156701282621286\n",
      "Accuracy after epoch 244000: 0.63875\n",
      "Data loss (cross entropy) after epoch 246000: 1.1427399204795472\n",
      "Accuracy after epoch 246000: 0.6385\n",
      "Data loss (cross entropy) after epoch 248000: 1.1482194782309139\n",
      "Accuracy after epoch 248000: 0.6235\n"
     ]
    }
   ],
   "source": [
    "# recommended 10 hidden units\n",
    "hwl_mlp_10 = mlp.MLP(training_X, training_y, 10)\n",
    "\n",
    "\n",
    "\n",
    "# train using mini batch, batch size 16 (2^4 for cache friendliness, my laptop is poor)\n",
    "acclog, losslog = hwl_mlp_10.train(batch_size=16, testset_X=testing_X, testset_y=testing_y, print_loss=True)"
   ]
  },
  {
   "cell_type": "code",
   "execution_count": 21,
   "metadata": {
    "collapsed": false,
    "deletable": true,
    "editable": true
   },
   "outputs": [
    {
     "data": {
      "text/plain": [
       "<matplotlib.text.Text at 0x11c5f0940>"
      ]
     },
     "execution_count": 21,
     "metadata": {},
     "output_type": "execute_result"
    },
    {
     "data": {
      "image/png": "[encoded data removed]",
      "text/plain": [
       "<matplotlib.figure.Figure at 0x11c1f8358>"
      ]
     },
     "metadata": {},
     "output_type": "display_data"
    }
   ],
   "source": [
    "plt.plot([i[0] for i in acclog], [i[1] for i in acclog])\n",
    "plt.plot([i[0] for i in acclog], np.zeros((len(acclog), 1))+0.55)\n",
    "plt.plot([i[0] for i in acclog], np.zeros((len(acclog), 1))+0.60)\n",
    "plt.plot([i[0] for i in acclog], np.zeros((len(acclog), 1))+0.65)\n",
    "plt.title(\"Accuracy ~ Epoch HU size {0}, Batch size {1}\".format(10,16))"
   ]
  },
  {
   "cell_type": "code",
   "execution_count": 22,
   "metadata": {
    "collapsed": false,
    "deletable": true,
    "editable": true
   },
   "outputs": [
    {
     "data": {
      "text/plain": [
       "<matplotlib.text.Text at 0x119889710>"
      ]
     },
     "execution_count": 22,
     "metadata": {},
     "output_type": "execute_result"
    },
    {
     "data": {
      "image/png": "[encoded data removed]",
      "text/plain": [
       "<matplotlib.figure.Figure at 0x11c1fff60>"
      ]
     },
     "metadata": {},
     "output_type": "display_data"
    }
   ],
   "source": [
    "plt.plot([i[0] for i in losslog],[i[1] for i in losslog])\n",
    "plt.title(\"Dataloss ~ Epoch HU size {0}, Batch size {1}\".format(10,16))"
   ]
  },
  {
   "cell_type": "code",
   "execution_count": 23,
   "metadata": {
    "collapsed": false,
    "deletable": true,
    "editable": true,
    "scrolled": false
   },
   "outputs": [
    {
     "name": "stdout",
     "output_type": "stream",
     "text": [
      "Accuracy after epoch 0: 0.04725\n",
      "Accuracy after epoch 2000: 0.5635\n",
      "Accuracy after epoch 4000: 0.5965\n",
      "Accuracy after epoch 6000: 0.64475\n",
      "Accuracy after epoch 8000: 0.6575\n",
      "Accuracy after epoch 10000: 0.67775\n",
      "Accuracy after epoch 12000: 0.6595\n",
      "Accuracy after epoch 14000: 0.68025\n",
      "Accuracy after epoch 16000: 0.66125\n",
      "Accuracy after epoch 18000: 0.6475\n",
      "Accuracy after epoch 20000: 0.6985\n",
      "Accuracy after epoch 22000: 0.68325\n",
      "Accuracy after epoch 24000: 0.69025\n",
      "Accuracy after epoch 26000: 0.6775\n",
      "Accuracy after epoch 28000: 0.66825\n",
      "Accuracy after epoch 30000: 0.65425\n",
      "Accuracy after epoch 32000: 0.70125\n",
      "Accuracy after epoch 34000: 0.654\n",
      "Accuracy after epoch 36000: 0.7025\n",
      "Accuracy after epoch 38000: 0.717\n",
      "Accuracy after epoch 40000: 0.67275\n",
      "Accuracy after epoch 42000: 0.707\n",
      "Accuracy after epoch 44000: 0.69625\n",
      "Accuracy after epoch 46000: 0.704\n",
      "Accuracy after epoch 48000: 0.698\n",
      "Accuracy after epoch 50000: 0.7175\n",
      "Accuracy after epoch 52000: 0.69075\n",
      "Accuracy after epoch 54000: 0.71325\n",
      "Accuracy after epoch 56000: 0.70775\n",
      "Accuracy after epoch 58000: 0.67875\n",
      "Accuracy after epoch 60000: 0.6975\n",
      "Accuracy after epoch 62000: 0.6975\n",
      "Accuracy after epoch 64000: 0.701\n",
      "Accuracy after epoch 66000: 0.691\n",
      "Accuracy after epoch 68000: 0.70825\n",
      "Accuracy after epoch 70000: 0.70625\n",
      "Accuracy after epoch 72000: 0.708\n",
      "Accuracy after epoch 74000: 0.7135\n",
      "Accuracy after epoch 76000: 0.69325\n",
      "Accuracy after epoch 78000: 0.69725\n",
      "Accuracy after epoch 80000: 0.71875\n",
      "Accuracy after epoch 82000: 0.6905\n",
      "Accuracy after epoch 84000: 0.6975\n",
      "Accuracy after epoch 86000: 0.69925\n",
      "Accuracy after epoch 88000: 0.715\n",
      "Accuracy after epoch 90000: 0.723\n",
      "Accuracy after epoch 92000: 0.68525\n",
      "Accuracy after epoch 94000: 0.68925\n",
      "Accuracy after epoch 96000: 0.71925\n",
      "Accuracy after epoch 98000: 0.70175\n",
      "Accuracy after epoch 100000: 0.72425\n",
      "Accuracy after epoch 102000: 0.70675\n",
      "Accuracy after epoch 104000: 0.70625\n",
      "Accuracy after epoch 106000: 0.68475\n",
      "Accuracy after epoch 108000: 0.71875\n",
      "Accuracy after epoch 110000: 0.7055\n",
      "Accuracy after epoch 112000: 0.69975\n",
      "Accuracy after epoch 114000: 0.68775\n",
      "Accuracy after epoch 116000: 0.6815\n",
      "Accuracy after epoch 118000: 0.69425\n",
      "Accuracy after epoch 120000: 0.68825\n",
      "Accuracy after epoch 122000: 0.711\n",
      "Accuracy after epoch 124000: 0.69825\n",
      "Accuracy after epoch 126000: 0.7005\n",
      "Accuracy after epoch 128000: 0.71225\n",
      "Accuracy after epoch 130000: 0.7205\n",
      "Accuracy after epoch 132000: 0.71325\n",
      "Accuracy after epoch 134000: 0.7045\n",
      "Accuracy after epoch 136000: 0.7005\n",
      "Accuracy after epoch 138000: 0.7095\n",
      "Accuracy after epoch 140000: 0.68875\n",
      "Accuracy after epoch 142000: 0.711\n",
      "Accuracy after epoch 144000: 0.691\n",
      "Accuracy after epoch 146000: 0.6985\n",
      "Accuracy after epoch 148000: 0.72475\n",
      "Accuracy after epoch 150000: 0.70925\n",
      "Accuracy after epoch 152000: 0.7\n",
      "Accuracy after epoch 154000: 0.71875\n",
      "Accuracy after epoch 156000: 0.712\n",
      "Accuracy after epoch 158000: 0.696\n",
      "Accuracy after epoch 160000: 0.7145\n",
      "Accuracy after epoch 162000: 0.6975\n",
      "Accuracy after epoch 164000: 0.71\n",
      "Accuracy after epoch 166000: 0.7195\n",
      "Accuracy after epoch 168000: 0.7325\n",
      "Accuracy after epoch 170000: 0.68875\n",
      "Accuracy after epoch 172000: 0.7265\n",
      "Accuracy after epoch 174000: 0.71175\n",
      "Accuracy after epoch 176000: 0.70075\n",
      "Accuracy after epoch 178000: 0.70125\n",
      "Accuracy after epoch 180000: 0.71575\n",
      "Accuracy after epoch 182000: 0.699\n",
      "Accuracy after epoch 184000: 0.69775\n",
      "Accuracy after epoch 186000: 0.72\n",
      "Accuracy after epoch 188000: 0.7115\n",
      "Accuracy after epoch 190000: 0.71025\n",
      "Accuracy after epoch 192000: 0.70525\n",
      "Accuracy after epoch 194000: 0.70375\n",
      "Accuracy after epoch 196000: 0.68075\n",
      "Accuracy after epoch 198000: 0.70525\n",
      "Accuracy after epoch 200000: 0.70875\n",
      "Accuracy after epoch 202000: 0.71475\n",
      "Accuracy after epoch 204000: 0.7185\n",
      "Accuracy after epoch 206000: 0.702\n",
      "Accuracy after epoch 208000: 0.69475\n",
      "Accuracy after epoch 210000: 0.7125\n",
      "Accuracy after epoch 212000: 0.71825\n",
      "Accuracy after epoch 214000: 0.72075\n",
      "Accuracy after epoch 216000: 0.69875\n",
      "Accuracy after epoch 218000: 0.70925\n",
      "Accuracy after epoch 220000: 0.72775\n",
      "Accuracy after epoch 222000: 0.715\n",
      "Accuracy after epoch 224000: 0.7095\n",
      "Accuracy after epoch 226000: 0.716\n",
      "Accuracy after epoch 228000: 0.7215\n",
      "Accuracy after epoch 230000: 0.7225\n",
      "Accuracy after epoch 232000: 0.722\n",
      "Accuracy after epoch 234000: 0.67\n",
      "Accuracy after epoch 236000: 0.70625\n",
      "Accuracy after epoch 238000: 0.719\n",
      "Accuracy after epoch 240000: 0.7095\n",
      "Accuracy after epoch 242000: 0.7255\n",
      "Accuracy after epoch 244000: 0.70975\n",
      "Accuracy after epoch 246000: 0.717\n",
      "Accuracy after epoch 248000: 0.708\n"
     ]
    }
   ],
   "source": [
    "# trying 16 hidden units. rests are same premises as 10 units run\n",
    "hwl_mlp_16 = mlp.MLP(training_X, training_y, 16)\n",
    "\n",
    "\n",
    "\n",
    "\n",
    "# data loss is calcuated on training set\n",
    "# accuracy is calculated on testing set\n",
    "acclog,_ = hwl_mlp_16.train(batch_size=16, testset_X=testing_X, testset_y=testing_y)"
   ]
  },
  {
   "cell_type": "code",
   "execution_count": 24,
   "metadata": {
    "collapsed": false,
    "deletable": true,
    "editable": true
   },
   "outputs": [
    {
     "data": {
      "text/plain": [
       "<matplotlib.text.Text at 0x115082da0>"
      ]
     },
     "execution_count": 24,
     "metadata": {},
     "output_type": "execute_result"
    },
    {
     "data": {
      "image/png": "[encoded data removed]",
      "text/plain": [
       "<matplotlib.figure.Figure at 0x11c235668>"
      ]
     },
     "metadata": {},
     "output_type": "display_data"
    }
   ],
   "source": [
    "plt.plot([i[0] for i in acclog], [i[1] for i in acclog])\n",
    "plt.plot([i[0] for i in acclog], np.zeros((len(acclog), 1))+0.60)\n",
    "plt.plot([i[0] for i in acclog], np.zeros((len(acclog), 1))+0.65)\n",
    "plt.plot([i[0] for i in acclog], np.zeros((len(acclog), 1))+0.70)\n",
    "plt.plot([i[0] for i in acclog], np.zeros((len(acclog), 1))+0.75)\n",
    "plt.plot([i[0] for i in acclog], np.zeros((len(acclog), 1))+0.80)\n",
    "plt.title(\"Accuracy ~ Epoch HU size {0}, Batch size {1}\".format(16,16))"
   ]
  },
  {
   "cell_type": "code",
   "execution_count": 25,
   "metadata": {
    "collapsed": false,
    "deletable": true,
    "editable": true
   },
   "outputs": [],
   "source": [
    "# plt.plot([i[0] for i in losslog],[i[1] for i in losslog])\n",
    "# plt.title(\"Dataloss ~ Epoch HU size {0}, Batch size {1}\".format(16,16))"
   ]
  },
  {
   "cell_type": "code",
   "execution_count": 26,
   "metadata": {
    "collapsed": false,
    "deletable": true,
    "editable": true
   },
   "outputs": [
    {
     "name": "stdout",
     "output_type": "stream",
     "text": [
      "Accuracy after epoch 0: 0.06025\n",
      "Accuracy after epoch 2000: 0.64575\n",
      "Accuracy after epoch 4000: 0.61125\n",
      "Accuracy after epoch 6000: 0.67675\n",
      "Accuracy after epoch 8000: 0.68425\n",
      "Accuracy after epoch 10000: 0.691\n",
      "Accuracy after epoch 12000: 0.70925\n",
      "Accuracy after epoch 14000: 0.657\n",
      "Accuracy after epoch 16000: 0.7055\n",
      "Accuracy after epoch 18000: 0.7145\n",
      "Accuracy after epoch 20000: 0.73525\n",
      "Accuracy after epoch 22000: 0.74375\n",
      "Accuracy after epoch 24000: 0.74325\n",
      "Accuracy after epoch 26000: 0.74675\n",
      "Accuracy after epoch 28000: 0.746\n",
      "Accuracy after epoch 30000: 0.73775\n",
      "Accuracy after epoch 32000: 0.73475\n",
      "Accuracy after epoch 34000: 0.74175\n",
      "Accuracy after epoch 36000: 0.76125\n",
      "Accuracy after epoch 38000: 0.76625\n",
      "Accuracy after epoch 40000: 0.76575\n",
      "Accuracy after epoch 42000: 0.732\n",
      "Accuracy after epoch 44000: 0.752\n",
      "Accuracy after epoch 46000: 0.74525\n",
      "Accuracy after epoch 48000: 0.78325\n",
      "Accuracy after epoch 50000: 0.767\n",
      "Accuracy after epoch 52000: 0.75525\n",
      "Accuracy after epoch 54000: 0.77675\n",
      "Accuracy after epoch 56000: 0.7795\n",
      "Accuracy after epoch 58000: 0.778\n",
      "Accuracy after epoch 60000: 0.78475\n",
      "Accuracy after epoch 62000: 0.7795\n",
      "Accuracy after epoch 64000: 0.7875\n",
      "Accuracy after epoch 66000: 0.76475\n",
      "Accuracy after epoch 68000: 0.76875\n",
      "Accuracy after epoch 70000: 0.7865\n",
      "Accuracy after epoch 72000: 0.79075\n",
      "Accuracy after epoch 74000: 0.784\n",
      "Accuracy after epoch 76000: 0.76425\n",
      "Accuracy after epoch 78000: 0.78725\n",
      "Accuracy after epoch 80000: 0.78075\n",
      "Accuracy after epoch 82000: 0.79075\n",
      "Accuracy after epoch 84000: 0.79175\n",
      "Accuracy after epoch 86000: 0.79825\n",
      "Accuracy after epoch 88000: 0.78475\n",
      "Accuracy after epoch 90000: 0.7795\n",
      "Accuracy after epoch 92000: 0.79375\n",
      "Accuracy after epoch 94000: 0.78625\n",
      "Accuracy after epoch 96000: 0.789\n",
      "Accuracy after epoch 98000: 0.78875\n",
      "Accuracy after epoch 100000: 0.77875\n",
      "Accuracy after epoch 102000: 0.7945\n",
      "Accuracy after epoch 104000: 0.79925\n",
      "Accuracy after epoch 106000: 0.8085\n",
      "Accuracy after epoch 108000: 0.79875\n",
      "Accuracy after epoch 110000: 0.8085\n",
      "Accuracy after epoch 112000: 0.78475\n",
      "Accuracy after epoch 114000: 0.79875\n",
      "Accuracy after epoch 116000: 0.796\n",
      "Accuracy after epoch 118000: 0.7885\n",
      "Accuracy after epoch 120000: 0.80025\n",
      "Accuracy after epoch 122000: 0.797\n",
      "Accuracy after epoch 124000: 0.80025\n",
      "Accuracy after epoch 126000: 0.80825\n",
      "Accuracy after epoch 128000: 0.80425\n",
      "Accuracy after epoch 130000: 0.79875\n",
      "Accuracy after epoch 132000: 0.8\n",
      "Accuracy after epoch 134000: 0.792\n",
      "Accuracy after epoch 136000: 0.80175\n",
      "Accuracy after epoch 138000: 0.807\n",
      "Accuracy after epoch 140000: 0.8085\n",
      "Accuracy after epoch 142000: 0.8135\n",
      "Accuracy after epoch 144000: 0.80725\n",
      "Accuracy after epoch 146000: 0.80825\n",
      "Accuracy after epoch 148000: 0.79525\n",
      "Accuracy after epoch 150000: 0.80475\n",
      "Accuracy after epoch 152000: 0.8045\n",
      "Accuracy after epoch 154000: 0.81525\n",
      "Accuracy after epoch 156000: 0.801\n",
      "Accuracy after epoch 158000: 0.80975\n",
      "Accuracy after epoch 160000: 0.8015\n",
      "Accuracy after epoch 162000: 0.80975\n",
      "Accuracy after epoch 164000: 0.797\n",
      "Accuracy after epoch 166000: 0.8115\n",
      "Accuracy after epoch 168000: 0.79675\n",
      "Accuracy after epoch 170000: 0.8195\n",
      "Accuracy after epoch 172000: 0.80975\n",
      "Accuracy after epoch 174000: 0.8115\n",
      "Accuracy after epoch 176000: 0.81325\n",
      "Accuracy after epoch 178000: 0.80475\n",
      "Accuracy after epoch 180000: 0.8105\n",
      "Accuracy after epoch 182000: 0.8035\n",
      "Accuracy after epoch 184000: 0.8175\n",
      "Accuracy after epoch 186000: 0.811\n",
      "Accuracy after epoch 188000: 0.8215\n",
      "Accuracy after epoch 190000: 0.7985\n",
      "Accuracy after epoch 192000: 0.81825\n",
      "Accuracy after epoch 194000: 0.8095\n",
      "Accuracy after epoch 196000: 0.80825\n",
      "Accuracy after epoch 198000: 0.80625\n",
      "Accuracy after epoch 200000: 0.8125\n",
      "Accuracy after epoch 202000: 0.802\n",
      "Accuracy after epoch 204000: 0.8\n",
      "Accuracy after epoch 206000: 0.811\n",
      "Accuracy after epoch 208000: 0.7965\n",
      "Accuracy after epoch 210000: 0.811\n",
      "Accuracy after epoch 212000: 0.8095\n",
      "Accuracy after epoch 214000: 0.81125\n",
      "Accuracy after epoch 216000: 0.81975\n",
      "Accuracy after epoch 218000: 0.80225\n",
      "Accuracy after epoch 220000: 0.812\n",
      "Accuracy after epoch 222000: 0.81775\n",
      "Accuracy after epoch 224000: 0.80375\n",
      "Accuracy after epoch 226000: 0.7945\n",
      "Accuracy after epoch 228000: 0.7985\n",
      "Accuracy after epoch 230000: 0.804\n",
      "Accuracy after epoch 232000: 0.8105\n",
      "Accuracy after epoch 234000: 0.82175\n",
      "Accuracy after epoch 236000: 0.8165\n",
      "Accuracy after epoch 238000: 0.81775\n",
      "Accuracy after epoch 240000: 0.816\n",
      "Accuracy after epoch 242000: 0.796\n",
      "Accuracy after epoch 244000: 0.81025\n",
      "Accuracy after epoch 246000: 0.8025\n",
      "Accuracy after epoch 248000: 0.80375\n"
     ]
    }
   ],
   "source": [
    "# trying 16 hidden units. rests are same premises as 10 units run\n",
    "hwl_mlp_32 = mlp.MLP(training_X, training_y, 32)\n",
    "\n",
    "\n",
    "\n",
    "\n",
    "# data loss is calcuated on training set\n",
    "# accuracy is calculated on testing set\n",
    "acclog,_ = hwl_mlp_32.train(batch_size=16, testset_X=testing_X, testset_y=testing_y)"
   ]
  },
  {
   "cell_type": "code",
   "execution_count": 27,
   "metadata": {
    "collapsed": false,
    "deletable": true,
    "editable": true
   },
   "outputs": [
    {
     "data": {
      "text/plain": [
       "<matplotlib.text.Text at 0x11d190b70>"
      ]
     },
     "execution_count": 27,
     "metadata": {},
     "output_type": "execute_result"
    },
    {
     "data": {
      "image/png": "[encoded data removed]",
      "text/plain": [
       "<matplotlib.figure.Figure at 0x11c576dd8>"
      ]
     },
     "metadata": {},
     "output_type": "display_data"
    }
   ],
   "source": [
    "plt.plot([i[0] for i in acclog], [i[1] for i in acclog])\n",
    "plt.plot([i[0] for i in acclog], np.zeros((len(acclog), 1))+0.60)\n",
    "plt.plot([i[0] for i in acclog], np.zeros((len(acclog), 1))+0.65)\n",
    "plt.plot([i[0] for i in acclog], np.zeros((len(acclog), 1))+0.70)\n",
    "plt.plot([i[0] for i in acclog], np.zeros((len(acclog), 1))+0.75)\n",
    "plt.plot([i[0] for i in acclog], np.zeros((len(acclog), 1))+0.80)\n",
    "plt.title(\"Accuracy ~ Epoch HU size {0}, Batch size {1}\".format(32,16))"
   ]
  },
  {
   "cell_type": "code",
   "execution_count": 28,
   "metadata": {
    "collapsed": false,
    "deletable": true,
    "editable": true
   },
   "outputs": [],
   "source": [
    "# plt.plot([i[0] for i in losslog],[i[1] for i in losslog])\n",
    "\n",
    "# plt.title(\"Dataloss ~ Epoch HU size {0}, Batch size {1}\".format(32,16))"
   ]
  },
  {
   "cell_type": "markdown",
   "metadata": {
    "deletable": true,
    "editable": true
   },
   "source": [
    "### Ensemble!"
   ]
  }
 ],
 "metadata": {
  "kernelspec": {
   "display_name": "Python 3",
   "language": "python",
   "name": "python3"
  },
  "language_info": {
   "codemirror_mode": {
    "name": "ipython",
    "version": 3
   },
   "file_extension": ".py",
   "mimetype": "text/x-python",
   "name": "python",
   "nbconvert_exporter": "python",
   "pygments_lexer": "ipython3",
   "version": "3.6.0"
  }
 },
 "nbformat": 4,
 "nbformat_minor": 2
}
